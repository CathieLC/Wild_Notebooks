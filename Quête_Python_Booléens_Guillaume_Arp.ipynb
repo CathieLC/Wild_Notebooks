{
  "nbformat": 4,
  "nbformat_minor": 0,
  "metadata": {
    "colab": {
      "name": "Quête Python Booléens - Guillaume Arp.ipynb",
      "provenance": [],
      "collapsed_sections": [],
      "authorship_tag": "ABX9TyOG6tI75N5m4pLj8lm8jTCU",
      "include_colab_link": true
    },
    "kernelspec": {
      "name": "python3",
      "display_name": "Python 3"
    },
    "language_info": {
      "name": "python"
    }
  },
  "cells": [
    {
      "cell_type": "markdown",
      "metadata": {
        "id": "view-in-github",
        "colab_type": "text"
      },
      "source": [
        "<a href=\"https://colab.research.google.com/github/GuillaumeArp/Wild_Notebooks/blob/main/Qu%C3%AAte_Python_Bool%C3%A9ens_Guillaume_Arp.ipynb\" target=\"_parent\"><img src=\"https://colab.research.google.com/assets/colab-badge.svg\" alt=\"Open In Colab\"/></a>"
      ]
    },
    {
      "cell_type": "markdown",
      "metadata": {
        "id": "gXsP4BjYx_k0"
      },
      "source": [
        "# **Borner une saisie utilisateur**"
      ]
    },
    {
      "cell_type": "code",
      "metadata": {
        "colab": {
          "base_uri": "https://localhost:8080/"
        },
        "id": "cII4vErMyCyW",
        "outputId": "a8491836-162b-480d-feac-368db89f11e8"
      },
      "source": [
        "limit_1 = int(input(\"Entrer un entier en limite basse : \"))\n",
        "limit_2 = int(input(\"Entrer un entier en limite haute : \"))\n",
        "user_number = int(input(\"Entrer un 3e nombre entier : \"))\n",
        "limit_average = (limit_1 + limit_2) / 2\n",
        "\n",
        "if user_number < limit_1:\n",
        "  print(f\"You have entered {user_number} which is lower than {limit_1} which is the minimum\")\n",
        "  print(f\"Resulting integer: {limit_1}\")\n",
        "elif user_number > limit_2:\n",
        "  print(f\"You have entered {user_number} which is higher than {limit_2} which is the maximum\")\n",
        "  print(f\"Resulting integer: {limit_2}\")\n",
        "else:\n",
        "  if user_number < limit_average:\n",
        "    print(f\"You have entered {user_number} which is closer to {limit_1} than to {limit_2}\")\n",
        "    print(f\"Resulting integer: {user_number}\")\n",
        "  elif user_number == limit_average:\n",
        "    print(f\"You have entered {user_number} which is exactly in the middle of {limit_1} and {limit_2}\")\n",
        "    print(f\"Resulting integer: {user_number}\")\n",
        "  else:\n",
        "    print(f\"You have entered {user_number} which is closer to {limit_2} than to {limit_1}\")\n",
        "    print(f\"Resulting integer: {user_number}\")\n"
      ],
      "execution_count": null,
      "outputs": [
        {
          "output_type": "stream",
          "name": "stdout",
          "text": [
            "Entrer un entier en limite basse : 50\n",
            "Entrer un entier en limite haute : 100\n",
            "Entrer un 3e nombre entier : 70\n",
            "You have entered 70 which is closer to 50 than to 100\n",
            "Resulting integer: 70\n"
          ]
        }
      ]
    },
    {
      "cell_type": "code",
      "metadata": {
        "id": "vHCH_e060yuL"
      },
      "source": [
        ""
      ],
      "execution_count": null,
      "outputs": []
    },
    {
      "cell_type": "code",
      "metadata": {
        "id": "xFR9OEIaF8PI"
      },
      "source": [
        "a = 5\n",
        "b = 15"
      ],
      "execution_count": null,
      "outputs": []
    },
    {
      "cell_type": "code",
      "metadata": {
        "id": "Vlwu_yj7Gttk"
      },
      "source": [
        "a, b = b, a"
      ],
      "execution_count": null,
      "outputs": []
    },
    {
      "cell_type": "code",
      "metadata": {
        "id": "KIeOhZeHGyUi",
        "colab": {
          "base_uri": "https://localhost:8080/"
        },
        "outputId": "5aabacc7-7bea-447e-9877-c94bb0833156"
      },
      "source": [
        "print(a)"
      ],
      "execution_count": null,
      "outputs": [
        {
          "output_type": "stream",
          "name": "stdout",
          "text": [
            "15\n"
          ]
        }
      ]
    },
    {
      "cell_type": "code",
      "metadata": {
        "id": "8nS75yUnGz5U",
        "colab": {
          "base_uri": "https://localhost:8080/"
        },
        "outputId": "c3173107-743a-4cd2-9a6d-b8aa91e3a91b"
      },
      "source": [
        "print(b)"
      ],
      "execution_count": null,
      "outputs": [
        {
          "output_type": "stream",
          "name": "stdout",
          "text": [
            "5\n"
          ]
        }
      ]
    },
    {
      "cell_type": "code",
      "metadata": {
        "id": "6uidjjIVG06c"
      },
      "source": [
        ""
      ],
      "execution_count": null,
      "outputs": []
    }
  ]
}