{
  "nbformat": 4,
  "nbformat_minor": 0,
  "metadata": {
    "colab": {
      "name": "Quête Python Booléens - Guillaume Arp.ipynb",
      "provenance": [],
      "collapsed_sections": [],
      "authorship_tag": "ABX9TyPG+imwgDFbolgseaA4XZRM",
      "include_colab_link": true
    },
    "kernelspec": {
      "name": "python3",
      "display_name": "Python 3"
    },
    "language_info": {
      "name": "python"
    }
  },
  "cells": [
    {
      "cell_type": "markdown",
      "metadata": {
        "id": "view-in-github",
        "colab_type": "text"
      },
      "source": [
        "<a href=\"https://colab.research.google.com/github/GuillaumeArp/Wild_Notebooks/blob/main/Qu%C3%AAte_Python_Bool%C3%A9ens_Guillaume_Arp.ipynb\" target=\"_parent\"><img src=\"https://colab.research.google.com/assets/colab-badge.svg\" alt=\"Open In Colab\"/></a>"
      ]
    },
    {
      "cell_type": "markdown",
      "metadata": {
        "id": "gXsP4BjYx_k0"
      },
      "source": [
        "# **Borner une saisie utilisateur**"
      ]
    },
    {
      "cell_type": "code",
      "metadata": {
        "colab": {
          "base_uri": "https://localhost:8080/"
        },
        "id": "cII4vErMyCyW",
        "outputId": "60536814-7512-4f95-cf7d-8fd2078fb6f7"
      },
      "source": [
        "limit_1 = int(input(\"Entrer un entier en limite basse : \"))\n",
        "limit_2 = int(input(\"Entrer un entier en limite haute : \"))\n",
        "user_number = int(input(\"Entrer un 3e nombre entier : \"))\n",
        "limit_average = (limit_1 + limit_2) / 2\n",
        "\n",
        "if user_number < limit_1:\n",
        "  print(f\"You have entered {user_number} which is lower than {limit_1} which is the minimum\")\n",
        "  print(f\"Resulting integer: {limit_1}\")\n",
        "elif user_number > limit_2:\n",
        "  print(f\"You have entered {user_number} which is higher than {limit_2} which is the maximum\")\n",
        "  print(f\"Resulting integer: {limit_2}\")\n",
        "else:\n",
        "  if user_number < limit_average:\n",
        "    print(f\"You have entered {user_number} which is closer to {limit_1} than to {limit_2}\")\n",
        "    print(f\"Resulting integer: {user_number}\")\n",
        "  elif user_number == limit_average:\n",
        "    print(f\"You have entered {user_number} which is exactly in the middle of {limit_1} and {limit_2}\")\n",
        "    print(f\"Resulting integer: {user_number}\")\n",
        "  else:\n",
        "    print(f\"You have entered {user_number} which is closer to {limit_2} than to {limit_1}\")\n",
        "    print(f\"Resulting integer: {user_number}\")\n"
      ],
      "execution_count": 1,
      "outputs": [
        {
          "output_type": "stream",
          "name": "stdout",
          "text": [
            "Entrer un entier en limite basse : 1\n",
            "Entrer un entier en limite haute : 50\n",
            "Entrer un 3e nombre entier : 20\n",
            "You have entered 20 which is closer to 1 than to 50\n",
            "Resulting integer: 20\n"
          ]
        }
      ]
    },
    {
      "cell_type": "code",
      "metadata": {
        "id": "xFR9OEIaF8PI"
      },
      "source": [
        "a = 5\n",
        "b = 15"
      ],
      "execution_count": 2,
      "outputs": []
    },
    {
      "cell_type": "code",
      "metadata": {
        "id": "Vlwu_yj7Gttk"
      },
      "source": [
        "a, b = b, a"
      ],
      "execution_count": 3,
      "outputs": []
    },
    {
      "cell_type": "code",
      "metadata": {
        "id": "KIeOhZeHGyUi",
        "colab": {
          "base_uri": "https://localhost:8080/"
        },
        "outputId": "5b1c135f-5afa-4c26-e48b-ed0b4c877973"
      },
      "source": [
        "print(a)"
      ],
      "execution_count": 4,
      "outputs": [
        {
          "output_type": "stream",
          "name": "stdout",
          "text": [
            "15\n"
          ]
        }
      ]
    },
    {
      "cell_type": "code",
      "metadata": {
        "id": "8nS75yUnGz5U",
        "colab": {
          "base_uri": "https://localhost:8080/"
        },
        "outputId": "ae1ebbb7-a122-4616-8438-524affa46963"
      },
      "source": [
        "print(b)"
      ],
      "execution_count": 5,
      "outputs": [
        {
          "output_type": "stream",
          "name": "stdout",
          "text": [
            "5\n"
          ]
        }
      ]
    }
  ]
}