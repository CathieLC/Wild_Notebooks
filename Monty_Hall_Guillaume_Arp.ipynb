{
  "nbformat": 4,
  "nbformat_minor": 0,
  "metadata": {
    "colab": {
      "name": "Monty Hall - Guillaume Arp",
      "provenance": [],
      "collapsed_sections": [],
      "include_colab_link": true
    },
    "kernelspec": {
      "name": "python3",
      "display_name": "Python 3"
    }
  },
  "cells": [
    {
      "cell_type": "markdown",
      "metadata": {
        "id": "view-in-github",
        "colab_type": "text"
      },
      "source": [
        "<a href=\"https://colab.research.google.com/github/GuillaumeArp/Wild_Notebooks/blob/main/Monty_Hall_Guillaume_Arp.ipynb\" target=\"_parent\"><img src=\"https://colab.research.google.com/assets/colab-badge.svg\" alt=\"Open In Colab\"/></a>"
      ]
    },
    {
      "cell_type": "markdown",
      "metadata": {
        "id": "s6odsFbLpgIh"
      },
      "source": [
        "# Monty Hall\n",
        "\n",
        "**Below is an example of an implementation of the Monty Hall game using native Python. It contains no comments.**"
      ]
    },
    {
      "cell_type": "markdown",
      "metadata": {
        "id": "QAqgGziZPsIZ"
      },
      "source": [
        "## Mission 1\n",
        "\n",
        "After reviewing the code below, add both **unilinear** and **multilinear** comments to explain how it works to another developer."
      ]
    },
    {
      "cell_type": "code",
      "metadata": {
        "id": "0dL7B4XiO1ft",
        "colab": {
          "base_uri": "https://localhost:8080/",
          "height": 265
        },
        "outputId": "3d3e707f-472c-47ee-c75e-acb3977b579b"
      },
      "source": [
        "import matplotlib.pyplot as plt\n",
        "from random import choice\n",
        "\n",
        "def play_one_game(strategy):\n",
        "\n",
        "  # Setting up the 3 options in a list, and deciding randomly which one is ok.\n",
        "  doors = ['A', 'B', 'C']\n",
        "  correct_door = choice(doors)\n",
        "  \n",
        "  # Choosing randomly one door, and removing it from the list so that\n",
        "  # it won't get selected by random.choice afterwards.\n",
        "  first_choice = choice(doors)\n",
        "  doors.remove(first_choice)\n",
        "\n",
        "  # The hint door is always a door not chosen, and always an empty one, a while\n",
        "  # loop is used to pick one that is empty from the redacted list of 2 options.\n",
        "  while True:\n",
        "    hint_door = choice(doors)\n",
        "    if hint_door != correct_door:\n",
        "      doors.remove(hint_door)\n",
        "      break\n",
        "\n",
        "  # The strategy defined as the function argument is handled here. The argument\n",
        "  # can only be either \"change\" or \"keep\", any other string will raise an error.\n",
        "  # If changing door, a random choice is run between the 2 remaining doors.\n",
        "  if strategy.lower() == \"change\":\n",
        "      second_choice = choice(doors)\n",
        "  elif strategy.lower() == \"keep\":\n",
        "      second_choice = first_choice\n",
        "  else:\n",
        "      raise ValueError(\"Strategy not recognized!\")\n",
        "  \n",
        "  # Will return True if the second choice matches the correct door.\n",
        "  return second_choice == correct_door\n",
        "\n",
        "\n",
        "# This function accepts a strategy (\"choice\" or \"keep\" only) and a number of\n",
        "# turns, and runs the previous function the number of times passed as argument.\n",
        "# Each True addes 1 to a list, and False returns 0, so it can be plotted.\n",
        "def play_many_games(strategy, nb_turns):\n",
        "    return list(1 if play_one_game(strategy) else 0 for i in range(nb_turns))\n",
        "\n",
        "# Plots the lists returned from the function as bar plot counting 1s and 0s.\n",
        "plot = plt.bar([1, 2],\n",
        "               [sum(play_many_games(\"change\", 10000)), sum(play_many_games(\"keep\", 10000))], \n",
        "               tick_label=[\"Change\", \"Keep\"])"
      ],
      "execution_count": null,
      "outputs": [
        {
          "output_type": "display_data",
          "data": {
            "image/png": "[encoded data removed]",
            "text/plain": [
              "<Figure size 432x288 with 1 Axes>"
            ]
          },
          "metadata": {
            "needs_background": "light"
          }
        }
      ]
    },
    {
      "cell_type": "markdown",
      "metadata": {
        "id": "KPuEESZDP-C-"
      },
      "source": [
        "# Mission 2\n",
        "\n",
        "To make sure you understood the code, in a new cell, change up the code in mission 1 to add a third bar, corresponding to a new strategy called **Alternate**. \n",
        "\n",
        "A player following it will alternate **randomly** between \"Change\" and \"Keep\".\n"
      ]
    },
    {
      "cell_type": "code",
      "metadata": {
        "id": "3R82gwZxP9oo",
        "colab": {
          "base_uri": "https://localhost:8080/",
          "height": 265
        },
        "outputId": "fc795194-8b81-4083-c155-006909610191"
      },
      "source": [
        "def play_one_game(strategy):\n",
        "\n",
        "  # Setting up the 3 options in a list, and deciding randomly which one is ok.\n",
        "  doors = ['A', 'B', 'C']  \n",
        "  correct_door = choice(doors)\n",
        "  \n",
        "  # Choosing randomly one door, and removing it from the list so that\n",
        "  # it won't get selected by random.choice afterwards.\n",
        "  first_choice = choice(doors)\n",
        "  doors.remove(first_choice)\n",
        "\n",
        "  # The hint door is always a door not chosen, and always an empty one, a while\n",
        "  # loop is used to pick one that is empty from the redacted list of 2 options.\n",
        "  while True:\n",
        "    hint_door = choice(doors)\n",
        "    if hint_door != correct_door:\n",
        "      doors.remove(hint_door)\n",
        "      break\n",
        "\n",
        "  # The strategy defined as the function argument is handled here. The argument\n",
        "  # can only be either \"change\" or \"keep\", any other string will raise an error.\n",
        "  # If changing door, a random choice is run between the 2 remaining doors.\n",
        "\n",
        "  # Adding an options list that can be randomly chosen from with alternate\n",
        "  # strategy.\n",
        "  options = [choice(doors), first_choice]\n",
        "  \n",
        "  if strategy.lower() == \"change\":\n",
        "      second_choice = choice(doors)\n",
        "  elif strategy.lower() == \"keep\":\n",
        "      second_choice = first_choice\n",
        "  elif strategy.lower() == \"alternate\":\n",
        "      second_choice = choice(options)\n",
        "  else:\n",
        "      raise ValueError(\"Strategy not recognized!\")\n",
        "  \n",
        "  # Will return True if the second choice matches the correct door.\n",
        "  return second_choice == correct_door\n",
        "\n",
        "\n",
        "# This function accepts a strategy (\"choice\" or \"keep\" only) and a number of\n",
        "# turns, and runs the previous function the number of times passed as argument.\n",
        "# Each True addes 1 to a list, and False returns 0, so it can be plotted.\n",
        "def play_many_games(strategy, nb_turns):\n",
        "    return list(1 if play_one_game(strategy) else 0 for i in range(nb_turns))\n",
        "\n",
        "# Plots the lists returned from the function as bar plot counting 1s and 0s.\n",
        "plot = plt.bar([1, 2, 3],\n",
        "               [sum(play_many_games(\"change\", 10000)), sum(play_many_games(\"keep\", 10000)), sum(play_many_games(\"alternate\", 10000))], \n",
        "               tick_label=[\"Change\", \"Keep\", \"Alternate\"])"
      ],
      "execution_count": null,
      "outputs": [
        {
          "output_type": "display_data",
          "data": {
            "image/png": "[encoded data removed]",
            "text/plain": [
              "<Figure size 432x288 with 1 Axes>"
            ]
          },
          "metadata": {
            "needs_background": "light"
          }
        }
      ]
    },
    {
      "cell_type": "markdown",
      "metadata": {
        "id": "VPjKxsbQQbbx"
      },
      "source": [
        "# Mission 3\n",
        "\n",
        "Now, re-code the Monty Hall game using NumPy. **Do not use Python lists, the built-in `random` module, or any for or while loops in the code**. NumPy contains all the mechanisms you need to achieve the same result.\n",
        "\n",
        "Finally, combine the 2 functions, `play_one_game` and `play_many_games`. In other words, **your NumPy program should now contain only one function**. Obviously, **the visual should be the same as in mission 2**."
      ]
    },
    {
      "cell_type": "code",
      "metadata": {
        "id": "IwRDK_YtQbre"
      },
      "source": [
        "import numpy as np\n",
        "import matplotlib.pyplot as plt\n",
        "\n",
        "\n",
        "def monty_hall_numpy(nb_turns):\n",
        "\n",
        "    # Creating random arrays containing 0, 1 or 2 representing the 3 doors.\n",
        "    # The size is the function argument.\n",
        "    correct_doors = np.random.randint(0, 3, size=nb_turns)\n",
        "    first_choices = np.random.randint(0, 3, size=nb_turns)\n",
        "\n",
        "    # Creating a mask of the same length, with random values being 0 or 1,\n",
        "    # representing the alternate strategy, 1 being change door.\n",
        "    mask = np.random.randint(0, 2, first_choices.shape)\n",
        "    # Applying a np.where filter that, if True, adds a 1 if the first choice\n",
        "    # was not the correct door, and if False, adds one if the first choice was\n",
        "    # correct. The array is summed to count the wins.\n",
        "    alternate_wins = np.sum(np.where(mask == 1, first_choices != correct_doors, first_choices == correct_doors))\n",
        "\n",
        "    # Counts a win for the keep if the first choice was correct, and a win for\n",
        "    # the change if the first choice was incorrect, keeping in mind that in case\n",
        "    # of a change, the only other possibility is the correct door.\n",
        "    change_wins = (correct_doors != first_choices)\n",
        "    keep_wins = (correct_doors == first_choices)\n",
        "\n",
        "    # Plotting the results in a bar plot.\n",
        "    plot = plt.bar([1, 2, 3],\n",
        "                   [change_wins.sum(), keep_wins.sum(), alternate_wins],\n",
        "                   tick_label=[\"Change\", \"Keep\", \"Alternate\"])"
      ],
      "execution_count": null,
      "outputs": []
    },
    {
      "cell_type": "code",
      "metadata": {
        "colab": {
          "base_uri": "https://localhost:8080/",
          "height": 265
        },
        "id": "3Q2hi8HENEqP",
        "outputId": "d30c3513-d3d5-4525-acd3-ce245d991b53"
      },
      "source": [
        "monty_hall_numpy(10000)"
      ],
      "execution_count": null,
      "outputs": [
        {
          "output_type": "display_data",
          "data": {
            "image/png": "[encoded data removed]",
            "text/plain": [
              "<Figure size 432x288 with 1 Axes>"
            ]
          },
          "metadata": {
            "needs_background": "light"
          }
        }
      ]
    }
  ]
}