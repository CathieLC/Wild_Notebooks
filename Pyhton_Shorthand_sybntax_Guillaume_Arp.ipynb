{
  "nbformat": 4,
  "nbformat_minor": 0,
  "metadata": {
    "colab": {
      "name": "Pyhton Shorthand sybntax - Guillaume Arp.ipynb",
      "provenance": [],
      "authorship_tag": "ABX9TyMHREpNcGWe8sxP5ThW0FIY",
      "include_colab_link": true
    },
    "kernelspec": {
      "name": "python3",
      "display_name": "Python 3"
    },
    "language_info": {
      "name": "python"
    }
  },
  "cells": [
    {
      "cell_type": "markdown",
      "metadata": {
        "id": "view-in-github",
        "colab_type": "text"
      },
      "source": [
        "<a href=\"https://colab.research.google.com/github/GuillaumeArp/Wild_Notebooks/blob/main/Pyhton_Shorthand_sybntax_Guillaume_Arp.ipynb\" target=\"_parent\"><img src=\"https://colab.research.google.com/assets/colab-badge.svg\" alt=\"Open In Colab\"/></a>"
      ]
    },
    {
      "cell_type": "markdown",
      "metadata": {
        "id": "JrytFH0D81Ai"
      },
      "source": [
        "Une fonction qui convertit des montants en dollars vers des montants en euros (prends le cours euro/dollar du jour où tu fais la quête)."
      ]
    },
    {
      "cell_type": "code",
      "metadata": {
        "colab": {
          "base_uri": "https://localhost:8080/"
        },
        "id": "X0uBO8x0BSmv",
        "outputId": "07162548-cad7-4aa0-d528-5fce7d80ccc5"
      },
      "source": [
        "def dollar_to_euro_long(num):\n",
        "  return num * 0.86\n",
        "\n",
        "dollar_to_euro_long(12)"
      ],
      "execution_count": null,
      "outputs": [
        {
          "output_type": "execute_result",
          "data": {
            "text/plain": [
              "10.32"
            ]
          },
          "metadata": {},
          "execution_count": 11
        }
      ]
    },
    {
      "cell_type": "code",
      "metadata": {
        "colab": {
          "base_uri": "https://localhost:8080/"
        },
        "id": "CK_z3EY1825T",
        "outputId": "58a78efc-1f3c-4e4d-af6d-b7a6a5555c53"
      },
      "source": [
        "dollar_to_euro = lambda x: x * 0.86\n",
        "\n",
        "dollar_to_euro(12)"
      ],
      "execution_count": null,
      "outputs": [
        {
          "output_type": "execute_result",
          "data": {
            "text/plain": [
              "10.32"
            ]
          },
          "metadata": {},
          "execution_count": 1
        }
      ]
    },
    {
      "cell_type": "markdown",
      "metadata": {
        "id": "sCubA09o9Msd"
      },
      "source": [
        "Une fonction qui renvoie la somme des nombres pairs présents dans une liste contenant des nombres entiers."
      ]
    },
    {
      "cell_type": "code",
      "metadata": {
        "colab": {
          "base_uri": "https://localhost:8080/"
        },
        "id": "6d4xOGt3Bg9b",
        "outputId": "8542f796-cab9-4836-e686-26a88781b8f1"
      },
      "source": [
        "def sum_even(lst):\n",
        "  sum_list = 0\n",
        "  for i in lst:\n",
        "    if i % 2 == 0:\n",
        "      sum_list += i\n",
        "  return sum_list\n",
        "\n",
        "sum_even(range(13))"
      ],
      "execution_count": null,
      "outputs": [
        {
          "output_type": "execute_result",
          "data": {
            "text/plain": [
              "42"
            ]
          },
          "metadata": {},
          "execution_count": 17
        }
      ]
    },
    {
      "cell_type": "code",
      "metadata": {
        "colab": {
          "base_uri": "https://localhost:8080/"
        },
        "id": "9U-VoGgc9Qyk",
        "outputId": "5b3d8265-c7c6-4940-d4a4-577e2cf74e10"
      },
      "source": [
        "even_num = lambda x: sum([i for i in x if i % 2 == 0])\n",
        "\n",
        "even_num(range(13))"
      ],
      "execution_count": null,
      "outputs": [
        {
          "output_type": "execute_result",
          "data": {
            "text/plain": [
              "42"
            ]
          },
          "metadata": {},
          "execution_count": 18
        }
      ]
    },
    {
      "cell_type": "markdown",
      "metadata": {
        "id": "SOR-Zz7yAn4X"
      },
      "source": [
        "Un script qui convertit une liste de nombres entiers positifs ou négatifs) en une nouvelle liste contenant les valeurs absolues."
      ]
    },
    {
      "cell_type": "code",
      "metadata": {
        "id": "jfmZWSHuBljO"
      },
      "source": [
        "test_list = [0, 3, -6, 9, 12, -15, 18, -21, 24, 27]"
      ],
      "execution_count": null,
      "outputs": []
    },
    {
      "cell_type": "code",
      "metadata": {
        "colab": {
          "base_uri": "https://localhost:8080/"
        },
        "id": "BQ1frCKzBnYP",
        "outputId": "bcb9cf2c-1d47-4740-aa31-5f46f32530b1"
      },
      "source": [
        "def list_abs(lst):\n",
        "  new_list = []\n",
        "  for i in lst:\n",
        "    new_list.append(abs(i))\n",
        "  return new_list\n",
        "\n",
        "list_abs(test_list)"
      ],
      "execution_count": null,
      "outputs": [
        {
          "output_type": "execute_result",
          "data": {
            "text/plain": [
              "[0, 3, 6, 9, 12, 15, 18, 21, 24, 27]"
            ]
          },
          "metadata": {},
          "execution_count": 19
        }
      ]
    },
    {
      "cell_type": "code",
      "metadata": {
        "colab": {
          "base_uri": "https://localhost:8080/"
        },
        "id": "Ru-CeaMMAoZi",
        "outputId": "8b927d9e-d88e-4646-cc9b-03ef480eb69d"
      },
      "source": [
        "abs_list = lambda x: [abs(i) for i in x]\n",
        "\n",
        "abs_list(test_list)"
      ],
      "execution_count": null,
      "outputs": [
        {
          "output_type": "execute_result",
          "data": {
            "text/plain": [
              "[0, 3, 6, 9, 12, 15, 18, 21, 24, 27]"
            ]
          },
          "metadata": {},
          "execution_count": 20
        }
      ]
    }
  ]
}