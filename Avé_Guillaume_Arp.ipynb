{
  "nbformat": 4,
  "nbformat_minor": 0,
  "metadata": {
    "colab": {
      "name": "Avé Guillaume Arp.ipynb",
      "provenance": [],
      "authorship_tag": "ABX9TyMcsuMhVbEafiOp4UKaqU1Y",
      "include_colab_link": true
    },
    "kernelspec": {
      "name": "python3",
      "display_name": "Python 3"
    },
    "language_info": {
      "name": "python"
    }
  },
  "cells": [
    {
      "cell_type": "markdown",
      "metadata": {
        "id": "view-in-github",
        "colab_type": "text"
      },
      "source": [
        "<a href=\"https://colab.research.google.com/github/GuillaumeArp/Wild_Notebooks/blob/main/Av%C3%A9_Guillaume_Arp.ipynb\" target=\"_parent\"><img src=\"https://colab.research.google.com/assets/colab-badge.svg\" alt=\"Open In Colab\"/></a>"
      ]
    },
    {
      "cell_type": "markdown",
      "metadata": {
        "id": "5hvh97FNVOx7"
      },
      "source": [
        "# Déchiffrement de phrase"
      ]
    },
    {
      "cell_type": "code",
      "metadata": {
        "id": "881XxgyUVTlm"
      },
      "source": [
        "# Phrase à déchiffrer : \n",
        "\n",
        "# Dlzo iyv ab jvklz lu wfaovu thpualuhua\n",
        "\n",
        "# Clé de chiffrement : -7"
      ],
      "execution_count": null,
      "outputs": []
    },
    {
      "cell_type": "code",
      "metadata": {
        "id": "0wIWI_3jVWc3"
      },
      "source": [
        "\n",
        "\n",
        "def decrypt_ceasar(sentence, key):\n",
        "    \"\"\"\n",
        "    Cette fonction accepte deux arguments, la séquence à décoder et la clé,\n",
        "    et retourne la séquence décodée à l'aide de la clé.\n",
        "    Cela permet aussi d'encoder une séquence à l'aide d'une clé choisie.\n",
        "    \"\"\"\n",
        "\n",
        "    decrypt_code = []\n",
        "    modified_code = []\n",
        "    finished_sentence = ''\n",
        "    alphabet = \"abcdefghijklmnopqrstuvwxyz\"\n",
        "\n",
        "    for i in sentence.lower():\n",
        "        if i == ' ':\n",
        "            decrypt_code.append(i)\n",
        "        else:\n",
        "            decrypt_code.append(alphabet.index(i))\n",
        "\n",
        "    for j in decrypt_code:\n",
        "        if j == ' ':\n",
        "            modified_code.append(' ')\n",
        "        else:\n",
        "            modified_code.append(j + key)\n",
        "\n",
        "    for k in modified_code:\n",
        "        if k == ' ':\n",
        "            finished_sentence += ' '\n",
        "        elif k <= 25:\n",
        "            finished_sentence += alphabet[k]\n",
        "        else:\n",
        "            finished_sentence += alphabet[k - 26]\n",
        "\n",
        "    for index in range(len(finished_sentence)):\n",
        "        if sentence[index].isupper():\n",
        "            finished_sentence = finished_sentence[:index] + finished_sentence[index].upper() + finished_sentence[index+1:]\n",
        "\n",
        "    return finished_sentence"
      ],
      "execution_count": null,
      "outputs": []
    },
    {
      "cell_type": "code",
      "metadata": {
        "colab": {
          "base_uri": "https://localhost:8080/"
        },
        "id": "IyDT0iLWV6aG",
        "outputId": "b1f48fa8-8727-489b-968f-4dbf8c6ddeb5"
      },
      "source": [
        "coded = \"Dlzo iyv ab jvklz lu wfaovu thpualuhua\"\n",
        "\n",
        "decoded = decrypt_ceasar(coded, -7)\n",
        "print(decoded)"
      ],
      "execution_count": null,
      "outputs": [
        {
          "output_type": "stream",
          "name": "stdout",
          "text": [
            "Wesh bro tu codes en python maintenant\n"
          ]
        }
      ]
    },
    {
      "cell_type": "code",
      "metadata": {
        "colab": {
          "base_uri": "https://localhost:8080/"
        },
        "id": "pD3s2iXQAL07",
        "outputId": "b97caf76-6b1b-4b0c-e932-dc366dd77ed9"
      },
      "source": [
        "recoded = decrypt_ceasar(decoded, 7)\n",
        "print(recoded)"
      ],
      "execution_count": null,
      "outputs": [
        {
          "output_type": "stream",
          "name": "stdout",
          "text": [
            "Dlzo iyv ab jvklz lu wfaovu thpualuhua\n"
          ]
        }
      ]
    }
  ]
}