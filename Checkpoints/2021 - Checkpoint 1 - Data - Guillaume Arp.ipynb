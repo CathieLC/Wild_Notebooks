{
  "cells": [
    {
      "cell_type": "markdown",
      "metadata": {
        "colab_type": "text",
        "id": "view-in-github"
      },
      "source": [
        "<a href=\"https://colab.research.google.com/github/GuillaumeArp/Wild_Notebooks/blob/main/2021_Q1_Checkpoint_1_data_Guillaume_Arp.ipynb\" target=\"_parent\"><img src=\"https://colab.research.google.com/assets/colab-badge.svg\" alt=\"Open In Colab\"/></a>"
      ]
    },
    {
      "cell_type": "markdown",
      "metadata": {
        "id": "TYrzh-8uK9ib"
      },
      "source": [
        "C'est ton premier checkpoint.\n",
        "Les 5 exercices sont indépendants. Tu peux donc les effectuer dans l'ordre que tu préfères.\n",
        "\n",
        "Essaye de finir ce checkpoint en 4h. Si tu n'as pas tout fini, ce n'est pas grave. Tu pourras le reprendre plus tard, tu indiqueras simplement en commentaire ce que tu as fait a posteriori.\n",
        "Nous t'avons indiqué des durées estimatives. Evidemment chacun a ses forces et ses faiblesses, avance donc à ton rythme. Cependant, si tu vois que tu dépasses une durée, ne reste pas bloqué, passe à l'exercice suivant. Tu pourras revenir à la fin sur ce que tu n'as pas fini."
      ]
    },
    {
      "cell_type": "markdown",
      "metadata": {
        "id": "815_otfHPX5a"
      },
      "source": [
        "#SQL - 45 min"
      ]
    },
    {
      "cell_type": "markdown",
      "metadata": {
        "id": "b2l_0IGPQgpp"
      },
      "source": [
        "A partir de la base de données client que [tu trouveras ici](https://www.w3schools.com/sql/trysql.asp?filename=trysql_op_in), crée une requête SQL qui fournit les noms de chaque catégorie, le chiffre d'affaire associé à cette catégorie, et le prix moyen pondéré des produits vendus pour cette catégorie. \n",
        "\n",
        "Le chiffre d'affaire sera arrondi à l'unité la plus proche, et le prix moyen comportera 2 décimales.\n",
        "\n",
        "Ce tableau devra être trié pour avoir les catégories avec le chiffre d'affaire le plus élevé en premier.\n",
        "\n",
        "Le code SQL devra être copié / collé dans un bloc de code ci-dessous.\n",
        "\n",
        "\n",
        "\n",
        "*** Voici les premières lignes attendues ***\n",
        "*********************\n",
        "\n",
        "Categories | Chiffre_d_affaire | Prix_moyen\n",
        "- |:-: | -:\n",
        "Beverages | 99465 | 43.45\n",
        "Dairy Products | 69921 | 26.88\n",
        "... | ... | ...\n",
        "\n",
        "Le lien précédent te permet de travailler directement dans ton navigateur (Chrome uniquement, ne fonctionne pas sur Firefox). Si tu préfères travailler en local sur MySQL Workbench, [voici un script pour charger la base](\n",
        "https://github.com/AndrejPHP/w3schools-database/blob/master/w3schools.sql)."
      ]
    },
    {
      "cell_type": "markdown",
      "metadata": {
        "id": "2m89PZaK3LEN"
      },
      "source": [
        "-- Ton code SQL ici :"
      ]
    },
    {
      "cell_type": "code",
      "execution_count": 1,
      "metadata": {
        "colab": {
          "base_uri": "https://localhost:8080/",
          "height": 52
        },
        "id": "bRd5eTTlPZIZ",
        "outputId": "e495e903-5002-4867-cad2-86e5a2e91996"
      },
      "outputs": [],
      "source": [
        "# SELECT c.CategoryName AS Categories, ROUND(SUM(od.Quantity * p.Price)) AS Chiffre_d_affaire, ROUND(SUM(od.Quantity * p.Price)/ SUM(od.Quantity), 2) AS Prix_moyen\n",
        "# FROM Categories c\n",
        "# JOIN Products p ON p.CategoryID = c. CategoryID\n",
        "# JOIN OrderDetails od on od.ProductID = p.ProductID\n",
        "# GROUP BY 1\n",
        "# ORDER BY 2 DESC;"
      ]
    },
    {
      "cell_type": "markdown",
      "metadata": {
        "id": "JnOBqXLAHJju"
      },
      "source": [
        "# Tableur - 45 min"
      ]
    },
    {
      "cell_type": "markdown",
      "metadata": {
        "id": "i-astmsSHLGn"
      },
      "source": [
        "Le responsable du reporting mensuel est absent, et il faut absolument envoyer le reporting de chiffre d'affaire (quantité * prix de chaque produit) aujourd'hui... mais impossible de remettre la main sur le fichier du mois dernier !\n",
        "\n",
        "Heureusement, tu as trouvé comment extraire les données, [tu les trouveras ici.](https://docs.google.com/spreadsheets/d/1T7zh6Swn4Yj8Feu-xcp-B7xeOQfBoBSWn7sRjx07GvI/edit?usp=sharing)\n",
        "\n",
        "Tu vas maintenant devoir recréer un graphique qui ressemblera au maximum à celui-ci, mais en incluant les données de septembre 2020. Tu en profiteras pour ajouter l'affichage des mois sous les colonnes. Tu essaieras au maximum d'utiliser les tableaux croisés dynamiques pour faire ca.\n",
        "\n",
        "Tu incluras l'image du graphique dans ce notebook, et tu indiqueras également le lien de ton google spreadsheet que tu auras pris soin de partager.\n",
        "\n",
        "![Tableur checkpoint](https://github.com/murpi/wilddata/raw/master/checkpoint1_withoutdate.png)"
      ]
    },
    {
      "cell_type": "markdown",
      "metadata": {
        "id": "qKPV7dbA5uhj"
      },
      "source": [
        "[Lien du spreadhseet](https://docs.google.com/spreadsheets/d/1BVCGeJIuFC5y9F0wPhCMyP0n81kQxojZiXfYi49Rodc/edit?usp=sharing)"
      ]
    },
    {
      "cell_type": "markdown",
      "metadata": {
        "id": "0uYgBG5K5i9w"
      },
      "source": [
        "![CA mensuel.png](data:image/png;base64,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)"
      ]
    },
    {
      "cell_type": "markdown",
      "metadata": {
        "id": "3k1iqC3wffyB"
      },
      "source": [
        "# Python : Algo 1 - 30 min\n",
        "\n",
        "Un magasin importe des produits américains et les revend sur le marché européen. Il propose à ses clients un discount pour les produits les plus chers (10% de réduction à partir de 500 euros d'achat, 15% à partir de 1000 euros, et 20% à partir de 2000 euros).\n",
        "\n",
        "Le magasin a une liste de prix en dollars et fait appel à tes services pour déterminer pour chaque prix, le montant que paiera le client en euros (après application de la remise). \n"
      ]
    },
    {
      "cell_type": "markdown",
      "metadata": {
        "id": "YWW9llTJhEMT"
      },
      "source": [
        "Crée une fonction `dollar_to_euro` qui prend en paramètre un nombre décimal et retourne le montant converti en euro (dans le sens dollar vers euro, prends le taux en vigueur le jour du checkpoint)."
      ]
    },
    {
      "cell_type": "code",
      "execution_count": 1,
      "metadata": {
        "id": "dQeMAFaahD81"
      },
      "outputs": [],
      "source": [
        "def dollar_to_euro(num):\n",
        "  conversion_rate = 0.86\n",
        "  return num * conversion_rate"
      ]
    },
    {
      "cell_type": "markdown",
      "metadata": {
        "id": "GP0WRUWskAxN"
      },
      "source": [
        "Crée une fonction `discount` qui prend en paramètre un nombre décimal et retourne le pourcentage de réduction :\n",
        "- 0.10 si l'argument est supérieur à 500\n",
        "- 0.15 si l'argument est supérieur à 1000\n",
        "- 0.20 si l'argument est supérieur à 2000"
      ]
    },
    {
      "cell_type": "code",
      "execution_count": 2,
      "metadata": {
        "id": "54K2IrDrj_p-"
      },
      "outputs": [],
      "source": [
        "def discount(num):\n",
        "  if num >= 2000:\n",
        "    return 0.20\n",
        "  elif num >= 1000:\n",
        "    return 0.15\n",
        "  elif num >= 500:\n",
        "    return 0.10    "
      ]
    },
    {
      "cell_type": "markdown",
      "metadata": {
        "id": "2UDkCCsOkkfI"
      },
      "source": [
        "Utilise tes deux fonctions pour afficher une phrase pour chacun des montants de cette liste de prix en dollars, indiquant le montant à payer en euros."
      ]
    },
    {
      "cell_type": "code",
      "execution_count": 3,
      "metadata": {
        "colab": {
          "base_uri": "https://localhost:8080/"
        },
        "id": "zJwtL9H_kxXR",
        "outputId": "a0a25a6e-019a-457c-c257-f4f83295e17b"
      },
      "outputs": [
        {
          "name": "stdout",
          "output_type": "stream",
          "text": [
            "Prix à payer : 220.16 €\n",
            "Prix à payer : 1065.8 €\n",
            "Prix à payer : 1642.26 €\n",
            "Prix à payer : 517.81 €\n",
            "Prix à payer : 436.88 €\n",
            "Prix à payer : 997.82 €\n"
          ]
        }
      ],
      "source": [
        "price_list = [256, 1458, 2387, 669, 508, 1365]\n",
        "\n",
        "for i in price_list:\n",
        "  if dollar_to_euro(i) < 500:\n",
        "    print(f\"Prix à payer : {dollar_to_euro(i)} €\")\n",
        "  else:\n",
        "    print(f\"Prix à payer : {round(dollar_to_euro(i) - discount(i) *  dollar_to_euro(i), 2)} €\")"
      ]
    },
    {
      "cell_type": "markdown",
      "metadata": {
        "id": "To2TYJGuPwc-"
      },
      "source": [
        "# Python : Algo 2 - 1h"
      ]
    },
    {
      "cell_type": "markdown",
      "metadata": {
        "id": "B0XiM5wcQbY8"
      },
      "source": [
        "Ecris une fonction *monnaie_a_rendre()* qui prend deux arguments obligatoires : \n",
        "- montant de l'achat : float, supérieur à 0\n",
        "- monnaie du client : integer, supérieur à 0\n",
        "\n",
        "La fonction devra afficher la monnaie à rendre au client en un minimum de billets/pièces. \n",
        "\n",
        "Attention, si la monnaie du client est insuffisante (inférieure à l'achat), il faudra l'indiquer.\n",
        "\n",
        "Exemple : \n",
        "\n",
        "\n",
        "```\n",
        "monnaie_a_rendre(26.57 , 40)\n",
        ">>> Nb billets 10 euros : 1\n",
        ">>> Nb pièces 2 euros : 1\n",
        ">>> Nb pièces 1 euro : 1\n",
        ">>> Nb pièces 20 cents : 2\n",
        ">>> Nb pièces 2 cents : 1\n",
        ">>> Nb pièces 1 cent : 1\n",
        "```\n",
        "\n"
      ]
    },
    {
      "cell_type": "code",
      "execution_count": 13,
      "metadata": {
        "id": "6alG3GNPPv5U"
      },
      "outputs": [],
      "source": [
        "# Ta fonction ici :\n",
        "def monnaie_a_rendre(achat, monnaie):\n",
        "  if achat <= 0 or monnaie <= 0:\n",
        "    return \"Merci de saisir des valeurs supérieures à 0.\"\n",
        "  elif monnaie < achat:\n",
        "    return \"Monnaie insuffisante pour régler cet achat.\"\n",
        "  else:\n",
        "    restant = monnaie - achat\n",
        "    monnaie_dict = {\n",
        "        200: 0,\n",
        "        100: 0,\n",
        "        50: 0,\n",
        "        20: 0,\n",
        "        10: 0,\n",
        "        5: 0,\n",
        "        2: 0,\n",
        "        1: 0,\n",
        "        0.5: 0,\n",
        "        0.2: 0,\n",
        "        0.1: 0,\n",
        "        0.05: 0,\n",
        "        0.02: 0,\n",
        "        0.01: 0,\n",
        "        }\n",
        "\n",
        "    for k, v in monnaie_dict.items():\n",
        "      monnaie_dict[k] = restant // k\n",
        "      restant %= k\n",
        "      if restant < 0.01:\n",
        "        restant = round(restant, 2)\n",
        "      elif restant == 0.0:\n",
        "        break\n",
        "\n",
        "    sorted_monnaie = sorted(monnaie_dict.items(), reverse=True)\n",
        "      \n",
        "    for i in sorted_monnaie:\n",
        "      if int(i[1]) == 0:\n",
        "        continue\n",
        "      elif i[0] >= 10:\n",
        "        print(f\" Nb billets {i[0]} euros : {int(i[1])}\")\n",
        "      elif i[0] == 2:\n",
        "        print(f\" Nb pièces {i[0]} euros : {int(i[1])}\")\n",
        "      elif i[0] == 1:\n",
        "        print(f\" Nb pièces {i[0]} euro : {int(i[1])}\")\n",
        "      elif i[0] < 1:\n",
        "        print(f\" Nb pièces {int(i[0] * 100)} cents : {int(i[1])}\")\n",
        "      elif i[0] == 0.01:\n",
        "        print(f\" Nb pièces {int(i[0] * 100)} cent : {int(i[1])}\")"
      ]
    },
    {
      "cell_type": "code",
      "execution_count": 14,
      "metadata": {
        "colab": {
          "base_uri": "https://localhost:8080/"
        },
        "id": "p2PCEpAxI20Q",
        "outputId": "0f152789-ba53-45f9-abea-901f91eecd2b"
      },
      "outputs": [
        {
          "name": "stdout",
          "output_type": "stream",
          "text": [
            " Nb billets 10 euros : 1\n",
            " Nb pièces 2 euros : 1\n",
            " Nb pièces 1 euro : 1\n",
            " Nb pièces 20 cents : 2\n",
            " Nb pièces 2 cents : 1\n",
            " Nb pièces 1 cents : 1\n"
          ]
        }
      ],
      "source": [
        "# Pour tester :\n",
        "monnaie_a_rendre(26.57 , 40)"
      ]
    },
    {
      "cell_type": "code",
      "execution_count": 21,
      "metadata": {
        "id": "L3p9DesI1CQa"
      },
      "outputs": [],
      "source": [
        "# Edit : solution ajoutée dans la première boucle pour rendre correctement le 0.01 €, intégrée hors délai à 13h58 après retour sur la solution rendue :\n",
        "\n",
        "#       if restant < 0.01:\n",
        "#         restant = round(restant, 2)"
      ]
    },
    {
      "cell_type": "code",
      "execution_count": 7,
      "metadata": {
        "colab": {
          "base_uri": "https://localhost:8080/"
        },
        "id": "XbaX6Y82PBpP",
        "outputId": "9070da9b-2af0-44fc-a88c-f5b0b367d631"
      },
      "outputs": [
        {
          "name": "stdout",
          "output_type": "stream",
          "text": [
            " Nb billets 200 euros : 2\n",
            " Nb billets 100 euros : 1\n",
            " Nb billets 50 euros : 1\n",
            " Nb billets 20 euros : 1\n",
            " Nb billets 10 euros : 1\n",
            " Nb pièces 1 euro : 1\n"
          ]
        }
      ],
      "source": [
        "# Pour tester :\n",
        "monnaie_a_rendre(49 , 635)"
      ]
    },
    {
      "cell_type": "markdown",
      "metadata": {
        "id": "YSAw1n0NNBrc"
      },
      "source": [
        "#NUMPY - 1h\n",
        "Exécute le code suivant, puis réponds aux questions.\n",
        "\n",
        "La matrice contient 12 *colonnes* correspondant chacune à un mois de l'année, et 31 *lignes*. Attention, certaines lignes ont des valeurs `nan` pour les mois de 28 et 30 jours."
      ]
    },
    {
      "cell_type": "code",
      "execution_count": 8,
      "metadata": {
        "colab": {
          "base_uri": "https://localhost:8080/"
        },
        "id": "W35UE3f6BhC2",
        "outputId": "75244a95-cee0-420b-c34e-07de8fbeeb69"
      },
      "outputs": [
        {
          "name": "stdout",
          "output_type": "stream",
          "text": [
            "C'est chargé, ta matrice numpy est disponible sous le nom de variable : temperatures_array\n"
          ]
        }
      ],
      "source": [
        "# Exécute le code ci-dessous sans rien modifier\n",
        "import numpy as np\n",
        "import pandas as pd\n",
        "temperatures_df = pd.read_csv(\"https://raw.githubusercontent.com/murpi/wilddata/master/temp2019.csv\", skiprows = 3)\n",
        "temperatures_df['jour'] = temperatures_df['DATE'].apply(lambda x: x[8:10])\n",
        "temperatures_df['mois'] = temperatures_df['DATE'].apply(lambda x: x[5:7])\n",
        "temperatures_array = temperatures_df.pivot_table(values = 'MAX_TEMPERATURE_C', index = 'jour' , columns='mois').to_numpy()\n",
        "print(\"C'est chargé, ta matrice numpy est disponible sous le nom de variable : temperatures_array\")"
      ]
    },
    {
      "cell_type": "code",
      "execution_count": 9,
      "metadata": {
        "colab": {
          "base_uri": "https://localhost:8080/"
        },
        "id": "xFBZpF-RL3p_",
        "outputId": "bc48e926-4553-469c-aa7f-ee4ddf98392a"
      },
      "outputs": [
        {
          "data": {
            "text/plain": [
              "array([[ 9.,  9., 14., 18., 17., 29., 24., 27., 23., 19., 17.,  7.],\n",
              "       [ 8.,  7., 13., 12., 15., 23., 25., 29., 24., 19., 14.,  7.],\n",
              "       [ 6.,  8., 14., 10., 15., 20., 26., 29., 26., 19., 14.,  7.],\n",
              "       [ 5.,  7., 11., 10., 11., 19., 28., 26., 20., 17., 13.,  8.],\n",
              "       [ 6., 10., 13., 10., 12., 16., 30., 25., 19., 18., 12.,  7.],\n",
              "       [ 5., 12., 12., 10., 15., 18., 31., 23., 23., 18., 13., 11.],\n",
              "       [10., 11., 11., 14., 14., 15., 28., 25., 22., 14., 11., 13.],\n",
              "       [10., 11., 12., 12., 15., 18., 27., 28., 21., 18., 11., 13.],\n",
              "       [ 7., 12., 13., 16., 15., 16., 25., 23., 17., 16., 10., 11.],\n",
              "       [ 7., 11., 12., 14., 15., 17., 28., 23., 22., 18., 11., 11.],\n",
              "       [10., 10., 11., 14., 16., 15., 26., 23., 22., 20., 11.,  9.],\n",
              "       [ 9., 12., 11., 14., 16., 16., 26., 22., 24., 21., 11., 12.],\n",
              "       [10., 10., 10., 12., 16., 18., 27., 22., 28., 20.,  9., 10.],\n",
              "       [10., 13., 11.,  9., 18., 19., 26., 20., 29., 20., 11., 12.],\n",
              "       [ 9., 15., 13., 14., 18., 18., 26., 22., 31., 16.,  8., 10.],\n",
              "       [ 8., 14., 11., 15., 17., 19., 29., 22., 21., 16.,  9., 11.],\n",
              "       [ 9., 15., 11., 19., 17., 25., 27., 19., 27., 17.,  8., 12.],\n",
              "       [ 7., 12., 11., 21., 14., 28., 22., 21., 23., 16., 10., 12.],\n",
              "       [11., 12., 12., 24., 17., 20., 26., 21., 23., 16.,  9., 13.],\n",
              "       [ 7., 13., 13., 21., 18., 20., 25., 23., 27., 15.,  7., 12.],\n",
              "       [ 7., 17., 15., 21., 20., 20., 26., 26., 28., 16., 11., 11.],\n",
              "       [ 8., 17., 18., 19., 21., 23., 33., 28., 21., 16., 10., 10.],\n",
              "       [ 7., 18., 17., 18., 21., 27., 39., 30., 20., 15., 12., 10.],\n",
              "       [ 7., 14., 13., 14., 20., 23., 33., 33., 20., 14., 12., 14.],\n",
              "       [11., 15., 12., 13., 19., 26., 32., 30., 17., 18., 13., 11.],\n",
              "       [10., 19., 12., 14., 17., 31., 22., 33., 19., 19., 14., 12.],\n",
              "       [ 8., 20., 13., 13., 19., 34., 23., 29., 19., 15., 13., 13.],\n",
              "       [ 8., 13., 14., 12., 15., 34., 23., 24., 19., 12., 13., 11.],\n",
              "       [ 9., nan, 16., 16., 15., 32., 24., 25., 20., 14., 13.,  9.],\n",
              "       [ 7., nan, 17., 18., 20., 26., 21., 30., 21., 17.,  9., 12.],\n",
              "       [ 8., nan, 19., nan, 25., nan, 23., 23., nan, 16., nan, 10.]])"
            ]
          },
          "execution_count": 9,
          "metadata": {},
          "output_type": "execute_result"
        }
      ],
      "source": [
        "temperatures_array"
      ]
    },
    {
      "cell_type": "markdown",
      "metadata": {
        "id": "H-azX8nUNO9_"
      },
      "source": [
        "Questions"
      ]
    },
    {
      "cell_type": "code",
      "execution_count": 10,
      "metadata": {
        "colab": {
          "base_uri": "https://localhost:8080/"
        },
        "id": "gXAfaemhNkzC",
        "outputId": "0c360238-d44c-42fa-c7a3-9d4fd7fe2a37"
      },
      "outputs": [
        {
          "data": {
            "text/plain": [
              "array([23,  4,  0,  1,  0,  0,  0,  0,  0,  0,  7,  7])"
            ]
          },
          "execution_count": 10,
          "metadata": {},
          "output_type": "execute_result"
        }
      ],
      "source": [
        "# Affiche un array NumPy à partir de l'array \"temperatures_array\", \n",
        "# avec le nombre de jours par mois où la température a été strictement inférieure à 10 degrés.\n",
        "\n",
        "array_temp_less_10 = sum(np.where(temperatures_array < 10, 1, 0))\n",
        "array_temp_less_10"
      ]
    },
    {
      "cell_type": "code",
      "execution_count": 11,
      "metadata": {
        "colab": {
          "base_uri": "https://localhost:8080/"
        },
        "id": "-i5BncuMRJl1",
        "outputId": "54f8636a-228f-402a-95b2-8ccfe447977a"
      },
      "outputs": [
        {
          "data": {
            "text/plain": [
              "101"
            ]
          },
          "execution_count": 11,
          "metadata": {},
          "output_type": "execute_result"
        }
      ],
      "source": [
        "# Au total sur l'année, combien y a-t-il eu de jours où la température était supérieure à 20 degrés ?\n",
        "\n",
        "array_temp_more_20 = np.sum(np.where(temperatures_array > 20, 1, 0))\n",
        "array_temp_more_20"
      ]
    },
    {
      "cell_type": "code",
      "execution_count": 24,
      "metadata": {
        "colab": {
          "base_uri": "https://localhost:8080/"
        },
        "id": "zH697iMjN-lP",
        "outputId": "5b131152-a0b8-4405-e9f1-408900f04126"
      },
      "outputs": [
        {
          "data": {
            "text/plain": [
              "13.1"
            ]
          },
          "execution_count": 24,
          "metadata": {},
          "output_type": "execute_result"
        }
      ],
      "source": [
        "# Quelle a été la température moyenne du mois de mars ?\n",
        "\n",
        "march_mean_temp = round(np.mean(temperatures_array[:, 2]), 1)\n",
        "march_mean_temp"
      ]
    },
    {
      "cell_type": "code",
      "execution_count": 25,
      "metadata": {
        "colab": {
          "base_uri": "https://localhost:8080/"
        },
        "id": "T78pPHmQOGRp",
        "outputId": "6e5786ce-3a92-4961-85f1-fc6a1f210c10"
      },
      "outputs": [
        {
          "data": {
            "text/plain": [
              "15.0"
            ]
          },
          "execution_count": 25,
          "metadata": {},
          "output_type": "execute_result"
        }
      ],
      "source": [
        "# Quelle a été la température minimale du mois de juin ?\n",
        "\n",
        "june_min_temp = np.nanmin(temperatures_array[:, 5])\n",
        "june_min_temp"
      ]
    },
    {
      "cell_type": "markdown",
      "metadata": {
        "id": "E_yz0X-2f1Ay"
      },
      "source": [
        "# POO (optionnel)\n"
      ]
    },
    {
      "cell_type": "markdown",
      "metadata": {
        "id": "LnAJMxmWf558"
      },
      "source": [
        "**Programmation orientée objet**\n",
        "\n",
        "Il t'est demandé de créer une nouvelle classe \"sentence\" qui va hériter de l'ensemble des méthodes de la classe \"str\" (*les chaines de caractères que tu connais bien en python*).\n",
        "\n",
        "Tu devras ajouter une méthode .clean() qui nettoyera les espaces en début et en fin de chaine, mettra en majuscule le premier caractère, et tous les autres caractères en minuscule, et ajoutera un point \".\" à la fin.\n",
        "\n",
        "Tu montreras le résultats en appliquant la méthode à la phrase ci-dessous.\n",
        "\n",
        "\n"
      ]
    },
    {
      "cell_type": "code",
      "execution_count": 15,
      "metadata": {
        "colab": {
          "base_uri": "https://localhost:8080/",
          "height": 35
        },
        "id": "BWf81Swnf0OH",
        "outputId": "4ca8a9af-9301-4631-f27f-253dda865e07"
      },
      "outputs": [
        {
          "data": {
            "application/vnd.google.colaboratory.intrinsic+json": {
              "type": "string"
            },
            "text/plain": [
              "\"Bonjour, aujourd'hui c'est le checkpoint.\""
            ]
          },
          "execution_count": 15,
          "metadata": {},
          "output_type": "execute_result"
        }
      ],
      "source": [
        "# Tu mettras la création de ta classe ici :\n",
        "class sentence(str):\n",
        "\n",
        "  def clean(self):\n",
        "    return self.strip().capitalize() + \".\"\n",
        "\n",
        "\n",
        "\n",
        "# Ce code permettra de tester :\n",
        "variable = \" bonjour, AUJourd'hui c'EST le cheCKpoint   \"\n",
        "variable2 = \"   aloRs ON s'amuse à éCrIrE n'iMportE commENT il PaRaiT, HUM HUM huM      \"\n",
        "test = sentence(variable)\n",
        "test2 = sentence(variable2)\n",
        "test.clean()\n"
      ]
    },
    {
      "cell_type": "code",
      "execution_count": 16,
      "metadata": {
        "colab": {
          "base_uri": "https://localhost:8080/",
          "height": 35
        },
        "id": "GuTyHJQaXMda",
        "outputId": "f83d4270-27f4-447b-ced0-f2fb7b7e1216"
      },
      "outputs": [
        {
          "data": {
            "application/vnd.google.colaboratory.intrinsic+json": {
              "type": "string"
            },
            "text/plain": [
              "\"Alors on s'amuse à écrire n'importe comment il parait, hum hum hum.\""
            ]
          },
          "execution_count": 16,
          "metadata": {},
          "output_type": "execute_result"
        }
      ],
      "source": [
        "test2.clean()"
      ]
    }
  ],
  "metadata": {
    "colab": {
      "collapsed_sections": [
        "YSAw1n0NNBrc"
      ],
      "include_colab_link": true,
      "name": "2021 Q1 Checkpoint 1 data - Guillaume Arp.ipynb",
      "provenance": []
    },
    "interpreter": {
      "hash": "e6908d2e7d5871fd595dc4a0ac7371f005a360b5daf3f2fa6e5ba34694cdee72"
    },
    "kernelspec": {
      "display_name": "Python 3.8.12 64-bit ('base': conda)",
      "name": "python3"
    },
    "language_info": {
      "codemirror_mode": {
        "name": "ipython",
        "version": 3
      },
      "file_extension": ".py",
      "mimetype": "text/x-python",
      "name": "python",
      "nbconvert_exporter": "python",
      "pygments_lexer": "ipython3",
      "version": "3.8.12"
    }
  },
  "nbformat": 4,
  "nbformat_minor": 0
}
