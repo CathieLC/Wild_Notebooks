{
  "nbformat": 4,
  "nbformat_minor": 0,
  "metadata": {
    "colab": {
      "name": "Helping Statisticians - EN - Part 2 - Guillaume Arp.ipynb",
      "provenance": [],
      "collapsed_sections": [],
      "include_colab_link": true
    },
    "kernelspec": {
      "name": "python3",
      "display_name": "Python 3"
    }
  },
  "cells": [
    {
      "cell_type": "markdown",
      "metadata": {
        "id": "view-in-github",
        "colab_type": "text"
      },
      "source": [
        "<a href=\"https://colab.research.google.com/github/GuillaumeArp/Wild_Notebooks/blob/main/Helping_Statisticians_EN_Part_2_Guillaume_Arp.ipynb\" target=\"_parent\"><img src=\"https://colab.research.google.com/assets/colab-badge.svg\" alt=\"Open In Colab\"/></a>"
      ]
    },
    {
      "cell_type": "markdown",
      "metadata": {
        "id": "co2X9cGIieV0"
      },
      "source": [
        "# Help for statisticians!\n",
        "\n",
        "Your fellow statisticians need you. They want to learn how to program in Python and have tons of calculations to do.\n",
        "\n",
        "Very kindly, you agree to help them. Complete the missions below."
      ]
    },
    {
      "cell_type": "markdown",
      "metadata": {
        "id": "rvnKhKV7CVoS"
      },
      "source": [
        "![Einstien le génie](https://wallup.net/wp-content/uploads/2018/09/30/201016-funny-albert-einstein-748x468.jpg)"
      ]
    },
    {
      "cell_type": "markdown",
      "metadata": {
        "id": "CLFkEk_Fm9d4"
      },
      "source": [
        "## Your colleagues are impressed. So they show you some more exercises that they're stuck on. Code your heart out, you go for it ^^"
      ]
    },
    {
      "cell_type": "code",
      "metadata": {
        "id": "pIoUqiKynBbe",
        "colab": {
          "base_uri": "https://localhost:8080/",
          "height": 35
        },
        "outputId": "8b619e0f-b693-4114-a900-d0d6edb490fb"
      },
      "source": [
        "# Mission 9: Create a function that takes a day as a parameter and returns the next day (i.e. for Sunday it would return Monday). \n",
        "# You can use lists or dictionaries to solve this.\n",
        "\n",
        "def next_day(day_string):\n",
        "    day_string = day_string.capitalize()\n",
        "    days_list = ['Sunday', 'Monday', 'Tuesday', 'Wednesday', 'Thursday', 'Friday', 'Saturday']\n",
        "    if day_string in days_list:\n",
        "        index_day = days_list.index(day_string)\n",
        "        if day_string == days_list[-1]:\n",
        "            return days_list[0]\n",
        "        else:\n",
        "            return days_list[index_day + 1]\n",
        "    else:\n",
        "        return \"Please pick a day of the week in english\"\n",
        "\n",
        "next_day('Saturday')\n"
      ],
      "execution_count": null,
      "outputs": [
        {
          "output_type": "execute_result",
          "data": {
            "application/vnd.google.colaboratory.intrinsic+json": {
              "type": "string"
            },
            "text/plain": [
              "'Sunday'"
            ]
          },
          "metadata": {},
          "execution_count": 3
        }
      ]
    },
    {
      "cell_type": "code",
      "metadata": {
        "id": "68rX-Y0AnGiR",
        "colab": {
          "base_uri": "https://localhost:8080/"
        },
        "outputId": "54012890-1d57-4292-ba0a-e30bc81977d6"
      },
      "source": [
        "# Mission 10: Create a function that fills an empty list with values (words) from the following string : \n",
        "# \"After twelve soft showers are the arch-duchess' socks dry, arch-dry?\"\n",
        "\n",
        "def fill_empty_list(list_to_fill=[]):\n",
        "    sentence_list = \"After twelve soft showers are the arch-duchess' socks dry, arch-dry?\".split()\n",
        "    for word in sentence_list:\n",
        "        list_to_fill.append(word)\n",
        "    return list_to_fill\n",
        "\n",
        "# empty_list = []\n",
        "# Il est possible d'appeler la fonction sans argument (il prendra celui par défaut)\n",
        "# Ou on peut retirer le commentaire de la définition de variable vide et l'ajouter dans l'appel de fonction\n",
        "\n",
        "fill_empty_list()"
      ],
      "execution_count": null,
      "outputs": [
        {
          "output_type": "execute_result",
          "data": {
            "text/plain": [
              "['After',\n",
              " 'twelve',\n",
              " 'soft',\n",
              " 'showers',\n",
              " 'are',\n",
              " 'the',\n",
              " \"arch-duchess'\",\n",
              " 'socks',\n",
              " 'dry,',\n",
              " 'arch-dry?']"
            ]
          },
          "metadata": {},
          "execution_count": 18
        }
      ]
    },
    {
      "cell_type": "code",
      "metadata": {
        "colab": {
          "base_uri": "https://localhost:8080/",
          "height": 35
        },
        "id": "D0QaTTFCYFYO",
        "outputId": "3b71b9c7-82b0-4ee1-8f47-627567a9b118"
      },
      "source": [
        "# Mission 11: Create a function that takes a str as a parameter, and returns the same string, where every other letter\n",
        "# is written in uppercase, unless it's a consonant.\n",
        "\n",
        "def vowels_other_letter_upper(string):\n",
        "    vowels = 'aeiouAEIUO'\n",
        "    new_string = ''\n",
        "    index = 0\n",
        "    for i in string:\n",
        "        if index % 2 != 0 and i in vowels:\n",
        "            new_string += i.upper()\n",
        "            index += 1\n",
        "        else:\n",
        "            new_string += i\n",
        "            index += 1\n",
        "    return new_string\n",
        "\n",
        "vowels_other_letter_upper('Bonjour, comment ça va ici à la Wild Code School ?')"
      ],
      "execution_count": null,
      "outputs": [
        {
          "output_type": "execute_result",
          "data": {
            "application/vnd.google.colaboratory.intrinsic+json": {
              "type": "string"
            },
            "text/plain": [
              "'BOnjoUr, commEnt ça vA IcI à la WIld Code SchOol ?'"
            ]
          },
          "metadata": {},
          "execution_count": 3
        }
      ]
    },
    {
      "cell_type": "code",
      "metadata": {
        "colab": {
          "base_uri": "https://localhost:8080/",
          "height": 35
        },
        "id": "SPW9WDmuYI5T",
        "outputId": "c77b9964-1322-4f64-d7c9-746f14f035f9"
      },
      "source": [
        "vowels_other_letter_upper(\"After twelve soft showers are the arch-duchess' socks dry, arch-dry?\")"
      ],
      "execution_count": null,
      "outputs": [
        {
          "output_type": "execute_result",
          "data": {
            "application/vnd.google.colaboratory.intrinsic+json": {
              "type": "string"
            },
            "text/plain": [
              "\"AftEr twelvE soft showers are the arch-duchEss' sOcks dry, Arch-dry?\""
            ]
          },
          "metadata": {},
          "execution_count": 21
        }
      ]
    },
    {
      "cell_type": "code",
      "metadata": {
        "id": "IJCr_jvwnOCh",
        "colab": {
          "base_uri": "https://localhost:8080/"
        },
        "outputId": "c96ec2f5-960f-4852-832f-dfab74994282"
      },
      "source": [
        "# Mission 12: Create a function that fills an empty list with string values of each letter of the following string: \n",
        "# \"Python fan\", and then displays the filled list\n",
        "\n",
        "def fill_list_with_letters(lst=[]):\n",
        "    sentence = \"Python fan\"\n",
        "    for char in sentence:\n",
        "        if char == ' ':\n",
        "            continue\n",
        "        else:\n",
        "            lst.append(char)\n",
        "    return lst\n",
        "\n",
        "fill_list_with_letters()"
      ],
      "execution_count": null,
      "outputs": [
        {
          "output_type": "execute_result",
          "data": {
            "text/plain": [
              "['P', 'y', 't', 'h', 'o', 'n', 'f', 'a', 'n']"
            ]
          },
          "metadata": {},
          "execution_count": 22
        }
      ]
    },
    {
      "cell_type": "code",
      "metadata": {
        "id": "xjYGsODEnSb2",
        "colab": {
          "base_uri": "https://localhost:8080/",
          "height": 70
        },
        "outputId": "70eecf01-d840-4fc7-8398-8b10ac23e399"
      },
      "source": [
        "# Mission 13: Create a function that take 2 inputs from the user, their date of birth and first name.\n",
        "# Convert the date of birth into an int and subtract it from the current year (you can do it using a certain module :-P).\n",
        "# Then display the message: Hello [first name], today you are [age] years old.\n",
        "\n",
        "import datetime\n",
        "import dateutil\n",
        "\n",
        "def greetings_age(age=input('Please type your birth date using this format DD/MM/YYYY: '), name=input('Please type your first name: ')):\n",
        "    age_date = datetime.datetime.strptime(age, \"%d/%m/%Y\")\n",
        "    current_date = datetime.datetime.now()\n",
        "    time_delta = dateutil.relativedelta.relativedelta(current_date, age_date)\n",
        "    years_delta = time_delta.years\n",
        "    return f\"Hello {name}, today you are {years_delta} years old.\"\n",
        "\n",
        "greetings_age()\n"
      ],
      "execution_count": null,
      "outputs": [
        {
          "name": "stdout",
          "output_type": "stream",
          "text": [
            "Please type your birth date using this format DD/MM/YYYY: 31/10/1982\n",
            "Please type your first name: Guillaume\n"
          ]
        },
        {
          "output_type": "execute_result",
          "data": {
            "application/vnd.google.colaboratory.intrinsic+json": {
              "type": "string"
            },
            "text/plain": [
              "'Hello Guillaume, today you are 38 years old.'"
            ]
          },
          "metadata": {},
          "execution_count": 26
        }
      ]
    }
  ]
}