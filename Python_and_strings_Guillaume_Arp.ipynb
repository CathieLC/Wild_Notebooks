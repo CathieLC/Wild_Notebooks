{
  "nbformat": 4,
  "nbformat_minor": 0,
  "metadata": {
    "colab": {
      "name": "Python and strings - Guillaume Arp.ipynb",
      "provenance": [],
      "collapsed_sections": [],
      "include_colab_link": true
    },
    "kernelspec": {
      "name": "python3",
      "display_name": "Python 3"
    }
  },
  "cells": [
    {
      "cell_type": "markdown",
      "metadata": {
        "id": "view-in-github",
        "colab_type": "text"
      },
      "source": [
        "<a href=\"https://colab.research.google.com/github/GuillaumeArp/Wild_Notebooks/blob/main/Python_and_strings_Guillaume_Arp.ipynb\" target=\"_parent\"><img src=\"https://colab.research.google.com/assets/colab-badge.svg\" alt=\"Open In Colab\"/></a>"
      ]
    },
    {
      "cell_type": "markdown",
      "metadata": {
        "id": "LoJw-LlCTnWF"
      },
      "source": [
        "# Mission 1\n",
        "\n",
        "Create a script that uses the len method to display the length of the string named: \"string\" below.\n",
        "\n",
        "We want to count only characters, so ignore the number of spaces\n",
        ".\n",
        "\n",
        "string = \"Taumata whakatangihanga koauau o tamatea turi pukaka piki maungah oronuku pokai whenuaki tanatahu \""
      ]
    },
    {
      "cell_type": "code",
      "metadata": {
        "id": "oweHYwlm1EVo"
      },
      "source": [
        "string_example = \"Taumata whakatangihanga koauau o tamatea turi pukaka piki maungah oronuku pokai whenuaki tanatahu \""
      ],
      "execution_count": null,
      "outputs": []
    },
    {
      "cell_type": "code",
      "metadata": {
        "colab": {
          "base_uri": "https://localhost:8080/"
        },
        "id": "MJ92i3w2Ncxf",
        "outputId": "0da23550-d92c-46bf-f8d8-2e29d108dfb1"
      },
      "source": [
        "len(string_example.replace(' ', ''))"
      ],
      "execution_count": null,
      "outputs": [
        {
          "output_type": "execute_result",
          "data": {
            "text/plain": [
              "85"
            ]
          },
          "metadata": {},
          "execution_count": 5
        }
      ]
    },
    {
      "cell_type": "markdown",
      "metadata": {
        "id": "J3bsGIvAT049"
      },
      "source": [
        "# Mission 2\n",
        "\n",
        "Create a script that takes a string as one parameter and a character as another parameter. Your script should return the position (starting with 1 and not 0) of all occurrences of the character within the string.\n",
        "\n",
        "For example, for the word \"hello\" and for the character \"o\", the script will return :\n",
        "- \"position : 5\""
      ]
    },
    {
      "cell_type": "code",
      "metadata": {
        "id": "Fy1OmPSUXNaP"
      },
      "source": [
        "# Returns the positions of the selected character in a specified string\n",
        "\n",
        "def char_index(string, char):\n",
        "  char_pos = []\n",
        "  final_string = \"positions :\"\n",
        "  for i in range(len(string)):\n",
        "    if string[i] == char:\n",
        "      char_pos.append(i+1)\n",
        "  if len(char_pos) == 0:\n",
        "    final_string = \"no character found\"\n",
        "  elif len(char_pos) == 1:\n",
        "    final_string = \"position : \" + str(char_pos[0])\n",
        "  else:\n",
        "    for j in char_pos:\n",
        "      final_string += \" \" + str(j)\n",
        "  return final_string"
      ],
      "execution_count": null,
      "outputs": []
    },
    {
      "cell_type": "code",
      "metadata": {
        "colab": {
          "base_uri": "https://localhost:8080/",
          "height": 35
        },
        "id": "gT84WzzjWvxV",
        "outputId": "b5a3b351-8191-4c49-c14e-f37102895df5"
      },
      "source": [
        "char_index(\"Hello, world!\", \"l\")"
      ],
      "execution_count": null,
      "outputs": [
        {
          "output_type": "execute_result",
          "data": {
            "application/vnd.google.colaboratory.intrinsic+json": {
              "type": "string"
            },
            "text/plain": [
              "'positions : 3 4 11'"
            ]
          },
          "metadata": {},
          "execution_count": 80
        }
      ]
    },
    {
      "cell_type": "markdown",
      "metadata": {
        "id": "dVl36lvlWLdV"
      },
      "source": [
        "# Mission 3\n",
        "\n",
        "Create a script that only displays a particular part of a string it receives. In other words, make it so that you are able to decide the exact character range (e.g. 2nd to 5th character) to be displayed."
      ]
    },
    {
      "cell_type": "code",
      "metadata": {
        "id": "pN3_mD4YSPfb"
      },
      "source": [
        "# Checks if the selected slice is out of range, and then slices the specified string\n",
        "\n",
        "def sliced_string(string, int_start, int_end):\n",
        "  if int_start > len(string) or int_end > len(string):\n",
        "    return \"Selected index is out of range\"\n",
        "  else:\n",
        "    return string[int_start-1:int_end]"
      ],
      "execution_count": null,
      "outputs": []
    },
    {
      "cell_type": "code",
      "metadata": {
        "colab": {
          "base_uri": "https://localhost:8080/",
          "height": 35
        },
        "id": "nzncc3MwWzqV",
        "outputId": "c0d6c69b-3086-4843-a935-6cb8cd87a91c"
      },
      "source": [
        "\n",
        "sliced_string(\"Hello, world!\", 2, 6)"
      ],
      "execution_count": null,
      "outputs": [
        {
          "output_type": "execute_result",
          "data": {
            "application/vnd.google.colaboratory.intrinsic+json": {
              "type": "string"
            },
            "text/plain": [
              "'ello,'"
            ]
          },
          "metadata": {},
          "execution_count": 48
        }
      ]
    },
    {
      "cell_type": "markdown",
      "metadata": {
        "id": "GCvpkWzXXPTf"
      },
      "source": [
        "# Mission 4\n",
        "\n",
        "Find 3 ways to return the following string without including the spaces at the beginning and the end: \" Data Analyst \"."
      ]
    },
    {
      "cell_type": "code",
      "metadata": {
        "id": "NJ53WSDHYL2x"
      },
      "source": [
        "test_string = \" Data Analyst \""
      ],
      "execution_count": null,
      "outputs": []
    },
    {
      "cell_type": "code",
      "metadata": {
        "id": "QjLMjogySPk_",
        "colab": {
          "base_uri": "https://localhost:8080/",
          "height": 35
        },
        "outputId": "e33e2c2f-61e3-49fc-8845-97799acd975c"
      },
      "source": [
        "# Using the str.strip() method\n",
        "\n",
        "def string_first_way(string):\n",
        "  return string.strip()\n",
        "\n",
        "string_first_way(test_string)"
      ],
      "execution_count": null,
      "outputs": [
        {
          "output_type": "execute_result",
          "data": {
            "application/vnd.google.colaboratory.intrinsic+json": {
              "type": "string"
            },
            "text/plain": [
              "'Data Analyst'"
            ]
          },
          "metadata": {},
          "execution_count": 55
        }
      ]
    },
    {
      "cell_type": "code",
      "metadata": {
        "colab": {
          "base_uri": "https://localhost:8080/",
          "height": 35
        },
        "id": "YCVhjXVPYPMK",
        "outputId": "49cd2e25-a39e-4057-c8ec-1c32cd010906"
      },
      "source": [
        "# Using the str.join() and str.split() methods\n",
        "\n",
        "def string_second_way(string):\n",
        "  return \" \".join(string.split())\n",
        "\n",
        "string_second_way(test_string)"
      ],
      "execution_count": null,
      "outputs": [
        {
          "output_type": "execute_result",
          "data": {
            "application/vnd.google.colaboratory.intrinsic+json": {
              "type": "string"
            },
            "text/plain": [
              "'Data Analyst'"
            ]
          },
          "metadata": {},
          "execution_count": 58
        }
      ]
    },
    {
      "cell_type": "code",
      "metadata": {
        "colab": {
          "base_uri": "https://localhost:8080/",
          "height": 35
        },
        "id": "BdFHrB6HYPVt",
        "outputId": "b79d545a-1fc5-474e-b7e3-c623ed32bf2c"
      },
      "source": [
        "# Using the str.replace() method\n",
        "\n",
        "def string_third_way(string):\n",
        "  if string[0] == \" \":\n",
        "    string = string[:1].replace(\" \", \"\") + string[1:]\n",
        "  if string[-1] == \" \":\n",
        "    string = string[:-1] + string[-1:-2].replace(\" \", \"\")\n",
        "  return string\n",
        "\n",
        "string_third_way(test_string)"
      ],
      "execution_count": null,
      "outputs": [
        {
          "output_type": "execute_result",
          "data": {
            "application/vnd.google.colaboratory.intrinsic+json": {
              "type": "string"
            },
            "text/plain": [
              "'Data Analyst'"
            ]
          },
          "metadata": {},
          "execution_count": 62
        }
      ]
    },
    {
      "cell_type": "markdown",
      "metadata": {
        "id": "V8ZS3aECXvuZ"
      },
      "source": [
        "# Mission 5\n",
        "\n",
        "Create a script that converts all vowels to uppercase and all consonants to lowercase."
      ]
    },
    {
      "cell_type": "code",
      "metadata": {
        "id": "ph_j97PoSPmU"
      },
      "source": [
        "def convert_case(string):\n",
        "  vowels = \"aeiou\"\n",
        "  new_string = \"\"\n",
        "  for char in string:\n",
        "    if char in vowels or char in vowels.upper():\n",
        "      new_string += char.upper()\n",
        "    else:\n",
        "      new_string += char.lower()\n",
        "  return new_string"
      ],
      "execution_count": null,
      "outputs": []
    },
    {
      "cell_type": "code",
      "metadata": {
        "colab": {
          "base_uri": "https://localhost:8080/",
          "height": 35
        },
        "id": "8cT6Bf3XfRTp",
        "outputId": "c87dfddf-4477-4a79-c988-b66ee57d7421"
      },
      "source": [
        "convert_case(\"HELLO World\")"
      ],
      "execution_count": null,
      "outputs": [
        {
          "output_type": "execute_result",
          "data": {
            "application/vnd.google.colaboratory.intrinsic+json": {
              "type": "string"
            },
            "text/plain": [
              "'hEllO wOrld'"
            ]
          },
          "metadata": {},
          "execution_count": 73
        }
      ]
    },
    {
      "cell_type": "markdown",
      "metadata": {
        "id": "geMLdrvAYHKx"
      },
      "source": [
        "# Mission 6\n",
        "\n",
        "Create a script that replaces one character with another and redisplays the modified string."
      ]
    },
    {
      "cell_type": "code",
      "metadata": {
        "id": "1-cenx3RSPpq"
      },
      "source": [
        "def replace_string(string, char_1, char_2):\n",
        "  return string.replace(char_1, char_2)"
      ],
      "execution_count": null,
      "outputs": []
    },
    {
      "cell_type": "code",
      "metadata": {
        "colab": {
          "base_uri": "https://localhost:8080/",
          "height": 35
        },
        "id": "-GNqQQibh73d",
        "outputId": "6eb13055-6b3d-4a5f-9f90-7ae6b781a403"
      },
      "source": [
        "replace_string(\"Hello world\", \"o\", \"a\")"
      ],
      "execution_count": null,
      "outputs": [
        {
          "output_type": "execute_result",
          "data": {
            "application/vnd.google.colaboratory.intrinsic+json": {
              "type": "string"
            },
            "text/plain": [
              "'Hella warld'"
            ]
          },
          "metadata": {},
          "execution_count": 78
        }
      ]
    }
  ]
}