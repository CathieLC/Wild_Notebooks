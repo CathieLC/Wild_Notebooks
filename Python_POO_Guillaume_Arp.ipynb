{
  "nbformat": 4,
  "nbformat_minor": 0,
  "metadata": {
    "colab": {
      "name": "Python POO - Guillaume Arp.ipynb",
      "provenance": [],
      "collapsed_sections": [],
      "include_colab_link": true
    },
    "kernelspec": {
      "name": "python3",
      "display_name": "Python 3"
    },
    "language_info": {
      "name": "python"
    }
  },
  "cells": [
    {
      "cell_type": "markdown",
      "metadata": {
        "id": "view-in-github",
        "colab_type": "text"
      },
      "source": [
        "<a href=\"https://colab.research.google.com/github/GuillaumeArp/Wild_Notebooks/blob/main/Python_POO_Guillaume_Arp.ipynb\" target=\"_parent\"><img src=\"https://colab.research.google.com/assets/colab-badge.svg\" alt=\"Open In Colab\"/></a>"
      ]
    },
    {
      "cell_type": "markdown",
      "metadata": {
        "id": "YOg4qbzxIkTt"
      },
      "source": [
        "## Création d'une classe dataAnalyst, et exécution d'un programme utilisant ses propres méthodes"
      ]
    },
    {
      "cell_type": "markdown",
      "metadata": {
        "id": "3L8i8P5eJb5t"
      },
      "source": [
        "Le programme doit utiliser une méthode de la classe dataAnalyst exécutant aléatoirement les autres méthodes définies, et s'arrêter si l'une de ces deux conditions est remplie :\n",
        "\n",
        "\n",
        "*   L'attribut `motivation` atteint zéro ou moins\n",
        "*   L'attribut `progression` atteint 100 ou plus\n",
        "\n",
        "Le programme doit alors afficher un texte correspondant à la condition remplie en premier."
      ]
    },
    {
      "cell_type": "code",
      "metadata": {
        "id": "95TYq1taIr1d"
      },
      "source": [
        "# Import du module random qui sera utilisé dans les méthodes de la classe\n",
        "import random\n",
        "\n",
        "# Définition de la classe\n",
        "class dataAnalyst:\n",
        "\n",
        "    # Constructeur avec les attributs motivation et progression définis avec une valeur par défaut\n",
        "    def __init__(self, nom, prenom, age, sexe, formationPrecedente, motivation=100, progression=0):\n",
        "        self.nom = nom\n",
        "        self.prenom = prenom\n",
        "        self.age = age\n",
        "        self.sexe = sexe\n",
        "        self.formationPrecedente = formationPrecedente\n",
        "        self.motivation = motivation\n",
        "        self.progression = progression\n",
        "\n",
        "    # Représentation en string de la classe avec ses attributs\n",
        "    def __repr__(self):\n",
        "        return f'nom : {self.nom}, prenom : {self.prenom}, age : {self.age}, sexe : {self.sexe}, niveau de motivation : {self.motivation}, niveau de progression : {self.progression}'\n",
        "\n",
        "    # Définition des 4 méthodes modifiant les attributs motivation et progression\n",
        "    def suivreFormation(self):\n",
        "        self.motivation -= random.randint(5, 25)\n",
        "        self.progression += random.randint(20, 30)\n",
        "\n",
        "    def bosserPlus(self):\n",
        "        self.motivation += random.randint(10, 30)\n",
        "        self.progression += random.randint(10, 30)\n",
        "\n",
        "    def echouer(self):\n",
        "        self.motivation -= random.randint(20, 40)\n",
        "        self.progression += random.randint(20, 40)\n",
        "\n",
        "    def reussir(self):\n",
        "        self.motivation += random.randint(20, 40)\n",
        "        self.progression += random.randint(10, 20)\n",
        "\n",
        "    # Définition de la fonction qui va utiliser les méthodes aléatoirement\n",
        "    def resultat(self):\n",
        "        # Affichage des valeurs de départ, et initialisation du compteur\n",
        "        print(f'Niveau de motivation initial : {self.motivation}, niveau de progression initial : {self.progression} \\n')\n",
        "        count = 1\n",
        "\n",
        "        # Boucle while s'arrêtant sur l'une des deux conditions définies\n",
        "        while self.motivation > 0 and self.progression <= 100:\n",
        "\n",
        "            # Chaque exécution de la boucle va faire un jet de 1 à 4, qui\n",
        "            # déterminera quelle méthode doit être exécutée\n",
        "            roll = random.randint(1, 4)\n",
        "\n",
        "            # Les conditions suivantes sont remplies en fonction de la valeur\n",
        "            # de roll, modifient les attribuent, et affichent le compteur et\n",
        "            # leurs nouvelles valeur, en plus d'incrémenter le compteur\n",
        "\n",
        "            if roll == 1:\n",
        "                self.suivreFormation()\n",
        "                print(f'Tour {count}')\n",
        "                print(f'La méthode suivreFormation() a été utilisée.')\n",
        "                print(f'Motivation vaut maintenant {self.motivation}')\n",
        "                print(f'Progression vaut maintenant {self.progression}\\n')\n",
        "                count += 1\n",
        "\n",
        "            elif roll == 2:\n",
        "                self.bosserPlus()\n",
        "                print(f'Tour {count}')\n",
        "                print(f'La méthode bosserPlus() a été utilisée.')\n",
        "                print(f'Motivation vaut maintenant {self.motivation}')\n",
        "                print(f'Progression vaut maintenant {self.progression}\\n')\n",
        "                count += 1\n",
        "\n",
        "            elif roll == 3:\n",
        "                self.echouer()\n",
        "                print(f'Tour {count}')\n",
        "                print(f'La méthode echouer() a été utilisée.')\n",
        "                print(f'Motivation vaut maintenant {self.motivation}')\n",
        "                print(f'Progression vaut maintenant {self.progression}\\n')\n",
        "                count += 1\n",
        "\n",
        "            else:\n",
        "                self.reussir()\n",
        "                print(f'Tour {count}')\n",
        "                print(f'La méthode reussir() a été utilisée.')\n",
        "                print(f'Motivation vaut maintenant {self.motivation}')\n",
        "                print(f'Progression vaut maintenant {self.progression}\\n')\n",
        "                count += 1\n",
        "\n",
        "        # Une fois la boucle terminée quand une des conditions est remplie,\n",
        "        # les conditions suivantes vont afficher le résultat en fonction\n",
        "        if self.motivation <= 0:\n",
        "            return 'BRAVO TU AS GAGNÉ !!!'\n",
        "\n",
        "        elif self.progression >= 100:\n",
        "            return 'BRAVO TU AS APPRIS !!!'"
      ],
      "execution_count": null,
      "outputs": []
    },
    {
      "cell_type": "code",
      "metadata": {
        "colab": {
          "base_uri": "https://localhost:8080/"
        },
        "id": "8sH1qgcWLM9S",
        "outputId": "86aa0d69-6e18-46fc-f1e4-d6c35599c499"
      },
      "source": [
        "# Instanciation de la classe dataAnalyst dans une variable\n",
        "guillaume = dataAnalyst('Arp', 'Guillaume', '38', 'Homme', 'EBD')\n",
        "\n",
        "# Test de la définition des valeurs initiales\n",
        "print(guillaume)"
      ],
      "execution_count": null,
      "outputs": [
        {
          "output_type": "stream",
          "name": "stdout",
          "text": [
            "nom : Arp, prenom : Guillaume, age : 38, sexe : Homme, niveau de motivation : 100, niveau de progression : 0\n"
          ]
        }
      ]
    },
    {
      "cell_type": "code",
      "metadata": {
        "id": "8mYt9EYULf-1",
        "colab": {
          "base_uri": "https://localhost:8080/",
          "height": 417
        },
        "outputId": "4716e58b-66fe-4224-c016-fc7d4dce31c1"
      },
      "source": [
        "# Exécution du programme\n",
        "guillaume.resultat()"
      ],
      "execution_count": null,
      "outputs": [
        {
          "output_type": "stream",
          "name": "stdout",
          "text": [
            "Niveau de motivation initial : 100, niveau de progression initial : 0 \n",
            "\n",
            "Tour 1\n",
            "La méthode bosserPlus() a été utilisée.\n",
            "Motivation vaut maintenant 123\n",
            "Progression vaut maintenant 28\n",
            "\n",
            "Tour 2\n",
            "La méthode suivreFormation() a été utilisée.\n",
            "Motivation vaut maintenant 107\n",
            "Progression vaut maintenant 55\n",
            "\n",
            "Tour 3\n",
            "La méthode echouer() a été utilisée.\n",
            "Motivation vaut maintenant 80\n",
            "Progression vaut maintenant 84\n",
            "\n",
            "Tour 4\n",
            "La méthode suivreFormation() a été utilisée.\n",
            "Motivation vaut maintenant 72\n",
            "Progression vaut maintenant 112\n",
            "\n"
          ]
        },
        {
          "output_type": "execute_result",
          "data": {
            "application/vnd.google.colaboratory.intrinsic+json": {
              "type": "string"
            },
            "text/plain": [
              "'BRAVO TU AS APPRIS !!!'"
            ]
          },
          "metadata": {},
          "execution_count": 3
        }
      ]
    }
  ]
}