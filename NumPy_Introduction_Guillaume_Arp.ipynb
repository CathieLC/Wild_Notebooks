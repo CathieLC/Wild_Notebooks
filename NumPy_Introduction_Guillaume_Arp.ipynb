{
  "nbformat": 4,
  "nbformat_minor": 0,
  "metadata": {
    "colab": {
      "name": "NumPy : Introduction - Guillaume Arp.ipynb",
      "provenance": [],
      "collapsed_sections": [],
      "include_colab_link": true
    },
    "kernelspec": {
      "name": "python3",
      "display_name": "Python 3"
    }
  },
  "cells": [
    {
      "cell_type": "markdown",
      "metadata": {
        "id": "view-in-github",
        "colab_type": "text"
      },
      "source": [
        "<a href=\"https://colab.research.google.com/github/GuillaumeArp/Wild_Notebooks/blob/main/NumPy_Introduction_Guillaume_Arp.ipynb\" target=\"_parent\"><img src=\"https://colab.research.google.com/assets/colab-badge.svg\" alt=\"Open In Colab\"/></a>"
      ]
    },
    {
      "cell_type": "markdown",
      "metadata": {
        "id": "s6odsFbLpgIh"
      },
      "source": [
        "# NumPy : Introduction\n",
        "\n",
        "**NumPy allows you to manipulate data in the form of an array.**\n",
        "\n",
        "**Complete the missions below using NumPy.**"
      ]
    },
    {
      "cell_type": "code",
      "metadata": {
        "id": "sXzBVR4imVvO",
        "colab": {
          "base_uri": "https://localhost:8080/",
          "height": 35
        },
        "outputId": "4cb639c8-7c98-4144-c8de-12da202221d1"
      },
      "source": [
        "import numpy as np # Here we rename numpy as np, it's shorter, and everybody does that\n",
        "\n",
        "# Mission 1 : Display the version of NumPy you are running\n",
        "np.__version__"
      ],
      "execution_count": null,
      "outputs": [
        {
          "output_type": "execute_result",
          "data": {
            "application/vnd.google.colaboratory.intrinsic+json": {
              "type": "string"
            },
            "text/plain": [
              "'1.19.5'"
            ]
          },
          "metadata": {},
          "execution_count": 62
        }
      ]
    },
    {
      "cell_type": "code",
      "metadata": {
        "id": "vQGzQgU-phGc",
        "colab": {
          "base_uri": "https://localhost:8080/"
        },
        "outputId": "d0f90ec2-08e9-4638-a88f-c630bd27419f"
      },
      "source": [
        "# Mission 2 : Create a NumPy array with a length of 3, that contains this 3 floats: 0.8, 0.6, 0.4\n",
        "# Expected result: array([0.8, 0.6, 0.4])\n",
        "\n",
        "array_miss_2 = np.array([0.8, 0.6, 0.4])\n",
        "\n",
        "array_miss_2\n"
      ],
      "execution_count": null,
      "outputs": [
        {
          "output_type": "execute_result",
          "data": {
            "text/plain": [
              "array([0.8, 0.6, 0.4])"
            ]
          },
          "metadata": {},
          "execution_count": 63
        }
      ]
    },
    {
      "cell_type": "code",
      "metadata": {
        "id": "66-o1bXYqPC_",
        "colab": {
          "base_uri": "https://localhost:8080/"
        },
        "outputId": "4ee839a6-5ff7-401b-853e-7a1d9c4c5fb5"
      },
      "source": [
        "# Mission 3 : Create a function that uses the np.random.random() function to return an array with 10 random elements, \n",
        "# all of which must be greater than 0.25 and less than 1.0\n",
        "\n",
        "# Example of expected result: array([0.3897948 , 0.82850041, 0.5499838 , 0.81940137, 0.92175875, 0.89634373, 0.26821861, 0.72376496, 0.81098623, 0.28192741])\n",
        "\n",
        "def np_random_range():\n",
        "  result_array = []\n",
        "  while len(result_array) < 10:\n",
        "    number = np.random.random()\n",
        "    if number > 0.25:\n",
        "      result_array.append(number)\n",
        "      \n",
        "  return np.array(result_array)\n",
        "  \n",
        "# Used a while loop to keep populating the list until there are 10 items,\n",
        "# then converted the list into an array.\n",
        "\n",
        "np_random_range()\n",
        "\n"
      ],
      "execution_count": null,
      "outputs": [
        {
          "output_type": "execute_result",
          "data": {
            "text/plain": [
              "array([0.76711632, 0.85715782, 0.78644501, 0.41918829, 0.46606166,\n",
              "       0.83559134, 0.80341284, 0.54847952, 0.3747887 , 0.59874023])"
            ]
          },
          "metadata": {},
          "execution_count": 64
        }
      ]
    },
    {
      "cell_type": "code",
      "metadata": {
        "id": "hx8Ck-neqRZe",
        "colab": {
          "base_uri": "https://localhost:8080/"
        },
        "outputId": "6b66a848-2ff2-4969-a965-400396129d77"
      },
      "source": [
        "# Mission 4 : What does the np.empty() method do? Don't just copy the documentation, explain in your own words here\n",
        "\n",
        "# numpy.empty() is used to initialize an array of the desired shape, and filled\n",
        "# with random values.\n",
        "\n",
        "np.empty(2)\n"
      ],
      "execution_count": null,
      "outputs": [
        {
          "output_type": "execute_result",
          "data": {
            "text/plain": [
              "array([2.0e-323, 2.5e-323])"
            ]
          },
          "metadata": {},
          "execution_count": 65
        }
      ]
    },
    {
      "cell_type": "code",
      "metadata": {
        "id": "q_BJsGjwqTQp",
        "colab": {
          "base_uri": "https://localhost:8080/"
        },
        "outputId": "84b07d98-39c1-4a56-bb39-ee0788cabf61"
      },
      "source": [
        "# Mission 5 : Create an array filled with only zeros. You can chose the length of this array.\n",
        "\n",
        "array_zeros = np.zeros((3, 3))\n",
        "\n",
        "array_zeros"
      ],
      "execution_count": null,
      "outputs": [
        {
          "output_type": "execute_result",
          "data": {
            "text/plain": [
              "array([[0., 0., 0.],\n",
              "       [0., 0., 0.],\n",
              "       [0., 0., 0.]])"
            ]
          },
          "metadata": {},
          "execution_count": 66
        }
      ]
    },
    {
      "cell_type": "code",
      "metadata": {
        "id": "KhQZPyHhqUql",
        "colab": {
          "base_uri": "https://localhost:8080/"
        },
        "outputId": "1d297dd5-3f74-428a-f08d-7a69739aa905"
      },
      "source": [
        "# Mission 6 : Create an array filled with 10 random integers.\n",
        "\n",
        "array_randint = np.random.randint(low=0, high=100, size=10)\n",
        "\n",
        "array_randint"
      ],
      "execution_count": null,
      "outputs": [
        {
          "output_type": "execute_result",
          "data": {
            "text/plain": [
              "array([14,  5, 62, 20, 54,  1, 38, 60, 78, 50])"
            ]
          },
          "metadata": {},
          "execution_count": 67
        }
      ]
    },
    {
      "cell_type": "code",
      "metadata": {
        "id": "v3vqX26BqWTo",
        "colab": {
          "base_uri": "https://localhost:8080/"
        },
        "outputId": "be4e90ca-2bfe-47d3-8cbc-4cbcf5df9d7f"
      },
      "source": [
        "# Mission 7 : Create an array that contains 50 values randomly selected only from these numbers: 0, 1, 2, 3, 4, 5, 6, 7.\n",
        "\n",
        "array_random_choice = np.random.choice(np.arange(0,8), size=50)\n",
        "\n",
        "array_random_choice"
      ],
      "execution_count": null,
      "outputs": [
        {
          "output_type": "execute_result",
          "data": {
            "text/plain": [
              "array([6, 1, 1, 2, 3, 4, 6, 2, 1, 2, 2, 4, 3, 6, 1, 1, 3, 3, 4, 3, 5, 4,\n",
              "       7, 6, 6, 1, 3, 4, 4, 0, 6, 0, 5, 3, 2, 4, 7, 0, 6, 7, 2, 4, 1, 6,\n",
              "       4, 6, 3, 2, 1, 1])"
            ]
          },
          "metadata": {},
          "execution_count": 68
        }
      ]
    },
    {
      "cell_type": "code",
      "metadata": {
        "id": "Hii5gz9BqZf9",
        "colab": {
          "base_uri": "https://localhost:8080/"
        },
        "outputId": "a7e6e5c0-0a20-43cf-ab09-0c2b02310fcf"
      },
      "source": [
        "# Mission 8 : Use the slicing operator to return the items between position 3 and 6 inclusive, from the array in mission 6\n",
        "\n",
        "array_randint[2:6]"
      ],
      "execution_count": null,
      "outputs": [
        {
          "output_type": "execute_result",
          "data": {
            "text/plain": [
              "array([62, 20, 54,  1])"
            ]
          },
          "metadata": {},
          "execution_count": 69
        }
      ]
    },
    {
      "cell_type": "code",
      "metadata": {
        "id": "lv-cIYMMqc0s",
        "colab": {
          "base_uri": "https://localhost:8080/"
        },
        "outputId": "220486d0-e0a3-4a0a-c6ae-846589cbcde1"
      },
      "source": [
        "# Mission 9 : Use the `argmin()` method to return the index of the smallest element in the array from mission 6\n",
        "\n",
        "array_min = np.argmin(array_randint)\n",
        "\n",
        "print(f\"Smallest element index in array_randint: {array_min}\")"
      ],
      "execution_count": null,
      "outputs": [
        {
          "output_type": "stream",
          "name": "stdout",
          "text": [
            "Smallest element index in array_randint: 5\n"
          ]
        }
      ]
    },
    {
      "cell_type": "code",
      "metadata": {
        "id": "OnXTuji0t46s",
        "colab": {
          "base_uri": "https://localhost:8080/"
        },
        "outputId": "82d9e07f-65fa-4c46-fb45-64400e1ec612"
      },
      "source": [
        "# Mission 10 : Using the `where()` method, return the indices of all the values in the array from mission 6 that are greater than their median value.\n",
        "\n",
        "np.where(array_randint > np.median(array_randint))"
      ],
      "execution_count": null,
      "outputs": [
        {
          "output_type": "execute_result",
          "data": {
            "text/plain": [
              "(array([2, 4, 7, 8, 9]),)"
            ]
          },
          "metadata": {},
          "execution_count": 71
        }
      ]
    },
    {
      "cell_type": "code",
      "metadata": {
        "id": "Ljy8t0yvqha5"
      },
      "source": [
        "# Mission 11: Create 3 arrays filled with 5 random integers each, and place them in another array.\n",
        "# You have now an array with (3, 5) shape. You can use the `shape` attribute to check it.\n",
        "# Display the elements, with each column appearing on a different line (so there will be 5 lines with 3 values each)\n",
        "\n",
        "temp_array_1 = np.random.randint(low=0, high=10, size=5)\n",
        "temp_array_2 = np.random.randint(low=0, high=10, size=5)\n",
        "temp_array_3 = np.random.randint(low=0, high=10, size=5)\n",
        "full_array = np.array([temp_array_1, temp_array_2, temp_array_3])"
      ],
      "execution_count": null,
      "outputs": []
    },
    {
      "cell_type": "code",
      "metadata": {
        "colab": {
          "base_uri": "https://localhost:8080/"
        },
        "id": "-oqGuI_ru6_2",
        "outputId": "99158662-a130-460e-82e7-8b24186fe6fb"
      },
      "source": [
        "print(full_array.shape)\n",
        "print(full_array)\n",
        "print(full_array.transpose())"
      ],
      "execution_count": null,
      "outputs": [
        {
          "output_type": "stream",
          "name": "stdout",
          "text": [
            "(3, 5)\n",
            "[[8 7 5 4 3]\n",
            " [4 8 7 8 4]\n",
            " [6 3 8 8 8]]\n",
            "[[8 4 6]\n",
            " [7 8 3]\n",
            " [5 7 8]\n",
            " [4 8 8]\n",
            " [3 4 8]]\n"
          ]
        }
      ]
    },
    {
      "cell_type": "code",
      "metadata": {
        "id": "I-Ecqv-Gqigx",
        "colab": {
          "base_uri": "https://localhost:8080/",
          "height": 103
        },
        "outputId": "609c686f-c0a9-475b-b4bf-a0c70db1af7b"
      },
      "source": [
        "# Mission 12: Create an array and fill it with 20 random float values.\n",
        "# Create a function that returns the smallest and largest value it contains, with their indexes!\n",
        "# You are allowed to use `min()` and `max()` methods.\n",
        "# Example with a shorter array: [300, 500, 1000, 700, 100, 600] -> (4, 100), (2, 1000)\n",
        "# Example with a shorter array: [80, 50, 90, -20, 100, 10] -> (3, -20), (4, 100)\n",
        "\n",
        "array_randfloat = 100 * np.random.rand(20)\n",
        "\n",
        "def min_max_array(arr):\n",
        "  min_value = min(arr)\n",
        "  min_index = np.argmin(arr)\n",
        "  max_value = max(arr)\n",
        "  max_index = np.argmax(arr)\n",
        "  return f\"({min_index}, {min_value}), ({max_index}, {max_value})\"\n",
        "\n",
        "print(array_randfloat)\n",
        "min_max_array(array_randfloat)"
      ],
      "execution_count": null,
      "outputs": [
        {
          "output_type": "stream",
          "name": "stdout",
          "text": [
            "[49.36047644 85.95538444 83.75142023  8.2789777  96.17115733 70.18923889\n",
            " 31.84758236 14.95945924 80.49854584 95.37517855 30.52855589 13.51524884\n",
            " 24.40747838 10.83187761 42.40161143  9.77651724 51.68639239 48.50877863\n",
            " 56.50902259 26.8204707 ]\n"
          ]
        },
        {
          "output_type": "execute_result",
          "data": {
            "application/vnd.google.colaboratory.intrinsic+json": {
              "type": "string"
            },
            "text/plain": [
              "'(3, 8.27897770125623), (4, 96.17115732812034)'"
            ]
          },
          "metadata": {},
          "execution_count": 74
        }
      ]
    },
    {
      "cell_type": "code",
      "metadata": {
        "id": "6Q31D-P0qk14",
        "colab": {
          "base_uri": "https://localhost:8080/"
        },
        "outputId": "79292a4d-955a-48db-f09d-cc0f827125fe"
      },
      "source": [
        "# Mission 13: Create 2 arrays, randomly fill them with 20 int values between 0 and 10.\n",
        "# Create a function that will go through each array using a for loop.\n",
        "# At each iteration of the loop the function should compare the values of the 2 arrays located at the same index position.\n",
        "# Return all indices where the values of the 2 arrays happen to be equal, in a list.\n",
        "# If no values are equal at the same indices across the 2 arrays, that list will be empty.\n",
        "# Example with shorter arrays: [1, 3, 5, 7] & [2, 3, 5, 8] -> [1, 2]\n",
        "# Example with shorter arrays: [1, 1, 1, 1] & [1, 2, 3, 4] -> [0]\n",
        "\n",
        "randint_array_1 = np.random.randint(low=0, high=10, size=20)\n",
        "randint_array_2 = np.random.randint(low=0, high=10, size=20)\n",
        "\n",
        "def array_compare(arr1, arr2):\n",
        "  comparison_list = []\n",
        "  for i in range(len(arr1)):\n",
        "    if arr1[i] == arr2[i]:\n",
        "      comparison_list.append(i)\n",
        "\n",
        "  return comparison_list\n",
        "\n",
        "print(randint_array_1)\n",
        "print(randint_array_2)\n",
        "array_compare(randint_array_1, randint_array_2)\n"
      ],
      "execution_count": null,
      "outputs": [
        {
          "output_type": "stream",
          "name": "stdout",
          "text": [
            "[4 2 3 8 4 4 3 0 0 6 3 3 9 0 5 8 6 6 4 1]\n",
            "[6 2 4 3 3 4 0 6 5 1 7 3 7 4 8 4 1 1 6 8]\n"
          ]
        },
        {
          "output_type": "execute_result",
          "data": {
            "text/plain": [
              "[1, 5, 11]"
            ]
          },
          "metadata": {},
          "execution_count": 75
        }
      ]
    },
    {
      "cell_type": "code",
      "metadata": {
        "id": "ZXuj-bFN_lcZ",
        "colab": {
          "base_uri": "https://localhost:8080/"
        },
        "outputId": "51a5cf96-6aad-4b58-9c05-7b56271e41b5"
      },
      "source": [
        "# Mission 14: now, just compare both arrays of mission 13 with this command (change the name of arrays): array1 == array2\n",
        "\n",
        "print(randint_array_1 == randint_array_2)"
      ],
      "execution_count": null,
      "outputs": [
        {
          "output_type": "stream",
          "name": "stdout",
          "text": [
            "[False  True False False False  True False False False False False  True\n",
            " False False False False False False False False]\n"
          ]
        }
      ]
    }
  ]
}