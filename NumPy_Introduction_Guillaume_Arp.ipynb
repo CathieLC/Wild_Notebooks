{
  "nbformat": 4,
  "nbformat_minor": 0,
  "metadata": {
    "colab": {
      "name": "NumPy : Introduction - Guillaume Arp.ipynb",
      "provenance": [],
      "collapsed_sections": [],
      "include_colab_link": true
    },
    "kernelspec": {
      "name": "python3",
      "display_name": "Python 3"
    }
  },
  "cells": [
    {
      "cell_type": "markdown",
      "metadata": {
        "id": "view-in-github",
        "colab_type": "text"
      },
      "source": [
        "<a href=\"https://colab.research.google.com/github/GuillaumeArp/Wild_Notebooks/blob/main/NumPy_Introduction_Guillaume_Arp.ipynb\" target=\"_parent\"><img src=\"https://colab.research.google.com/assets/colab-badge.svg\" alt=\"Open In Colab\"/></a>"
      ]
    },
    {
      "cell_type": "markdown",
      "metadata": {
        "id": "s6odsFbLpgIh"
      },
      "source": [
        "# NumPy : Introduction\n",
        "\n",
        "**NumPy allows you to manipulate data in the form of an array.**\n",
        "\n",
        "**Complete the missions below using NumPy.**"
      ]
    },
    {
      "cell_type": "code",
      "metadata": {
        "id": "sXzBVR4imVvO",
        "colab": {
          "base_uri": "https://localhost:8080/",
          "height": 35
        },
        "outputId": "3140a612-6ffd-4bbe-cfa3-cab60ea547e4"
      },
      "source": [
        "import numpy as np # Here we rename numpy as np, it's shorter, and everybody does that\n",
        "\n",
        "# Mission 1 : Display the version of NumPy you are running\n",
        "np.__version__"
      ],
      "execution_count": null,
      "outputs": [
        {
          "output_type": "execute_result",
          "data": {
            "application/vnd.google.colaboratory.intrinsic+json": {
              "type": "string"
            },
            "text/plain": [
              "'1.19.5'"
            ]
          },
          "metadata": {},
          "execution_count": 5
        }
      ]
    },
    {
      "cell_type": "code",
      "metadata": {
        "id": "vQGzQgU-phGc",
        "colab": {
          "base_uri": "https://localhost:8080/"
        },
        "outputId": "c499abe3-dcff-4f6e-f89b-a78cd922695e"
      },
      "source": [
        "# Mission 2 : Create a NumPy array with a length of 3, that contains this 3 floats: 0.8, 0.6, 0.4\n",
        "# Expected result: array([0.8, 0.6, 0.4])\n",
        "\n",
        "array_miss_2 = np.array([0.8, 0.6, 0.4])\n",
        "\n",
        "array_miss_2\n"
      ],
      "execution_count": null,
      "outputs": [
        {
          "output_type": "execute_result",
          "data": {
            "text/plain": [
              "array([0.8, 0.6, 0.4])"
            ]
          },
          "metadata": {},
          "execution_count": 6
        }
      ]
    },
    {
      "cell_type": "code",
      "metadata": {
        "id": "66-o1bXYqPC_",
        "colab": {
          "base_uri": "https://localhost:8080/"
        },
        "outputId": "5bbfff09-6913-4d00-b77f-28756075aa2d"
      },
      "source": [
        "# Mission 3 : Create a function that uses the np.random.random() function to return an array with 10 random elements, \n",
        "# all of which must be greater than 0.25 and less than 1.0\n",
        "\n",
        "# Example of expected result: array([0.3897948 , 0.82850041, 0.5499838 , 0.81940137, 0.92175875, 0.89634373, 0.26821861, 0.72376496, 0.81098623, 0.28192741])\n",
        "\n",
        "def np_random_range():\n",
        "  result_array = []\n",
        "  while len(result_array) < 10:\n",
        "    number = np.random.random()\n",
        "    if number > 0.25:\n",
        "      result_array.append(number)\n",
        "      \n",
        "  return np.array(result_array)\n",
        "  \n",
        "# Used a while loop to keep populating the list until there are 10 items,\n",
        "# then converted the list into an array.\n",
        "\n",
        "np_random_range()\n",
        "\n"
      ],
      "execution_count": null,
      "outputs": [
        {
          "output_type": "execute_result",
          "data": {
            "text/plain": [
              "array([0.37306241, 0.48129378, 0.53991322, 0.77022688, 0.88461132,\n",
              "       0.41072935, 0.77189197, 0.45773732, 0.29027308, 0.94784839])"
            ]
          },
          "metadata": {},
          "execution_count": 60
        }
      ]
    },
    {
      "cell_type": "code",
      "metadata": {
        "id": "hx8Ck-neqRZe",
        "colab": {
          "base_uri": "https://localhost:8080/"
        },
        "outputId": "792bc34f-0309-428f-e9bd-c852541c3021"
      },
      "source": [
        "# Mission 4 : What does the np.empty() method do? Don't just copy the documentation, explain in your own words here\n",
        "\n",
        "# numpy.empty() is used to initialize an array of the desired shape, and filled\n",
        "# with random values.\n",
        "\n",
        "np.empty(2)\n"
      ],
      "execution_count": null,
      "outputs": [
        {
          "output_type": "execute_result",
          "data": {
            "text/plain": [
              "array([4.67920729e-310, 8.40735279e-315])"
            ]
          },
          "metadata": {},
          "execution_count": 23
        }
      ]
    },
    {
      "cell_type": "code",
      "metadata": {
        "id": "q_BJsGjwqTQp",
        "colab": {
          "base_uri": "https://localhost:8080/"
        },
        "outputId": "d9ad8ff0-6567-4c6e-b11a-eeb51616010d"
      },
      "source": [
        "# Mission 5 : Create an array filled with only zeros. You can chose the length of this array.\n",
        "\n",
        "array_zeros = np.zeros((3, 3))\n",
        "\n",
        "array_zeros"
      ],
      "execution_count": null,
      "outputs": [
        {
          "output_type": "execute_result",
          "data": {
            "text/plain": [
              "array([[0., 0., 0.],\n",
              "       [0., 0., 0.],\n",
              "       [0., 0., 0.]])"
            ]
          },
          "metadata": {},
          "execution_count": 25
        }
      ]
    },
    {
      "cell_type": "code",
      "metadata": {
        "id": "KhQZPyHhqUql",
        "colab": {
          "base_uri": "https://localhost:8080/"
        },
        "outputId": "5c138703-1d97-4d41-c82c-4bad3d8e4578"
      },
      "source": [
        "# Mission 6 : Create an array filled with 10 random integers.\n",
        "\n",
        "array_randint = np.random.randint(low=0, high=100, size=10)\n",
        "\n",
        "array_randint"
      ],
      "execution_count": null,
      "outputs": [
        {
          "output_type": "execute_result",
          "data": {
            "text/plain": [
              "array([88, 46, 67, 94, 53, 27, 53, 87, 86, 23])"
            ]
          },
          "metadata": {},
          "execution_count": 26
        }
      ]
    },
    {
      "cell_type": "code",
      "metadata": {
        "id": "v3vqX26BqWTo",
        "colab": {
          "base_uri": "https://localhost:8080/"
        },
        "outputId": "c66e4ad7-1036-451b-a49e-eca1001dad26"
      },
      "source": [
        "# Mission 7 : Create an array that contains 50 values randomly selected only from these numbers: 0, 1, 2, 3, 4, 5, 6, 7.\n",
        "\n",
        "array_random_choice = np.random.choice(np.arange(0,8), size=50)\n",
        "\n",
        "array_random_choice"
      ],
      "execution_count": null,
      "outputs": [
        {
          "output_type": "execute_result",
          "data": {
            "text/plain": [
              "array([4, 5, 4, 4, 4, 5, 5, 7, 1, 4, 7, 6, 0, 2, 5, 4, 7, 5, 4, 6, 7, 1,\n",
              "       6, 6, 3, 5, 6, 3, 2, 4, 3, 2, 0, 2, 4, 0, 6, 4, 5, 6, 1, 2, 5, 5,\n",
              "       6, 5, 6, 3, 4, 1])"
            ]
          },
          "metadata": {},
          "execution_count": 61
        }
      ]
    },
    {
      "cell_type": "code",
      "metadata": {
        "id": "Hii5gz9BqZf9",
        "colab": {
          "base_uri": "https://localhost:8080/"
        },
        "outputId": "cecfff03-6069-4a79-b946-395a75415c22"
      },
      "source": [
        "# Mission 8 : Use the slicing operator to return the items between position 3 and 6 inclusive, from the array in mission 6\n",
        "\n",
        "array_randint[2:6]"
      ],
      "execution_count": null,
      "outputs": [
        {
          "output_type": "execute_result",
          "data": {
            "text/plain": [
              "array([67, 94, 53, 27])"
            ]
          },
          "metadata": {},
          "execution_count": 30
        }
      ]
    },
    {
      "cell_type": "code",
      "metadata": {
        "id": "lv-cIYMMqc0s",
        "colab": {
          "base_uri": "https://localhost:8080/"
        },
        "outputId": "ff08691f-c5ac-4296-ded0-639ddf1e8d18"
      },
      "source": [
        "# Mission 9 : Use the `argmin()` method to return the index of the smallest element in the array from mission 6\n",
        "\n",
        "array_min = np.argmin(array_randint)\n",
        "\n",
        "print(f\"Smallest element index in array_randint: {array_min}\")"
      ],
      "execution_count": null,
      "outputs": [
        {
          "output_type": "stream",
          "name": "stdout",
          "text": [
            "Smallest element index in array_randint: 9\n"
          ]
        }
      ]
    },
    {
      "cell_type": "code",
      "metadata": {
        "id": "OnXTuji0t46s",
        "colab": {
          "base_uri": "https://localhost:8080/"
        },
        "outputId": "01b0740f-68ee-4d9f-d9a6-f7102385988d"
      },
      "source": [
        "# Mission 10 : Using the `where()` method, return the indices of all the values in the array from mission 6 that are greater than their median value.\n",
        "\n",
        "np.where(array_randint > np.median(array_randint))"
      ],
      "execution_count": null,
      "outputs": [
        {
          "output_type": "execute_result",
          "data": {
            "text/plain": [
              "(array([0, 2, 3, 7, 8]),)"
            ]
          },
          "metadata": {},
          "execution_count": 32
        }
      ]
    },
    {
      "cell_type": "code",
      "metadata": {
        "id": "Ljy8t0yvqha5"
      },
      "source": [
        "# Mission 11: Create 3 arrays filled with 5 random integers each, and place them in another array.\n",
        "# You have now an array with (3, 5) shape. You can use the `shape` attribute to check it.\n",
        "# Display the elements, with each column appearing on a different line (so there will be 5 lines with 3 values each)\n",
        "\n",
        "temp_array_1 = np.random.randint(low=0, high=10, size=5)\n",
        "temp_array_2 = np.random.randint(low=0, high=10, size=5)\n",
        "temp_array_3 = np.random.randint(low=0, high=10, size=5)\n",
        "full_array = np.array([temp_array_1, temp_array_2, temp_array_3])"
      ],
      "execution_count": null,
      "outputs": []
    },
    {
      "cell_type": "code",
      "metadata": {
        "colab": {
          "base_uri": "https://localhost:8080/"
        },
        "id": "-oqGuI_ru6_2",
        "outputId": "c2a59bdf-c07d-43c2-f155-6503baa656b4"
      },
      "source": [
        "print(full_array.shape)\n",
        "print(full_array)\n",
        "print(full_array.transpose())"
      ],
      "execution_count": null,
      "outputs": [
        {
          "output_type": "stream",
          "name": "stdout",
          "text": [
            "(3, 5)\n",
            "[[3 7 3 1 6]\n",
            " [5 6 5 2 0]\n",
            " [4 7 1 5 7]]\n",
            "[[3 5 4]\n",
            " [7 6 7]\n",
            " [3 5 1]\n",
            " [1 2 5]\n",
            " [6 0 7]]\n"
          ]
        }
      ]
    },
    {
      "cell_type": "code",
      "metadata": {
        "id": "I-Ecqv-Gqigx",
        "colab": {
          "base_uri": "https://localhost:8080/",
          "height": 103
        },
        "outputId": "c9a5425b-17cb-4bad-f032-8e68e7f0a3b7"
      },
      "source": [
        "# Mission 12: Create an array and fill it with 20 random float values.\n",
        "# Create a function that returns the smallest and largest value it contains, with their indexes!\n",
        "# You are allowed to use `min()` and `max()` methods.\n",
        "# Example with a shorter array: [300, 500, 1000, 700, 100, 600] -> (4, 100), (2, 1000)\n",
        "# Example with a shorter array: [80, 50, 90, -20, 100, 10] -> (3, -20), (4, 100)\n",
        "\n",
        "array_randfloat = 100 * np.random.rand(20)\n",
        "\n",
        "def min_max_array(arr):\n",
        "  min_value = min(arr)\n",
        "  min_index = np.argmin(arr)\n",
        "  max_value = max(arr)\n",
        "  max_index = np.argmax(arr)\n",
        "  return f\"({min_index}, {min_value}), ({max_index}, {max_value})\"\n",
        "\n",
        "print(array_randfloat)\n",
        "min_max_array(array_randfloat)"
      ],
      "execution_count": null,
      "outputs": [
        {
          "output_type": "stream",
          "name": "stdout",
          "text": [
            "[34.06624078 74.45219078 11.50838153 25.49329412 24.38496787 34.14322216\n",
            " 93.88083862 79.77225759 98.40652905  0.15240752 17.12722946 14.56526751\n",
            " 28.53994479 99.75371576 25.28997902 96.64598265 84.94296482 29.71330029\n",
            " 25.93463378 94.46471845]\n"
          ]
        },
        {
          "output_type": "execute_result",
          "data": {
            "application/vnd.google.colaboratory.intrinsic+json": {
              "type": "string"
            },
            "text/plain": [
              "'(9, 0.1524075206269182), (13, 99.75371576303257)'"
            ]
          },
          "metadata": {},
          "execution_count": 55
        }
      ]
    },
    {
      "cell_type": "code",
      "metadata": {
        "id": "6Q31D-P0qk14",
        "colab": {
          "base_uri": "https://localhost:8080/"
        },
        "outputId": "ba1729a5-f24c-4f1c-bc75-b8214b019799"
      },
      "source": [
        "# Mission 13: Create 2 arrays, randomly fill them with 20 int values between 0 and 10.\n",
        "# Create a function that will go through each array using a for loop.\n",
        "# At each iteration of the loop the function should compare the values of the 2 arrays located at the same index position.\n",
        "# Return all indices where the values of the 2 arrays happen to be equal, in a list.\n",
        "# If no values are equal at the same indices across the 2 arrays, that list will be empty.\n",
        "# Example with shorter arrays: [1, 3, 5, 7] & [2, 3, 5, 8] -> [1, 2]\n",
        "# Example with shorter arrays: [1, 1, 1, 1] & [1, 2, 3, 4] -> [0]\n",
        "\n",
        "randint_array_1 = np.random.randint(low=0, high=10, size=20)\n",
        "randint_array_2 = np.random.randint(low=0, high=10, size=20)\n",
        "\n",
        "def array_compare(arr1, arr2):\n",
        "  comparison_list = []\n",
        "  for i in range(len(arr1)):\n",
        "    if arr1[i] == arr2[i]:\n",
        "      comparison_list.append(i)\n",
        "\n",
        "  return comparison_list\n",
        "\n",
        "print(randint_array_1)\n",
        "print(randint_array_2)\n",
        "array_compare(randint_array_1, randint_array_2)\n"
      ],
      "execution_count": null,
      "outputs": [
        {
          "output_type": "stream",
          "name": "stdout",
          "text": [
            "[6 8 5 9 5 1 0 9 9 9 7 6 2 1 0 7 0 6 1 4]\n",
            "[3 7 7 8 2 7 3 1 9 4 6 3 6 7 0 3 5 3 4 5]\n"
          ]
        },
        {
          "output_type": "execute_result",
          "data": {
            "text/plain": [
              "[8, 14]"
            ]
          },
          "metadata": {},
          "execution_count": 57
        }
      ]
    },
    {
      "cell_type": "code",
      "metadata": {
        "id": "ZXuj-bFN_lcZ",
        "colab": {
          "base_uri": "https://localhost:8080/"
        },
        "outputId": "7a1fd870-7e77-42d7-c47c-9f1d1f551144"
      },
      "source": [
        "# Mission 14: now, just compare both arrays of mission 13 with this command (change the name of arrays): array1 == array2\n",
        "\n",
        "print(randint_array_1 == randint_array_2)"
      ],
      "execution_count": null,
      "outputs": [
        {
          "output_type": "stream",
          "name": "stdout",
          "text": [
            "[False False False False False False False False  True False False False\n",
            " False False  True False False False False False]\n"
          ]
        }
      ]
    }
  ]
}