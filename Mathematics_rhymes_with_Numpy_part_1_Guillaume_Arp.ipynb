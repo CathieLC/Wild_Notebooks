{
  "nbformat": 4,
  "nbformat_minor": 0,
  "metadata": {
    "colab": {
      "name": "Mathematics rhymes with Numpy part 1 - Guillaume Arp.ipynb",
      "provenance": [],
      "collapsed_sections": [],
      "include_colab_link": true
    },
    "kernelspec": {
      "name": "python3",
      "display_name": "Python 3"
    }
  },
  "cells": [
    {
      "cell_type": "markdown",
      "metadata": {
        "id": "view-in-github",
        "colab_type": "text"
      },
      "source": [
        "<a href=\"https://colab.research.google.com/github/GuillaumeArp/Wild_Notebooks/blob/main/Mathematics_rhymes_with_Numpy_part_1_Guillaume_Arp.ipynb\" target=\"_parent\"><img src=\"https://colab.research.google.com/assets/colab-badge.svg\" alt=\"Open In Colab\"/></a>"
      ]
    },
    {
      "cell_type": "markdown",
      "metadata": {
        "id": "K7HOMJUBt5cD"
      },
      "source": [
        "# Mission 1"
      ]
    },
    {
      "cell_type": "markdown",
      "metadata": {
        "id": "6IqfpiNQujlE"
      },
      "source": [
        "Find a way to calculate the following statistical indicators for any given one-dimensional array using NumPy functions, and use them on a array filled with 20 random floats.\n",
        "- mode\n",
        "- median\n",
        "- average\n",
        "- the range (the difference between max and min)\n",
        "- standard deviation\n",
        "- variance\n",
        "- the different quantiles\n",
        "\n",
        "Then, create another array with 20 random floats and calculate the Pearson coefficient between the two arrays."
      ]
    },
    {
      "cell_type": "code",
      "metadata": {
        "id": "jcSWDVmP8arg"
      },
      "source": [
        "import numpy as np"
      ],
      "execution_count": 1,
      "outputs": []
    },
    {
      "cell_type": "code",
      "metadata": {
        "id": "lSzKwJ2PyWyz",
        "colab": {
          "base_uri": "https://localhost:8080/"
        },
        "outputId": "cb80c494-6741-4018-e340-dd727bcda5ae"
      },
      "source": [
        "random_array = 100 * np.random.rand(20)\n",
        "random_array"
      ],
      "execution_count": 2,
      "outputs": [
        {
          "output_type": "execute_result",
          "data": {
            "text/plain": [
              "array([55.48902223,  9.96692722, 47.38541297, 97.60280867, 39.88894749,\n",
              "       61.09677462, 95.71579561, 19.18185133, 24.2116472 , 89.90354774,\n",
              "       81.2804758 , 31.87861222, 84.34370606, 87.46235719, 75.83945148,\n",
              "       31.39918846, 98.40192554, 87.02421269, 53.37383054, 26.56201985])"
            ]
          },
          "metadata": {},
          "execution_count": 2
        }
      ]
    },
    {
      "cell_type": "code",
      "metadata": {
        "colab": {
          "base_uri": "https://localhost:8080/"
        },
        "id": "jDRBcL1V9BUt",
        "outputId": "ccd3a264-990f-4451-c69c-328503e6f3c3"
      },
      "source": [
        "# Mode\n",
        "\n",
        "values, counts = np.unique(random_array, return_counts=True)\n",
        "array_mode = values[np.argmax(counts)]\n",
        "array_mode"
      ],
      "execution_count": 3,
      "outputs": [
        {
          "output_type": "execute_result",
          "data": {
            "text/plain": [
              "9.966927221675181"
            ]
          },
          "metadata": {},
          "execution_count": 3
        }
      ]
    },
    {
      "cell_type": "code",
      "metadata": {
        "colab": {
          "base_uri": "https://localhost:8080/"
        },
        "id": "O_yAyyEg-C5O",
        "outputId": "d5aa60aa-7d05-4159-847c-7d27bef68f05"
      },
      "source": [
        "# Median\n",
        "\n",
        "np.median(random_array)"
      ],
      "execution_count": 4,
      "outputs": [
        {
          "output_type": "execute_result",
          "data": {
            "text/plain": [
              "58.29289842451132"
            ]
          },
          "metadata": {},
          "execution_count": 4
        }
      ]
    },
    {
      "cell_type": "code",
      "metadata": {
        "colab": {
          "base_uri": "https://localhost:8080/"
        },
        "id": "T8hIOoNt-OZD",
        "outputId": "59baf822-8da7-4b9f-b506-4742af848fdf"
      },
      "source": [
        "# Average\n",
        "\n",
        "np.average(random_array)"
      ],
      "execution_count": 5,
      "outputs": [
        {
          "output_type": "execute_result",
          "data": {
            "text/plain": [
              "59.90042574574856"
            ]
          },
          "metadata": {},
          "execution_count": 5
        }
      ]
    },
    {
      "cell_type": "code",
      "metadata": {
        "colab": {
          "base_uri": "https://localhost:8080/"
        },
        "id": "PmpV0Hqo-Ttd",
        "outputId": "d9732235-ce43-493b-e78c-41457ef387af"
      },
      "source": [
        "np.ptp(random_array)"
      ],
      "execution_count": 6,
      "outputs": [
        {
          "output_type": "execute_result",
          "data": {
            "text/plain": [
              "88.4349983175176"
            ]
          },
          "metadata": {},
          "execution_count": 6
        }
      ]
    },
    {
      "cell_type": "code",
      "metadata": {
        "colab": {
          "base_uri": "https://localhost:8080/"
        },
        "id": "HNWNx1AO-vOU",
        "outputId": "b8ad36c1-a24d-428f-e78b-e3db458cec02"
      },
      "source": [
        "# Standard deviation\n",
        "\n",
        "np.std(random_array)"
      ],
      "execution_count": 7,
      "outputs": [
        {
          "output_type": "execute_result",
          "data": {
            "text/plain": [
              "28.849061051294036"
            ]
          },
          "metadata": {},
          "execution_count": 7
        }
      ]
    },
    {
      "cell_type": "code",
      "metadata": {
        "colab": {
          "base_uri": "https://localhost:8080/"
        },
        "id": "QvPDPu7L-1fD",
        "outputId": "9aeda696-7281-4cb1-8ac2-742ac3d72161"
      },
      "source": [
        "# Variance\n",
        "\n",
        "np.var(random_array)"
      ],
      "execution_count": 8,
      "outputs": [
        {
          "output_type": "execute_result",
          "data": {
            "text/plain": [
              "832.2683235412906"
            ]
          },
          "metadata": {},
          "execution_count": 8
        }
      ]
    },
    {
      "cell_type": "code",
      "metadata": {
        "colab": {
          "base_uri": "https://localhost:8080/"
        },
        "id": "vuwh2qne-_qd",
        "outputId": "8be73dc9-fca8-4f98-b616-b4efe6af4458"
      },
      "source": [
        "# Quantiles\n",
        "\n",
        "print(np.quantile(random_array, 0.25))\n",
        "print(np.quantile(random_array, 0.5))\n",
        "print(np.quantile(random_array, 0.75))"
      ],
      "execution_count": 9,
      "outputs": [
        {
          "output_type": "stream",
          "name": "stdout",
          "text": [
            "31.758756284048992\n",
            "58.29289842451132\n",
            "87.13374881626562\n"
          ]
        }
      ]
    },
    {
      "cell_type": "code",
      "metadata": {
        "id": "UOZVsYeL_Yif"
      },
      "source": [
        "second_random_array = 100 * np.random.rand(20)"
      ],
      "execution_count": 10,
      "outputs": []
    },
    {
      "cell_type": "code",
      "metadata": {
        "colab": {
          "base_uri": "https://localhost:8080/"
        },
        "id": "2c5cqO_9_ca0",
        "outputId": "504ff74e-ef1a-403b-873a-23d9b60e2a85"
      },
      "source": [
        "np.corrcoef(random_array, second_random_array)"
      ],
      "execution_count": 11,
      "outputs": [
        {
          "output_type": "execute_result",
          "data": {
            "text/plain": [
              "array([[1.        , 0.08838866],\n",
              "       [0.08838866, 1.        ]])"
            ]
          },
          "metadata": {},
          "execution_count": 11
        }
      ]
    },
    {
      "cell_type": "markdown",
      "metadata": {
        "id": "dSPGdxdsy5sg"
      },
      "source": [
        "## Mission 2\n",
        "\n",
        "Create a function using NumPy that indicates the values (integers only), from -100 to 100, where the remainder from performing Euclidean division by both 3 and 7 is equal."
      ]
    },
    {
      "cell_type": "code",
      "metadata": {
        "id": "_6S3mTjiy5jT",
        "colab": {
          "base_uri": "https://localhost:8080/"
        },
        "outputId": "33c4cf9c-992c-4b3a-8cb8-9b1a91df517f"
      },
      "source": [
        "def mod_3_and_7_equal():\n",
        "  array_range = np.arange(-100, 101)\n",
        "  result = np.where(array_range % 3 == array_range % 7)\n",
        "  return array_range[result]\n",
        "\n",
        "mod_3_and_7_equal()"
      ],
      "execution_count": 21,
      "outputs": [
        {
          "output_type": "execute_result",
          "data": {
            "text/plain": [
              "array([-84, -83, -82, -63, -62, -61, -42, -41, -40, -21, -20, -19,   0,\n",
              "         1,   2,  21,  22,  23,  42,  43,  44,  63,  64,  65,  84,  85,\n",
              "        86])"
            ]
          },
          "metadata": {},
          "execution_count": 21
        }
      ]
    },
    {
      "cell_type": "markdown",
      "metadata": {
        "id": "Tr3pka4-0az7"
      },
      "source": [
        "## Mission 3\n",
        "\n",
        "Create a function that returns the [inverse value (for `3`, return `1/3`)](https://en.wikipedia.org/wiki/Multiplicative_inverse) of a set of values contained in a NumPy array"
      ]
    },
    {
      "cell_type": "code",
      "metadata": {
        "id": "m4qgMMqH0hSl",
        "colab": {
          "base_uri": "https://localhost:8080/"
        },
        "outputId": "13377022-afde-4e01-d8f1-2e47d1439e14"
      },
      "source": [
        "def inverse_array(arr):\n",
        "  result = []\n",
        "  for i in arr:\n",
        "    if i != 0:\n",
        "      result.append(np.reciprocal(i))\n",
        "    else:\n",
        "      result.append(np.NaN)\n",
        "  \n",
        "  return np.array(result)\n",
        "\n",
        "new_array = np.array([1, 0.5, 2, 0.33, 3, 9, 21, 0.25, 0.75, 0])\n",
        "\n",
        "print(inverse_array(new_array))"
      ],
      "execution_count": 13,
      "outputs": [
        {
          "output_type": "stream",
          "name": "stdout",
          "text": [
            "[1.         2.         0.5        3.03030303 0.33333333 0.11111111\n",
            " 0.04761905 4.         1.33333333        nan]\n"
          ]
        }
      ]
    }
  ]
}