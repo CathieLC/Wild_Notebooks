{
  "nbformat": 4,
  "nbformat_minor": 0,
  "metadata": {
    "colab": {
      "name": "Pandas - Part 4 - Guillaume Arp.ipynb",
      "provenance": [],
      "collapsed_sections": [],
      "include_colab_link": true
    },
    "kernelspec": {
      "name": "python3",
      "display_name": "Python 3"
    }
  },
  "cells": [
    {
      "cell_type": "markdown",
      "metadata": {
        "id": "view-in-github",
        "colab_type": "text"
      },
      "source": [
        "<a href=\"https://colab.research.google.com/github/GuillaumeArp/Wild_Notebooks/blob/main/Pandas_Part_4_Guillaume_Arp.ipynb\" target=\"_parent\"><img src=\"https://colab.research.google.com/assets/colab-badge.svg\" alt=\"Open In Colab\"/></a>"
      ]
    },
    {
      "cell_type": "markdown",
      "metadata": {
        "id": "WM01RkUbNtb4"
      },
      "source": [
        "# Mission\n",
        "\n",
        "Still using this dataset: http://bit.ly/imdbratings\n",
        "- Which actor is mentioned the most often?\n"
      ]
    },
    {
      "cell_type": "code",
      "metadata": {
        "id": "lsqs7rXWNrRv"
      },
      "source": [
        "import numpy as np\n",
        "import pandas as pd"
      ],
      "execution_count": null,
      "outputs": []
    },
    {
      "cell_type": "code",
      "metadata": {
        "colab": {
          "base_uri": "https://localhost:8080/",
          "height": 204
        },
        "id": "NCXvvmMljuM4",
        "outputId": "76750fec-9b8b-4202-859a-6ddec690cb73"
      },
      "source": [
        "df_imdb = pd.read_csv('https://raw.githubusercontent.com/justmarkham/pandas-videos/master/data/imdb_1000.csv', sep=',')\n",
        "df_imdb.head()"
      ],
      "execution_count": null,
      "outputs": [
        {
          "output_type": "execute_result",
          "data": {
            "text/html": [
              "<div>\n",
              "<style scoped>\n",
              "    .dataframe tbody tr th:only-of-type {\n",
              "        vertical-align: middle;\n",
              "    }\n",
              "\n",
              "    .dataframe tbody tr th {\n",
              "        vertical-align: top;\n",
              "    }\n",
              "\n",
              "    .dataframe thead th {\n",
              "        text-align: right;\n",
              "    }\n",
              "</style>\n",
              "<table border=\"1\" class=\"dataframe\">\n",
              "  <thead>\n",
              "    <tr style=\"text-align: right;\">\n",
              "      <th></th>\n",
              "      <th>star_rating</th>\n",
              "      <th>title</th>\n",
              "      <th>content_rating</th>\n",
              "      <th>genre</th>\n",
              "      <th>duration</th>\n",
              "      <th>actors_list</th>\n",
              "    </tr>\n",
              "  </thead>\n",
              "  <tbody>\n",
              "    <tr>\n",
              "      <th>0</th>\n",
              "      <td>9.3</td>\n",
              "      <td>The Shawshank Redemption</td>\n",
              "      <td>R</td>\n",
              "      <td>Crime</td>\n",
              "      <td>142</td>\n",
              "      <td>[u'Tim Robbins', u'Morgan Freeman', u'Bob Gunt...</td>\n",
              "    </tr>\n",
              "    <tr>\n",
              "      <th>1</th>\n",
              "      <td>9.2</td>\n",
              "      <td>The Godfather</td>\n",
              "      <td>R</td>\n",
              "      <td>Crime</td>\n",
              "      <td>175</td>\n",
              "      <td>[u'Marlon Brando', u'Al Pacino', u'James Caan']</td>\n",
              "    </tr>\n",
              "    <tr>\n",
              "      <th>2</th>\n",
              "      <td>9.1</td>\n",
              "      <td>The Godfather: Part II</td>\n",
              "      <td>R</td>\n",
              "      <td>Crime</td>\n",
              "      <td>200</td>\n",
              "      <td>[u'Al Pacino', u'Robert De Niro', u'Robert Duv...</td>\n",
              "    </tr>\n",
              "    <tr>\n",
              "      <th>3</th>\n",
              "      <td>9.0</td>\n",
              "      <td>The Dark Knight</td>\n",
              "      <td>PG-13</td>\n",
              "      <td>Action</td>\n",
              "      <td>152</td>\n",
              "      <td>[u'Christian Bale', u'Heath Ledger', u'Aaron E...</td>\n",
              "    </tr>\n",
              "    <tr>\n",
              "      <th>4</th>\n",
              "      <td>8.9</td>\n",
              "      <td>Pulp Fiction</td>\n",
              "      <td>R</td>\n",
              "      <td>Crime</td>\n",
              "      <td>154</td>\n",
              "      <td>[u'John Travolta', u'Uma Thurman', u'Samuel L....</td>\n",
              "    </tr>\n",
              "  </tbody>\n",
              "</table>\n",
              "</div>"
            ],
            "text/plain": [
              "   star_rating  ...                                        actors_list\n",
              "0          9.3  ...  [u'Tim Robbins', u'Morgan Freeman', u'Bob Gunt...\n",
              "1          9.2  ...    [u'Marlon Brando', u'Al Pacino', u'James Caan']\n",
              "2          9.1  ...  [u'Al Pacino', u'Robert De Niro', u'Robert Duv...\n",
              "3          9.0  ...  [u'Christian Bale', u'Heath Ledger', u'Aaron E...\n",
              "4          8.9  ...  [u'John Travolta', u'Uma Thurman', u'Samuel L....\n",
              "\n",
              "[5 rows x 6 columns]"
            ]
          },
          "metadata": {},
          "execution_count": 2
        }
      ]
    },
    {
      "cell_type": "code",
      "metadata": {
        "id": "qS5yu1JtkLLP"
      },
      "source": [
        "df_imdb['actors_list'] = df_imdb['actors_list'].apply(eval)"
      ],
      "execution_count": null,
      "outputs": []
    },
    {
      "cell_type": "code",
      "metadata": {
        "colab": {
          "base_uri": "https://localhost:8080/",
          "height": 204
        },
        "id": "L3xc-045kUZ_",
        "outputId": "5385f2ca-efa0-406f-da7d-4939a1332212"
      },
      "source": [
        "df_imdb.head()"
      ],
      "execution_count": null,
      "outputs": [
        {
          "output_type": "execute_result",
          "data": {
            "text/html": [
              "<div>\n",
              "<style scoped>\n",
              "    .dataframe tbody tr th:only-of-type {\n",
              "        vertical-align: middle;\n",
              "    }\n",
              "\n",
              "    .dataframe tbody tr th {\n",
              "        vertical-align: top;\n",
              "    }\n",
              "\n",
              "    .dataframe thead th {\n",
              "        text-align: right;\n",
              "    }\n",
              "</style>\n",
              "<table border=\"1\" class=\"dataframe\">\n",
              "  <thead>\n",
              "    <tr style=\"text-align: right;\">\n",
              "      <th></th>\n",
              "      <th>star_rating</th>\n",
              "      <th>title</th>\n",
              "      <th>content_rating</th>\n",
              "      <th>genre</th>\n",
              "      <th>duration</th>\n",
              "      <th>actors_list</th>\n",
              "    </tr>\n",
              "  </thead>\n",
              "  <tbody>\n",
              "    <tr>\n",
              "      <th>0</th>\n",
              "      <td>9.3</td>\n",
              "      <td>The Shawshank Redemption</td>\n",
              "      <td>R</td>\n",
              "      <td>Crime</td>\n",
              "      <td>142</td>\n",
              "      <td>[Tim Robbins, Morgan Freeman, Bob Gunton]</td>\n",
              "    </tr>\n",
              "    <tr>\n",
              "      <th>1</th>\n",
              "      <td>9.2</td>\n",
              "      <td>The Godfather</td>\n",
              "      <td>R</td>\n",
              "      <td>Crime</td>\n",
              "      <td>175</td>\n",
              "      <td>[Marlon Brando, Al Pacino, James Caan]</td>\n",
              "    </tr>\n",
              "    <tr>\n",
              "      <th>2</th>\n",
              "      <td>9.1</td>\n",
              "      <td>The Godfather: Part II</td>\n",
              "      <td>R</td>\n",
              "      <td>Crime</td>\n",
              "      <td>200</td>\n",
              "      <td>[Al Pacino, Robert De Niro, Robert Duvall]</td>\n",
              "    </tr>\n",
              "    <tr>\n",
              "      <th>3</th>\n",
              "      <td>9.0</td>\n",
              "      <td>The Dark Knight</td>\n",
              "      <td>PG-13</td>\n",
              "      <td>Action</td>\n",
              "      <td>152</td>\n",
              "      <td>[Christian Bale, Heath Ledger, Aaron Eckhart]</td>\n",
              "    </tr>\n",
              "    <tr>\n",
              "      <th>4</th>\n",
              "      <td>8.9</td>\n",
              "      <td>Pulp Fiction</td>\n",
              "      <td>R</td>\n",
              "      <td>Crime</td>\n",
              "      <td>154</td>\n",
              "      <td>[John Travolta, Uma Thurman, Samuel L. Jackson]</td>\n",
              "    </tr>\n",
              "  </tbody>\n",
              "</table>\n",
              "</div>"
            ],
            "text/plain": [
              "   star_rating  ...                                      actors_list\n",
              "0          9.3  ...        [Tim Robbins, Morgan Freeman, Bob Gunton]\n",
              "1          9.2  ...           [Marlon Brando, Al Pacino, James Caan]\n",
              "2          9.1  ...       [Al Pacino, Robert De Niro, Robert Duvall]\n",
              "3          9.0  ...    [Christian Bale, Heath Ledger, Aaron Eckhart]\n",
              "4          8.9  ...  [John Travolta, Uma Thurman, Samuel L. Jackson]\n",
              "\n",
              "[5 rows x 6 columns]"
            ]
          },
          "metadata": {},
          "execution_count": 4
        }
      ]
    },
    {
      "cell_type": "code",
      "metadata": {
        "id": "mGle22JEkg_I"
      },
      "source": [
        "df = df_imdb.explode('actors_list')"
      ],
      "execution_count": null,
      "outputs": []
    },
    {
      "cell_type": "code",
      "metadata": {
        "colab": {
          "base_uri": "https://localhost:8080/"
        },
        "id": "kYPF5zCdkxZ3",
        "outputId": "eaa3adac-1347-4df0-c941-78d5168d9c35"
      },
      "source": [
        "df['actors_list'].value_counts()"
      ],
      "execution_count": null,
      "outputs": [
        {
          "output_type": "execute_result",
          "data": {
            "text/plain": [
              "Robert De Niro      18\n",
              "Clint Eastwood      14\n",
              "Tom Hanks           14\n",
              "Brad Pitt           14\n",
              "Al Pacino           13\n",
              "                    ..\n",
              "Hailee Steinfeld     1\n",
              "Sean Gullette        1\n",
              "Machiko Kyô          1\n",
              "Christoph Waltz      1\n",
              "Otto Sander          1\n",
              "Name: actors_list, Length: 1777, dtype: int64"
            ]
          },
          "metadata": {},
          "execution_count": 6
        }
      ]
    },
    {
      "cell_type": "code",
      "metadata": {
        "colab": {
          "base_uri": "https://localhost:8080/"
        },
        "id": "Jj2ssjhSk9tm",
        "outputId": "49ea30c8-ac69-48df-9c9e-b15ef9e689ec"
      },
      "source": [
        "print(f\"The actor mentioned most often is {df['actors_list'].value_counts().index[0]}.\")"
      ],
      "execution_count": null,
      "outputs": [
        {
          "output_type": "stream",
          "name": "stdout",
          "text": [
            "The actor mentioned most often is Robert De Niro.\n"
          ]
        }
      ]
    }
  ]
}