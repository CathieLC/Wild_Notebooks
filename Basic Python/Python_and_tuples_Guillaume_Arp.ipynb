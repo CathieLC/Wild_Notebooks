{
  "nbformat": 4,
  "nbformat_minor": 0,
  "metadata": {
    "colab": {
      "name": "Python and tuples - Guillaume Arp.ipynb",
      "provenance": [],
      "collapsed_sections": [],
      "include_colab_link": true
    },
    "kernelspec": {
      "name": "python3",
      "display_name": "Python 3"
    }
  },
  "cells": [
    {
      "cell_type": "markdown",
      "metadata": {
        "id": "view-in-github",
        "colab_type": "text"
      },
      "source": [
        "<a href=\"https://colab.research.google.com/github/GuillaumeArp/Wild_Notebooks/blob/main/Python_and_tuples_Guillaume_Arp.ipynb\" target=\"_parent\"><img src=\"https://colab.research.google.com/assets/colab-badge.svg\" alt=\"Open In Colab\"/></a>"
      ]
    },
    {
      "cell_type": "markdown",
      "metadata": {
        "id": "LoJw-LlCTnWF"
      },
      "source": [
        "# Mission 1\n",
        "\n",
        "Create a tuple of your choice containing 10 elements in this order:\n",
        "- 3 integers\n",
        "- 3 strings\n",
        "- 2 lists containing 3 items each\n",
        "- 2 dictionaries containing 3 items (3 key/value pairs) each\n",
        "\n",
        "Now, access the second-to-last item in the second list."
      ]
    },
    {
      "cell_type": "code",
      "metadata": {
        "id": "C2Lk113KSPUO"
      },
      "source": [
        "my_tuple = (1, 4, 9, \"our\", \"cats\", \"rule\", [10, 20, 30], [\"python\", \"is\", \"love\"], {\"best_cat\": \"Rayure\", \"also_super_cool_cat\": \"Tako\", \"kitty_cat\": \"Dango\"}, {\"raclette_score\": 10, \"pasta_score\": 7, \"cucumber_score\": 1})"
      ],
      "execution_count": null,
      "outputs": []
    },
    {
      "cell_type": "code",
      "metadata": {
        "colab": {
          "base_uri": "https://localhost:8080/",
          "height": 35
        },
        "id": "3rjq_3z0Ff9K",
        "outputId": "6d8d9356-db7f-4962-d7b1-4fde2c30a222"
      },
      "source": [
        "my_tuple[7][-2]"
      ],
      "execution_count": null,
      "outputs": [
        {
          "output_type": "execute_result",
          "data": {
            "application/vnd.google.colaboratory.intrinsic+json": {
              "type": "string"
            },
            "text/plain": [
              "'is'"
            ]
          },
          "metadata": {},
          "execution_count": 20
        }
      ]
    },
    {
      "cell_type": "markdown",
      "metadata": {
        "id": "HGoGFI9qxuzW"
      },
      "source": [
        "# Mission 2\n",
        "\n",
        "In the same tuple, access the last 4 elements using slicing"
      ]
    },
    {
      "cell_type": "code",
      "metadata": {
        "id": "qk097m4Zx4mR",
        "colab": {
          "base_uri": "https://localhost:8080/"
        },
        "outputId": "a22b5867-e659-4780-b586-62df5521d600"
      },
      "source": [
        "print(my_tuple[-4:])"
      ],
      "execution_count": null,
      "outputs": [
        {
          "output_type": "stream",
          "name": "stdout",
          "text": [
            "([10, 20, 30], ['python', 'is', 'love'], {'best_cat': 'Rayure', 'also_super_cool_cat': 'Tako', 'kitty_cat': 'Dango'}, {'raclette_score': 10, 'pasta_score': 7, 'cucumber_score': 1})\n"
          ]
        }
      ]
    },
    {
      "cell_type": "markdown",
      "metadata": {
        "id": "iVHJFx3Px8mY"
      },
      "source": [
        "# Mission 3\n",
        "\n",
        "Change the value of the 4th element (the 1st string) of your tuple (oh yes it's possible!)"
      ]
    },
    {
      "cell_type": "code",
      "metadata": {
        "id": "VeZbMxHpF51P"
      },
      "source": [
        "my_tuple = list(my_tuple)\n",
        "my_tuple[3] = \"all of our\"\n",
        "my_tuple = tuple(my_tuple)"
      ],
      "execution_count": null,
      "outputs": []
    },
    {
      "cell_type": "code",
      "metadata": {
        "colab": {
          "base_uri": "https://localhost:8080/"
        },
        "id": "Rv6XxldHG-yi",
        "outputId": "6e5c7f3c-c7ce-46d8-ecbd-0eab67c3d3eb"
      },
      "source": [
        "print(my_tuple)"
      ],
      "execution_count": null,
      "outputs": [
        {
          "output_type": "stream",
          "name": "stdout",
          "text": [
            "(1, 4, 9, 'all of our', 'cats', 'rule', [10, 20, 30], ['python', 'is', 'love'], {'best_cat': 'Rayure', 'also_super_cool_cat': 'Tako', 'kitty_cat': 'Dango'}, {'raclette_score': 10, 'pasta_score': 7, 'cucumber_score': 1})\n"
          ]
        }
      ]
    },
    {
      "cell_type": "markdown",
      "metadata": {
        "id": "Wp3_jhWS2Foi"
      },
      "source": [
        "# Mission 4\n",
        "\n",
        "Create 2 tuples that contain only integers.\n",
        "Create a script that compares them to each other and indicates which one of the tuples returns the highest total value after adding all their values together. "
      ]
    },
    {
      "cell_type": "code",
      "metadata": {
        "id": "dGMYxaMWx8RO",
        "colab": {
          "base_uri": "https://localhost:8080/"
        },
        "outputId": "6c43ab33-8c42-4efa-cab8-ec372cf88a75"
      },
      "source": [
        "tuple_int_1 = (1, 7, 12, 19, 54)\n",
        "tuple_int_2 = (5, 9, 18, 21, 49)\n",
        "\n",
        "count_1 = 0\n",
        "count_2 = 0\n",
        "for i in tuple_int_1:\n",
        "  count_1 += i\n",
        "\n",
        "for j in tuple_int_2:\n",
        "  count_2 += j\n",
        "\n",
        "if count_1 > count_2:\n",
        "  print(\"Tuple 1 has the highest total value\")\n",
        "elif count_2 > count_1:\n",
        "  print(\"Tuple 2 has the highest total value\")\n",
        "else:\n",
        "  print(\"Both tuples have the same total value\")"
      ],
      "execution_count": null,
      "outputs": [
        {
          "output_type": "stream",
          "name": "stdout",
          "text": [
            "Tuple 2 has the highest total value\n"
          ]
        }
      ]
    },
    {
      "cell_type": "markdown",
      "metadata": {
        "id": "Zmk8uviVzPBZ"
      },
      "source": [
        "# Mission 5\n",
        "\n",
        "Here's a tuple:\n",
        "\n",
        "my_tuple_2 = (\"data analyst\", \"data scientist\", \"data engineer\", \"data architect\")\n",
        "\n",
        "Create a script that allows you to change one of the values of \"my_tuple\" by indicating the position of the value you want to change, as well as the new value."
      ]
    },
    {
      "cell_type": "code",
      "metadata": {
        "id": "0o-MuRyZ1_7u"
      },
      "source": [
        "my_tuple_2 = (\"data analyst\", \"data scientist\", \"data engineer\", \"data architect\")\n",
        "\n",
        "def change_tuple_value(tup, index, value):\n",
        "  if index > len(tup) - 1:\n",
        "    return \"The selected index is out of range of this tuple\"\n",
        "  else:\n",
        "    tup = list(tup)\n",
        "    tup[index] = value\n",
        "    tup = tuple(tup)\n",
        "    return tup"
      ],
      "execution_count": null,
      "outputs": []
    },
    {
      "cell_type": "code",
      "metadata": {
        "colab": {
          "base_uri": "https://localhost:8080/"
        },
        "id": "k0cd8gPRJCvm",
        "outputId": "8845b80e-2e44-402e-a599-49e41af77db2"
      },
      "source": [
        "change_tuple_value(my_tuple_2, 3, \"data big brain\")"
      ],
      "execution_count": null,
      "outputs": [
        {
          "output_type": "execute_result",
          "data": {
            "text/plain": [
              "('data analyst', 'data scientist', 'data engineer', 'data big brain')"
            ]
          },
          "metadata": {},
          "execution_count": 32
        }
      ]
    }
  ]
}