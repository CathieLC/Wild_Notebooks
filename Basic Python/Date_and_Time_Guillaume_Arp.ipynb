{
  "nbformat": 4,
  "nbformat_minor": 0,
  "metadata": {
    "colab": {
      "name": "Date and Time - Guillaume Arp.ipynb",
      "provenance": [],
      "collapsed_sections": [],
      "include_colab_link": true
    },
    "kernelspec": {
      "name": "python3",
      "display_name": "Python 3"
    }
  },
  "cells": [
    {
      "cell_type": "markdown",
      "metadata": {
        "id": "view-in-github",
        "colab_type": "text"
      },
      "source": [
        "<a href=\"https://colab.research.google.com/github/GuillaumeArp/Wild_Notebooks/blob/main/Date_and_Time_Guillaume_Arp.ipynb\" target=\"_parent\"><img src=\"https://colab.research.google.com/assets/colab-badge.svg\" alt=\"Open In Colab\"/></a>"
      ]
    },
    {
      "cell_type": "markdown",
      "metadata": {
        "id": "t0bLJ1JMgmzT"
      },
      "source": [
        "# Imports"
      ]
    },
    {
      "cell_type": "code",
      "metadata": {
        "id": "mWNA7zJHgqUB"
      },
      "source": [
        "from datetime import datetime\n",
        "from datetime import timedelta\n",
        "import pandas as pd\n",
        "import seaborn as sns\n",
        "import matplotlib.pyplot as plt"
      ],
      "execution_count": null,
      "outputs": []
    },
    {
      "cell_type": "markdown",
      "metadata": {
        "id": "FL-eDQnxgsug"
      },
      "source": [
        "# You have to convert each string variable into datetime objects"
      ]
    },
    {
      "cell_type": "code",
      "metadata": {
        "id": "gRsiQWy1hFaz",
        "colab": {
          "base_uri": "https://localhost:8080/"
        },
        "outputId": "06404e0d-c91f-45d3-dc91-c381444e2d04"
      },
      "source": [
        "var1 = '2018-01-04'\n",
        "print(type(var1))\n",
        "print(var1)"
      ],
      "execution_count": null,
      "outputs": [
        {
          "output_type": "stream",
          "name": "stdout",
          "text": [
            "<class 'str'>\n",
            "2018-01-04\n"
          ]
        }
      ]
    },
    {
      "cell_type": "code",
      "metadata": {
        "colab": {
          "base_uri": "https://localhost:8080/"
        },
        "id": "30TVwtKeT_F8",
        "outputId": "fbe5176d-029e-4927-a86d-96f588c678c3"
      },
      "source": [
        "# It's up to you :\n",
        "\n",
        "var1 = datetime.strptime(var1, \"%Y-%m-%d\")\n",
        "print(type(var1))\n",
        "print(var1)"
      ],
      "execution_count": null,
      "outputs": [
        {
          "output_type": "stream",
          "name": "stdout",
          "text": [
            "<class 'datetime.datetime'>\n",
            "2018-01-04 00:00:00\n"
          ]
        }
      ]
    },
    {
      "cell_type": "code",
      "metadata": {
        "id": "-m_HBQQRhfrO",
        "colab": {
          "base_uri": "https://localhost:8080/"
        },
        "outputId": "9ffd1ccd-22c7-416e-909a-3a9b6a200c6d"
      },
      "source": [
        "var2 = '14/02/2019'\n",
        "# It's up to you :\n",
        "var2 = datetime.strptime(var2, \"%d/%m/%Y\")\n",
        "print(type(var2))\n",
        "print(var2)\n"
      ],
      "execution_count": null,
      "outputs": [
        {
          "output_type": "stream",
          "name": "stdout",
          "text": [
            "<class 'datetime.datetime'>\n",
            "2019-02-14 00:00:00\n"
          ]
        }
      ]
    },
    {
      "cell_type": "code",
      "metadata": {
        "id": "-UWufd5WhrXh",
        "colab": {
          "base_uri": "https://localhost:8080/"
        },
        "outputId": "e06341c2-333a-4809-90b9-e4485de0b2b8"
      },
      "source": [
        "var3 = '14 03 20'\n",
        "# It's up to you :\n",
        "var3 = datetime.strptime(var3, \"%d %m %y\")\n",
        "print(type(var3))\n",
        "print(var3)\n"
      ],
      "execution_count": null,
      "outputs": [
        {
          "output_type": "stream",
          "name": "stdout",
          "text": [
            "<class 'datetime.datetime'>\n",
            "2020-03-14 00:00:00\n"
          ]
        }
      ]
    },
    {
      "cell_type": "code",
      "metadata": {
        "id": "KIDWq6hXh8sL",
        "colab": {
          "base_uri": "https://localhost:8080/"
        },
        "outputId": "68b0fbf1-5455-4846-80f3-8d3c66df51d5"
      },
      "source": [
        "var4 = '14/02/2019 21:30'\n",
        "# It's up to you :\n",
        "var4 = datetime.strptime(var4, \"%d/%m/%Y %M:%S\")\n",
        "print(type(var4))\n",
        "print(var4)\n"
      ],
      "execution_count": null,
      "outputs": [
        {
          "output_type": "stream",
          "name": "stdout",
          "text": [
            "<class 'datetime.datetime'>\n",
            "2019-02-14 00:21:30\n"
          ]
        }
      ]
    },
    {
      "cell_type": "code",
      "metadata": {
        "id": "9N-VqO3DiA9y",
        "colab": {
          "base_uri": "https://localhost:8080/"
        },
        "outputId": "fcd6a3b8-b11f-4bdd-b3b1-b46a2aa27378"
      },
      "source": [
        "var5 = '2018-01-04 at 18 hours and 48 min'\n",
        "# It's up to you :\n",
        "var5 = datetime.strptime(var5, \"%Y-%m-%d at %H hours and %M min\")\n",
        "print(type(var5))\n",
        "print(var5)\n"
      ],
      "execution_count": null,
      "outputs": [
        {
          "output_type": "stream",
          "name": "stdout",
          "text": [
            "<class 'datetime.datetime'>\n",
            "2018-01-04 18:48:00\n"
          ]
        }
      ]
    },
    {
      "cell_type": "markdown",
      "metadata": {
        "id": "6xa7YX8AivRC"
      },
      "source": [
        "# You have to convert a datetime object into string with precise format"
      ]
    },
    {
      "cell_type": "code",
      "metadata": {
        "id": "ZqAwQbGKi8Og",
        "colab": {
          "base_uri": "https://localhost:8080/"
        },
        "outputId": "0c314754-6a4d-4911-a913-e982d934f52f"
      },
      "source": [
        "var_date = datetime.strptime('2020-02-15 20:05', '%Y-%m-%d %H:%M')\n",
        "print(var_date)"
      ],
      "execution_count": null,
      "outputs": [
        {
          "output_type": "stream",
          "name": "stdout",
          "text": [
            "2020-02-15 20:05:00\n"
          ]
        }
      ]
    },
    {
      "cell_type": "code",
      "metadata": {
        "id": "Te-biE9gjkj8",
        "colab": {
          "base_uri": "https://localhost:8080/"
        },
        "outputId": "5da42e5c-e19c-4b24-b77b-78089e98292f"
      },
      "source": [
        "# We would like to print this format : 15/02/2020\n",
        "var_date_2 = datetime.strftime(var_date, \"%d/%m/%Y\")\n",
        "print(var_date_2)"
      ],
      "execution_count": null,
      "outputs": [
        {
          "output_type": "stream",
          "name": "stdout",
          "text": [
            "15/02/2020\n"
          ]
        }
      ]
    },
    {
      "cell_type": "code",
      "metadata": {
        "id": "YaKMyjwcjwQE",
        "colab": {
          "base_uri": "https://localhost:8080/"
        },
        "outputId": "b089a28f-40f3-49c3-e308-943101c5a85e"
      },
      "source": [
        "# We would like to print this format : 15-02-2020\n",
        "var_date_3 = datetime.strftime(var_date, \"%d-%m-%Y\")\n",
        "print(var_date_3)"
      ],
      "execution_count": null,
      "outputs": [
        {
          "output_type": "stream",
          "name": "stdout",
          "text": [
            "15-02-2020\n"
          ]
        }
      ]
    },
    {
      "cell_type": "code",
      "metadata": {
        "id": "-QuUBNpaj1ze",
        "colab": {
          "base_uri": "https://localhost:8080/"
        },
        "outputId": "515094cc-a9b0-4787-ed70-88cb3e67173f"
      },
      "source": [
        "# We would like to print this format : 15/02\n",
        "var_date_3 = datetime.strftime(var_date, \"%d/%m\")\n",
        "print(var_date_3)"
      ],
      "execution_count": null,
      "outputs": [
        {
          "output_type": "stream",
          "name": "stdout",
          "text": [
            "15/02\n"
          ]
        }
      ]
    },
    {
      "cell_type": "code",
      "metadata": {
        "id": "HkWp_pmbj2lw",
        "colab": {
          "base_uri": "https://localhost:8080/"
        },
        "outputId": "4bf4db0d-e630-4263-fb14-9168a4686f45"
      },
      "source": [
        "# We would like to print this format : 2020-02\n",
        "var_date_4 = datetime.strftime(var_date, \"%Y-%m\")\n",
        "print(var_date_4)"
      ],
      "execution_count": null,
      "outputs": [
        {
          "output_type": "stream",
          "name": "stdout",
          "text": [
            "2020-02\n"
          ]
        }
      ]
    },
    {
      "cell_type": "code",
      "metadata": {
        "id": "_wPUl9tvj3DX",
        "colab": {
          "base_uri": "https://localhost:8080/"
        },
        "outputId": "0287797e-a43b-45fa-950d-edb80849eacf"
      },
      "source": [
        "# We would like to print this format : 2020-02-15 at 20:05\n",
        "var_date_5 = datetime.strftime(var_date, \"%Y-%m-%d at %H:%M\")\n",
        "print(var_date_5)"
      ],
      "execution_count": null,
      "outputs": [
        {
          "output_type": "stream",
          "name": "stdout",
          "text": [
            "2020-02-15 at 20:05\n"
          ]
        }
      ]
    },
    {
      "cell_type": "markdown",
      "metadata": {
        "id": "Bdh3lWC-kKeP"
      },
      "source": [
        "# Your mission is to determine which date it was / it will be"
      ]
    },
    {
      "cell_type": "code",
      "metadata": {
        "id": "mqjWPixhjRJt",
        "colab": {
          "base_uri": "https://localhost:8080/"
        },
        "outputId": "bdb10f77-b0c2-43c5-9433-887bf33e112b"
      },
      "source": [
        "# what day will it be in 7 weeks ?\n",
        "print(datetime.now() + timedelta(weeks=7))\n"
      ],
      "execution_count": null,
      "outputs": [
        {
          "output_type": "stream",
          "name": "stdout",
          "text": [
            "2021-12-14 06:58:49.192897\n"
          ]
        }
      ]
    },
    {
      "cell_type": "code",
      "metadata": {
        "id": "i9qsaEC7kdV_",
        "colab": {
          "base_uri": "https://localhost:8080/"
        },
        "outputId": "3b16be2d-ce1d-42d8-8a3e-b4c078311eda"
      },
      "source": [
        "# what day will it be in 7 days ?\n",
        "print(datetime.now() + timedelta(days=7))\n"
      ],
      "execution_count": null,
      "outputs": [
        {
          "output_type": "stream",
          "name": "stdout",
          "text": [
            "2021-11-02 06:58:49.204054\n"
          ]
        }
      ]
    },
    {
      "cell_type": "code",
      "metadata": {
        "id": "SJYZOuUikhIq",
        "colab": {
          "base_uri": "https://localhost:8080/"
        },
        "outputId": "370c9f81-b1b6-4f81-801b-1fa85ee2a027"
      },
      "source": [
        "# what day will it be in 72 hours ?\n",
        "print(datetime.now() + timedelta(hours=72))\n"
      ],
      "execution_count": null,
      "outputs": [
        {
          "output_type": "stream",
          "name": "stdout",
          "text": [
            "2021-10-29 06:58:49.215519\n"
          ]
        }
      ]
    },
    {
      "cell_type": "code",
      "metadata": {
        "id": "kdk858vtkljP",
        "colab": {
          "base_uri": "https://localhost:8080/"
        },
        "outputId": "c828224e-72a3-4ee6-c62a-035c8bfb9223"
      },
      "source": [
        "# what date was 30 days ago ?\n",
        "print(datetime.now() - timedelta(days=30))\n"
      ],
      "execution_count": null,
      "outputs": [
        {
          "output_type": "stream",
          "name": "stdout",
          "text": [
            "2021-09-26 06:58:49.226364\n"
          ]
        }
      ]
    },
    {
      "cell_type": "code",
      "metadata": {
        "id": "EEORndhxkuA1",
        "colab": {
          "base_uri": "https://localhost:8080/"
        },
        "outputId": "2ceb0c67-d55a-4b76-841e-f04f3a1762cf"
      },
      "source": [
        "# what date was 30 weeks ago ?\n",
        "print(datetime.now() - timedelta(weeks=30))\n"
      ],
      "execution_count": null,
      "outputs": [
        {
          "output_type": "stream",
          "name": "stdout",
          "text": [
            "2021-03-30 06:58:49.237346\n"
          ]
        }
      ]
    },
    {
      "cell_type": "markdown",
      "metadata": {
        "id": "vlbi8zDok3sp"
      },
      "source": [
        "# With Pandas\n",
        "\"DATE\" column has only string values. On a chart, the X-axis is not well displayed."
      ]
    },
    {
      "cell_type": "code",
      "metadata": {
        "id": "yd0cJVoLk3YZ",
        "colab": {
          "base_uri": "https://localhost:8080/",
          "height": 264
        },
        "outputId": "7dac1abb-9635-4baa-a7d7-61ad4aaf50dc"
      },
      "source": [
        "# Just execute the code below:\n",
        "df = pd.read_csv(\"https://raw.githubusercontent.com/murpi/wilddata/master/quests/weather2019.csv\")\n",
        "plt.scatter(x = df['DATE'], \n",
        "            y = df['MAX_TEMPERATURE_C'])\n",
        "plt.show()"
      ],
      "execution_count": null,
      "outputs": [
        {
          "output_type": "display_data",
          "data": {
            "image/png": "[encoded data removed]",
            "text/plain": [
              "<Figure size 432x288 with 1 Axes>"
            ]
          },
          "metadata": {
            "needs_background": "light"
          }
        }
      ]
    },
    {
      "cell_type": "code",
      "metadata": {
        "id": "-ZxwPNNelIJV",
        "colab": {
          "base_uri": "https://localhost:8080/",
          "height": 264
        },
        "outputId": "fd56af2a-c229-4441-ce1b-33c8bfe0d3ab"
      },
      "source": [
        "# Convert \"DATE\" column into a datetime format, then display the same chart. Are ticks on X-axis better printed ?\n",
        "df['DATE'] = pd.to_datetime(df['DATE'], format=\"%Y-%m-%d\")\n",
        "plt.scatter(x = df['DATE'], \n",
        "            y = df['MAX_TEMPERATURE_C'])\n",
        "plt.show()\n"
      ],
      "execution_count": null,
      "outputs": [
        {
          "output_type": "display_data",
          "data": {
            "image/png": "[encoded data removed]",
            "text/plain": [
              "<Figure size 432x288 with 1 Axes>"
            ]
          },
          "metadata": {
            "needs_background": "light"
          }
        }
      ]
    },
    {
      "cell_type": "code",
      "metadata": {
        "id": "UEyTRF_ZooSz",
        "colab": {
          "base_uri": "https://localhost:8080/",
          "height": 303
        },
        "outputId": "072c7108-0662-4b03-9741-c6726fe61fb9"
      },
      "source": [
        "# Display only rows for the month of June\n",
        "plt.scatter(x = df['DATE'].loc[(df['DATE'] >= '2019-06-01') & (df['DATE'] <= '2019-06-30')], \n",
        "            y = df['MAX_TEMPERATURE_C'].loc[(df['DATE'] >= '2019-06-01') & (df['DATE'] <= '2019-06-30')])\n",
        "plt.xticks(rotation=45)\n",
        "\n",
        "plt.show()\n"
      ],
      "execution_count": null,
      "outputs": [
        {
          "output_type": "display_data",
          "data": {
            "image/png": "[encoded data removed]",
            "text/plain": [
              "<Figure size 432x288 with 1 Axes>"
            ]
          },
          "metadata": {
            "needs_background": "light"
          }
        }
      ]
    },
    {
      "cell_type": "code",
      "metadata": {
        "colab": {
          "base_uri": "https://localhost:8080/",
          "height": 303
        },
        "id": "CWbrplIwiD4z",
        "outputId": "ebf79427-5da0-4884-f04c-5b601c385f9e"
      },
      "source": [
        "plt.scatter(x = df['DATE'][df['DATE'].dt.month == 6], \n",
        "            y = df['MAX_TEMPERATURE_C'][df['DATE'].dt.month == 6])\n",
        "plt.xticks(rotation=45)\n",
        "\n",
        "plt.show()"
      ],
      "execution_count": null,
      "outputs": [
        {
          "output_type": "display_data",
          "data": {
            "image/png": "[encoded data removed]",
            "text/plain": [
              "<Figure size 432x288 with 1 Axes>"
            ]
          },
          "metadata": {
            "needs_background": "light"
          }
        }
      ]
    },
    {
      "cell_type": "code",
      "metadata": {
        "id": "VF49yDxCixsF",
        "colab": {
          "base_uri": "https://localhost:8080/",
          "height": 1000
        },
        "outputId": "bd3ef104-25aa-4fe3-fd01-1863b672f7f6"
      },
      "source": [
        "df[df['DATE'].dt.month == 6]"
      ],
      "execution_count": null,
      "outputs": [
        {
          "output_type": "execute_result",
          "data": {
            "text/html": [
              "<div>\n",
              "<style scoped>\n",
              "    .dataframe tbody tr th:only-of-type {\n",
              "        vertical-align: middle;\n",
              "    }\n",
              "\n",
              "    .dataframe tbody tr th {\n",
              "        vertical-align: top;\n",
              "    }\n",
              "\n",
              "    .dataframe thead th {\n",
              "        text-align: right;\n",
              "    }\n",
              "</style>\n",
              "<table border=\"1\" class=\"dataframe\">\n",
              "  <thead>\n",
              "    <tr style=\"text-align: right;\">\n",
              "      <th></th>\n",
              "      <th>DATE</th>\n",
              "      <th>MAX_TEMPERATURE_C</th>\n",
              "      <th>MIN_TEMPERATURE_C</th>\n",
              "      <th>WINDSPEED_MAX_KMH</th>\n",
              "      <th>TEMPERATURE_MORNING_C</th>\n",
              "      <th>TEMPERATURE_NOON_C</th>\n",
              "      <th>TEMPERATURE_EVENING_C</th>\n",
              "      <th>PRECIP_TOTAL_DAY_MM</th>\n",
              "      <th>HUMIDITY_MAX_PERCENT</th>\n",
              "      <th>VISIBILITY_AVG_KM</th>\n",
              "      <th>PRESSURE_MAX_MB</th>\n",
              "      <th>CLOUDCOVER_AVG_PERCENT</th>\n",
              "      <th>HEATINDEX_MAX_C</th>\n",
              "      <th>DEWPOINT_MAX_C</th>\n",
              "      <th>WINDTEMP_MAX_C</th>\n",
              "      <th>WEATHER_CODE_MORNING</th>\n",
              "      <th>WEATHER_CODE_NOON</th>\n",
              "      <th>WEATHER_CODE_EVENING</th>\n",
              "      <th>TOTAL_SNOW_MM</th>\n",
              "      <th>UV_INDEX</th>\n",
              "      <th>SUNHOUR</th>\n",
              "      <th>OPINION</th>\n",
              "      <th>MONTH</th>\n",
              "      <th>DAY</th>\n",
              "    </tr>\n",
              "  </thead>\n",
              "  <tbody>\n",
              "    <tr>\n",
              "      <th>151</th>\n",
              "      <td>2019-06-01</td>\n",
              "      <td>29</td>\n",
              "      <td>16</td>\n",
              "      <td>9</td>\n",
              "      <td>17</td>\n",
              "      <td>27</td>\n",
              "      <td>27</td>\n",
              "      <td>0.0</td>\n",
              "      <td>75</td>\n",
              "      <td>10.000</td>\n",
              "      <td>1023</td>\n",
              "      <td>6.625</td>\n",
              "      <td>30</td>\n",
              "      <td>19</td>\n",
              "      <td>22</td>\n",
              "      <td>116</td>\n",
              "      <td>113</td>\n",
              "      <td>113</td>\n",
              "      <td>0</td>\n",
              "      <td>1</td>\n",
              "      <td>14.5</td>\n",
              "      <td>very good</td>\n",
              "      <td>6</td>\n",
              "      <td>1</td>\n",
              "    </tr>\n",
              "    <tr>\n",
              "      <th>152</th>\n",
              "      <td>2019-06-02</td>\n",
              "      <td>23</td>\n",
              "      <td>15</td>\n",
              "      <td>17</td>\n",
              "      <td>19</td>\n",
              "      <td>23</td>\n",
              "      <td>20</td>\n",
              "      <td>0.0</td>\n",
              "      <td>72</td>\n",
              "      <td>10.000</td>\n",
              "      <td>1016</td>\n",
              "      <td>26.625</td>\n",
              "      <td>25</td>\n",
              "      <td>16</td>\n",
              "      <td>21</td>\n",
              "      <td>116</td>\n",
              "      <td>116</td>\n",
              "      <td>119</td>\n",
              "      <td>0</td>\n",
              "      <td>1</td>\n",
              "      <td>13.5</td>\n",
              "      <td>good</td>\n",
              "      <td>6</td>\n",
              "      <td>2</td>\n",
              "    </tr>\n",
              "    <tr>\n",
              "      <th>153</th>\n",
              "      <td>2019-06-03</td>\n",
              "      <td>20</td>\n",
              "      <td>14</td>\n",
              "      <td>14</td>\n",
              "      <td>14</td>\n",
              "      <td>19</td>\n",
              "      <td>19</td>\n",
              "      <td>0.5</td>\n",
              "      <td>77</td>\n",
              "      <td>8.000</td>\n",
              "      <td>1017</td>\n",
              "      <td>49.125</td>\n",
              "      <td>20</td>\n",
              "      <td>14</td>\n",
              "      <td>16</td>\n",
              "      <td>266</td>\n",
              "      <td>116</td>\n",
              "      <td>116</td>\n",
              "      <td>0</td>\n",
              "      <td>1</td>\n",
              "      <td>12.6</td>\n",
              "      <td>good</td>\n",
              "      <td>6</td>\n",
              "      <td>3</td>\n",
              "    </tr>\n",
              "    <tr>\n",
              "      <th>154</th>\n",
              "      <td>2019-06-04</td>\n",
              "      <td>19</td>\n",
              "      <td>13</td>\n",
              "      <td>25</td>\n",
              "      <td>14</td>\n",
              "      <td>18</td>\n",
              "      <td>18</td>\n",
              "      <td>6.3</td>\n",
              "      <td>87</td>\n",
              "      <td>9.375</td>\n",
              "      <td>1014</td>\n",
              "      <td>73.625</td>\n",
              "      <td>19</td>\n",
              "      <td>16</td>\n",
              "      <td>17</td>\n",
              "      <td>296</td>\n",
              "      <td>353</td>\n",
              "      <td>122</td>\n",
              "      <td>0</td>\n",
              "      <td>1</td>\n",
              "      <td>9.7</td>\n",
              "      <td>bad</td>\n",
              "      <td>6</td>\n",
              "      <td>4</td>\n",
              "    </tr>\n",
              "    <tr>\n",
              "      <th>155</th>\n",
              "      <td>2019-06-05</td>\n",
              "      <td>16</td>\n",
              "      <td>10</td>\n",
              "      <td>15</td>\n",
              "      <td>12</td>\n",
              "      <td>16</td>\n",
              "      <td>15</td>\n",
              "      <td>1.5</td>\n",
              "      <td>76</td>\n",
              "      <td>9.875</td>\n",
              "      <td>1011</td>\n",
              "      <td>57.125</td>\n",
              "      <td>16</td>\n",
              "      <td>12</td>\n",
              "      <td>15</td>\n",
              "      <td>116</td>\n",
              "      <td>176</td>\n",
              "      <td>176</td>\n",
              "      <td>0</td>\n",
              "      <td>1</td>\n",
              "      <td>9.7</td>\n",
              "      <td>not good not bad</td>\n",
              "      <td>6</td>\n",
              "      <td>5</td>\n",
              "    </tr>\n",
              "    <tr>\n",
              "      <th>156</th>\n",
              "      <td>2019-06-06</td>\n",
              "      <td>18</td>\n",
              "      <td>9</td>\n",
              "      <td>16</td>\n",
              "      <td>10</td>\n",
              "      <td>17</td>\n",
              "      <td>17</td>\n",
              "      <td>2.7</td>\n",
              "      <td>75</td>\n",
              "      <td>9.625</td>\n",
              "      <td>1013</td>\n",
              "      <td>52.750</td>\n",
              "      <td>18</td>\n",
              "      <td>12</td>\n",
              "      <td>13</td>\n",
              "      <td>116</td>\n",
              "      <td>176</td>\n",
              "      <td>353</td>\n",
              "      <td>0</td>\n",
              "      <td>1</td>\n",
              "      <td>11.6</td>\n",
              "      <td>good</td>\n",
              "      <td>6</td>\n",
              "      <td>6</td>\n",
              "    </tr>\n",
              "    <tr>\n",
              "      <th>157</th>\n",
              "      <td>2019-06-07</td>\n",
              "      <td>15</td>\n",
              "      <td>13</td>\n",
              "      <td>42</td>\n",
              "      <td>14</td>\n",
              "      <td>15</td>\n",
              "      <td>13</td>\n",
              "      <td>27.3</td>\n",
              "      <td>83</td>\n",
              "      <td>8.625</td>\n",
              "      <td>1015</td>\n",
              "      <td>81.125</td>\n",
              "      <td>15</td>\n",
              "      <td>12</td>\n",
              "      <td>12</td>\n",
              "      <td>299</td>\n",
              "      <td>353</td>\n",
              "      <td>356</td>\n",
              "      <td>0</td>\n",
              "      <td>1</td>\n",
              "      <td>9.7</td>\n",
              "      <td>very bad</td>\n",
              "      <td>6</td>\n",
              "      <td>7</td>\n",
              "    </tr>\n",
              "    <tr>\n",
              "      <th>158</th>\n",
              "      <td>2019-06-08</td>\n",
              "      <td>18</td>\n",
              "      <td>11</td>\n",
              "      <td>27</td>\n",
              "      <td>12</td>\n",
              "      <td>17</td>\n",
              "      <td>17</td>\n",
              "      <td>3.4</td>\n",
              "      <td>77</td>\n",
              "      <td>9.375</td>\n",
              "      <td>1023</td>\n",
              "      <td>64.000</td>\n",
              "      <td>18</td>\n",
              "      <td>10</td>\n",
              "      <td>14</td>\n",
              "      <td>176</td>\n",
              "      <td>176</td>\n",
              "      <td>176</td>\n",
              "      <td>0</td>\n",
              "      <td>1</td>\n",
              "      <td>13.7</td>\n",
              "      <td>not good not bad</td>\n",
              "      <td>6</td>\n",
              "      <td>8</td>\n",
              "    </tr>\n",
              "    <tr>\n",
              "      <th>159</th>\n",
              "      <td>2019-06-09</td>\n",
              "      <td>16</td>\n",
              "      <td>10</td>\n",
              "      <td>14</td>\n",
              "      <td>11</td>\n",
              "      <td>16</td>\n",
              "      <td>13</td>\n",
              "      <td>4.0</td>\n",
              "      <td>82</td>\n",
              "      <td>15.375</td>\n",
              "      <td>1023</td>\n",
              "      <td>58.875</td>\n",
              "      <td>16</td>\n",
              "      <td>12</td>\n",
              "      <td>13</td>\n",
              "      <td>116</td>\n",
              "      <td>116</td>\n",
              "      <td>353</td>\n",
              "      <td>0</td>\n",
              "      <td>1</td>\n",
              "      <td>13.8</td>\n",
              "      <td>not good not bad</td>\n",
              "      <td>6</td>\n",
              "      <td>9</td>\n",
              "    </tr>\n",
              "    <tr>\n",
              "      <th>160</th>\n",
              "      <td>2019-06-10</td>\n",
              "      <td>17</td>\n",
              "      <td>9</td>\n",
              "      <td>23</td>\n",
              "      <td>10</td>\n",
              "      <td>16</td>\n",
              "      <td>15</td>\n",
              "      <td>2.7</td>\n",
              "      <td>78</td>\n",
              "      <td>9.125</td>\n",
              "      <td>1019</td>\n",
              "      <td>56.500</td>\n",
              "      <td>17</td>\n",
              "      <td>10</td>\n",
              "      <td>12</td>\n",
              "      <td>143</td>\n",
              "      <td>176</td>\n",
              "      <td>299</td>\n",
              "      <td>0</td>\n",
              "      <td>1</td>\n",
              "      <td>14.7</td>\n",
              "      <td>not good not bad</td>\n",
              "      <td>6</td>\n",
              "      <td>10</td>\n",
              "    </tr>\n",
              "    <tr>\n",
              "      <th>161</th>\n",
              "      <td>2019-06-11</td>\n",
              "      <td>15</td>\n",
              "      <td>7</td>\n",
              "      <td>15</td>\n",
              "      <td>9</td>\n",
              "      <td>15</td>\n",
              "      <td>14</td>\n",
              "      <td>3.4</td>\n",
              "      <td>77</td>\n",
              "      <td>10.250</td>\n",
              "      <td>1013</td>\n",
              "      <td>76.375</td>\n",
              "      <td>15</td>\n",
              "      <td>10</td>\n",
              "      <td>12</td>\n",
              "      <td>143</td>\n",
              "      <td>119</td>\n",
              "      <td>353</td>\n",
              "      <td>0</td>\n",
              "      <td>1</td>\n",
              "      <td>13.8</td>\n",
              "      <td>bad</td>\n",
              "      <td>6</td>\n",
              "      <td>11</td>\n",
              "    </tr>\n",
              "    <tr>\n",
              "      <th>162</th>\n",
              "      <td>2019-06-12</td>\n",
              "      <td>16</td>\n",
              "      <td>8</td>\n",
              "      <td>23</td>\n",
              "      <td>9</td>\n",
              "      <td>15</td>\n",
              "      <td>15</td>\n",
              "      <td>5.1</td>\n",
              "      <td>85</td>\n",
              "      <td>15.500</td>\n",
              "      <td>1011</td>\n",
              "      <td>73.500</td>\n",
              "      <td>16</td>\n",
              "      <td>11</td>\n",
              "      <td>11</td>\n",
              "      <td>248</td>\n",
              "      <td>122</td>\n",
              "      <td>356</td>\n",
              "      <td>0</td>\n",
              "      <td>1</td>\n",
              "      <td>12.9</td>\n",
              "      <td>bad</td>\n",
              "      <td>6</td>\n",
              "      <td>12</td>\n",
              "    </tr>\n",
              "    <tr>\n",
              "      <th>163</th>\n",
              "      <td>2019-06-13</td>\n",
              "      <td>18</td>\n",
              "      <td>10</td>\n",
              "      <td>21</td>\n",
              "      <td>12</td>\n",
              "      <td>17</td>\n",
              "      <td>16</td>\n",
              "      <td>2.3</td>\n",
              "      <td>79</td>\n",
              "      <td>17.625</td>\n",
              "      <td>1012</td>\n",
              "      <td>54.250</td>\n",
              "      <td>18</td>\n",
              "      <td>11</td>\n",
              "      <td>14</td>\n",
              "      <td>296</td>\n",
              "      <td>353</td>\n",
              "      <td>116</td>\n",
              "      <td>0</td>\n",
              "      <td>1</td>\n",
              "      <td>14.7</td>\n",
              "      <td>not good not bad</td>\n",
              "      <td>6</td>\n",
              "      <td>13</td>\n",
              "    </tr>\n",
              "    <tr>\n",
              "      <th>164</th>\n",
              "      <td>2019-06-14</td>\n",
              "      <td>19</td>\n",
              "      <td>10</td>\n",
              "      <td>16</td>\n",
              "      <td>12</td>\n",
              "      <td>19</td>\n",
              "      <td>17</td>\n",
              "      <td>0.0</td>\n",
              "      <td>72</td>\n",
              "      <td>20.000</td>\n",
              "      <td>1014</td>\n",
              "      <td>12.500</td>\n",
              "      <td>19</td>\n",
              "      <td>10</td>\n",
              "      <td>15</td>\n",
              "      <td>143</td>\n",
              "      <td>116</td>\n",
              "      <td>116</td>\n",
              "      <td>0</td>\n",
              "      <td>1</td>\n",
              "      <td>15.9</td>\n",
              "      <td>good</td>\n",
              "      <td>6</td>\n",
              "      <td>14</td>\n",
              "    </tr>\n",
              "    <tr>\n",
              "      <th>165</th>\n",
              "      <td>2019-06-15</td>\n",
              "      <td>18</td>\n",
              "      <td>10</td>\n",
              "      <td>28</td>\n",
              "      <td>12</td>\n",
              "      <td>18</td>\n",
              "      <td>16</td>\n",
              "      <td>0.6</td>\n",
              "      <td>76</td>\n",
              "      <td>18.875</td>\n",
              "      <td>1019</td>\n",
              "      <td>57.750</td>\n",
              "      <td>18</td>\n",
              "      <td>12</td>\n",
              "      <td>15</td>\n",
              "      <td>143</td>\n",
              "      <td>176</td>\n",
              "      <td>176</td>\n",
              "      <td>0</td>\n",
              "      <td>1</td>\n",
              "      <td>13.8</td>\n",
              "      <td>not good not bad</td>\n",
              "      <td>6</td>\n",
              "      <td>15</td>\n",
              "    </tr>\n",
              "    <tr>\n",
              "      <th>166</th>\n",
              "      <td>2019-06-16</td>\n",
              "      <td>19</td>\n",
              "      <td>13</td>\n",
              "      <td>17</td>\n",
              "      <td>14</td>\n",
              "      <td>18</td>\n",
              "      <td>19</td>\n",
              "      <td>0.3</td>\n",
              "      <td>78</td>\n",
              "      <td>17.625</td>\n",
              "      <td>1022</td>\n",
              "      <td>53.500</td>\n",
              "      <td>19</td>\n",
              "      <td>12</td>\n",
              "      <td>16</td>\n",
              "      <td>176</td>\n",
              "      <td>176</td>\n",
              "      <td>116</td>\n",
              "      <td>0</td>\n",
              "      <td>1</td>\n",
              "      <td>14.7</td>\n",
              "      <td>good</td>\n",
              "      <td>6</td>\n",
              "      <td>16</td>\n",
              "    </tr>\n",
              "    <tr>\n",
              "      <th>167</th>\n",
              "      <td>2019-06-17</td>\n",
              "      <td>25</td>\n",
              "      <td>10</td>\n",
              "      <td>8</td>\n",
              "      <td>12</td>\n",
              "      <td>23</td>\n",
              "      <td>25</td>\n",
              "      <td>0.0</td>\n",
              "      <td>73</td>\n",
              "      <td>20.000</td>\n",
              "      <td>1021</td>\n",
              "      <td>14.625</td>\n",
              "      <td>26</td>\n",
              "      <td>15</td>\n",
              "      <td>18</td>\n",
              "      <td>116</td>\n",
              "      <td>116</td>\n",
              "      <td>116</td>\n",
              "      <td>0</td>\n",
              "      <td>1</td>\n",
              "      <td>16.0</td>\n",
              "      <td>good</td>\n",
              "      <td>6</td>\n",
              "      <td>17</td>\n",
              "    </tr>\n",
              "    <tr>\n",
              "      <th>168</th>\n",
              "      <td>2019-06-18</td>\n",
              "      <td>28</td>\n",
              "      <td>17</td>\n",
              "      <td>19</td>\n",
              "      <td>18</td>\n",
              "      <td>26</td>\n",
              "      <td>26</td>\n",
              "      <td>0.0</td>\n",
              "      <td>81</td>\n",
              "      <td>19.000</td>\n",
              "      <td>1015</td>\n",
              "      <td>23.875</td>\n",
              "      <td>28</td>\n",
              "      <td>17</td>\n",
              "      <td>20</td>\n",
              "      <td>119</td>\n",
              "      <td>116</td>\n",
              "      <td>116</td>\n",
              "      <td>0</td>\n",
              "      <td>1</td>\n",
              "      <td>16.0</td>\n",
              "      <td>good</td>\n",
              "      <td>6</td>\n",
              "      <td>18</td>\n",
              "    </tr>\n",
              "    <tr>\n",
              "      <th>169</th>\n",
              "      <td>2019-06-19</td>\n",
              "      <td>20</td>\n",
              "      <td>14</td>\n",
              "      <td>26</td>\n",
              "      <td>17</td>\n",
              "      <td>20</td>\n",
              "      <td>19</td>\n",
              "      <td>0.9</td>\n",
              "      <td>79</td>\n",
              "      <td>11.500</td>\n",
              "      <td>1013</td>\n",
              "      <td>61.625</td>\n",
              "      <td>20</td>\n",
              "      <td>15</td>\n",
              "      <td>19</td>\n",
              "      <td>119</td>\n",
              "      <td>176</td>\n",
              "      <td>176</td>\n",
              "      <td>0</td>\n",
              "      <td>1</td>\n",
              "      <td>12.9</td>\n",
              "      <td>not good not bad</td>\n",
              "      <td>6</td>\n",
              "      <td>19</td>\n",
              "    </tr>\n",
              "    <tr>\n",
              "      <th>170</th>\n",
              "      <td>2019-06-20</td>\n",
              "      <td>20</td>\n",
              "      <td>12</td>\n",
              "      <td>15</td>\n",
              "      <td>12</td>\n",
              "      <td>19</td>\n",
              "      <td>18</td>\n",
              "      <td>0.0</td>\n",
              "      <td>68</td>\n",
              "      <td>9.000</td>\n",
              "      <td>1018</td>\n",
              "      <td>34.875</td>\n",
              "      <td>20</td>\n",
              "      <td>13</td>\n",
              "      <td>15</td>\n",
              "      <td>119</td>\n",
              "      <td>116</td>\n",
              "      <td>116</td>\n",
              "      <td>0</td>\n",
              "      <td>1</td>\n",
              "      <td>16.0</td>\n",
              "      <td>good</td>\n",
              "      <td>6</td>\n",
              "      <td>20</td>\n",
              "    </tr>\n",
              "    <tr>\n",
              "      <th>171</th>\n",
              "      <td>2019-06-21</td>\n",
              "      <td>20</td>\n",
              "      <td>10</td>\n",
              "      <td>13</td>\n",
              "      <td>12</td>\n",
              "      <td>20</td>\n",
              "      <td>19</td>\n",
              "      <td>0.5</td>\n",
              "      <td>70</td>\n",
              "      <td>9.875</td>\n",
              "      <td>1021</td>\n",
              "      <td>47.750</td>\n",
              "      <td>20</td>\n",
              "      <td>12</td>\n",
              "      <td>16</td>\n",
              "      <td>116</td>\n",
              "      <td>116</td>\n",
              "      <td>176</td>\n",
              "      <td>0</td>\n",
              "      <td>1</td>\n",
              "      <td>14.7</td>\n",
              "      <td>good</td>\n",
              "      <td>6</td>\n",
              "      <td>21</td>\n",
              "    </tr>\n",
              "    <tr>\n",
              "      <th>172</th>\n",
              "      <td>2019-06-22</td>\n",
              "      <td>23</td>\n",
              "      <td>11</td>\n",
              "      <td>15</td>\n",
              "      <td>14</td>\n",
              "      <td>22</td>\n",
              "      <td>23</td>\n",
              "      <td>0.0</td>\n",
              "      <td>70</td>\n",
              "      <td>10.000</td>\n",
              "      <td>1022</td>\n",
              "      <td>11.250</td>\n",
              "      <td>25</td>\n",
              "      <td>15</td>\n",
              "      <td>18</td>\n",
              "      <td>116</td>\n",
              "      <td>116</td>\n",
              "      <td>116</td>\n",
              "      <td>0</td>\n",
              "      <td>1</td>\n",
              "      <td>16.0</td>\n",
              "      <td>good</td>\n",
              "      <td>6</td>\n",
              "      <td>22</td>\n",
              "    </tr>\n",
              "    <tr>\n",
              "      <th>173</th>\n",
              "      <td>2019-06-23</td>\n",
              "      <td>27</td>\n",
              "      <td>15</td>\n",
              "      <td>16</td>\n",
              "      <td>16</td>\n",
              "      <td>25</td>\n",
              "      <td>23</td>\n",
              "      <td>0.0</td>\n",
              "      <td>76</td>\n",
              "      <td>10.000</td>\n",
              "      <td>1015</td>\n",
              "      <td>37.875</td>\n",
              "      <td>27</td>\n",
              "      <td>16</td>\n",
              "      <td>20</td>\n",
              "      <td>116</td>\n",
              "      <td>116</td>\n",
              "      <td>116</td>\n",
              "      <td>0</td>\n",
              "      <td>1</td>\n",
              "      <td>16.0</td>\n",
              "      <td>good</td>\n",
              "      <td>6</td>\n",
              "      <td>23</td>\n",
              "    </tr>\n",
              "    <tr>\n",
              "      <th>174</th>\n",
              "      <td>2019-06-24</td>\n",
              "      <td>23</td>\n",
              "      <td>16</td>\n",
              "      <td>21</td>\n",
              "      <td>17</td>\n",
              "      <td>18</td>\n",
              "      <td>23</td>\n",
              "      <td>14.1</td>\n",
              "      <td>90</td>\n",
              "      <td>8.500</td>\n",
              "      <td>1016</td>\n",
              "      <td>58.625</td>\n",
              "      <td>25</td>\n",
              "      <td>17</td>\n",
              "      <td>16</td>\n",
              "      <td>116</td>\n",
              "      <td>299</td>\n",
              "      <td>116</td>\n",
              "      <td>0</td>\n",
              "      <td>1</td>\n",
              "      <td>12.9</td>\n",
              "      <td>bad</td>\n",
              "      <td>6</td>\n",
              "      <td>24</td>\n",
              "    </tr>\n",
              "    <tr>\n",
              "      <th>175</th>\n",
              "      <td>2019-06-25</td>\n",
              "      <td>26</td>\n",
              "      <td>15</td>\n",
              "      <td>9</td>\n",
              "      <td>16</td>\n",
              "      <td>25</td>\n",
              "      <td>25</td>\n",
              "      <td>0.9</td>\n",
              "      <td>77</td>\n",
              "      <td>8.750</td>\n",
              "      <td>1020</td>\n",
              "      <td>33.250</td>\n",
              "      <td>28</td>\n",
              "      <td>19</td>\n",
              "      <td>21</td>\n",
              "      <td>143</td>\n",
              "      <td>116</td>\n",
              "      <td>116</td>\n",
              "      <td>0</td>\n",
              "      <td>1</td>\n",
              "      <td>16.0</td>\n",
              "      <td>good</td>\n",
              "      <td>6</td>\n",
              "      <td>25</td>\n",
              "    </tr>\n",
              "    <tr>\n",
              "      <th>176</th>\n",
              "      <td>2019-06-26</td>\n",
              "      <td>31</td>\n",
              "      <td>19</td>\n",
              "      <td>23</td>\n",
              "      <td>21</td>\n",
              "      <td>29</td>\n",
              "      <td>31</td>\n",
              "      <td>0.0</td>\n",
              "      <td>79</td>\n",
              "      <td>10.000</td>\n",
              "      <td>1020</td>\n",
              "      <td>20.000</td>\n",
              "      <td>35</td>\n",
              "      <td>24</td>\n",
              "      <td>25</td>\n",
              "      <td>116</td>\n",
              "      <td>116</td>\n",
              "      <td>116</td>\n",
              "      <td>0</td>\n",
              "      <td>1</td>\n",
              "      <td>16.0</td>\n",
              "      <td>good</td>\n",
              "      <td>6</td>\n",
              "      <td>26</td>\n",
              "    </tr>\n",
              "    <tr>\n",
              "      <th>177</th>\n",
              "      <td>2019-06-27</td>\n",
              "      <td>34</td>\n",
              "      <td>23</td>\n",
              "      <td>18</td>\n",
              "      <td>23</td>\n",
              "      <td>31</td>\n",
              "      <td>34</td>\n",
              "      <td>0.0</td>\n",
              "      <td>71</td>\n",
              "      <td>10.000</td>\n",
              "      <td>1019</td>\n",
              "      <td>9.250</td>\n",
              "      <td>40</td>\n",
              "      <td>25</td>\n",
              "      <td>27</td>\n",
              "      <td>116</td>\n",
              "      <td>116</td>\n",
              "      <td>116</td>\n",
              "      <td>0</td>\n",
              "      <td>1</td>\n",
              "      <td>15.9</td>\n",
              "      <td>not good not bad</td>\n",
              "      <td>6</td>\n",
              "      <td>27</td>\n",
              "    </tr>\n",
              "    <tr>\n",
              "      <th>178</th>\n",
              "      <td>2019-06-28</td>\n",
              "      <td>34</td>\n",
              "      <td>25</td>\n",
              "      <td>13</td>\n",
              "      <td>25</td>\n",
              "      <td>33</td>\n",
              "      <td>32</td>\n",
              "      <td>0.0</td>\n",
              "      <td>77</td>\n",
              "      <td>9.750</td>\n",
              "      <td>1017</td>\n",
              "      <td>23.375</td>\n",
              "      <td>40</td>\n",
              "      <td>25</td>\n",
              "      <td>28</td>\n",
              "      <td>200</td>\n",
              "      <td>122</td>\n",
              "      <td>116</td>\n",
              "      <td>0</td>\n",
              "      <td>1</td>\n",
              "      <td>15.9</td>\n",
              "      <td>not good not bad</td>\n",
              "      <td>6</td>\n",
              "      <td>28</td>\n",
              "    </tr>\n",
              "    <tr>\n",
              "      <th>179</th>\n",
              "      <td>2019-06-29</td>\n",
              "      <td>32</td>\n",
              "      <td>18</td>\n",
              "      <td>18</td>\n",
              "      <td>24</td>\n",
              "      <td>32</td>\n",
              "      <td>24</td>\n",
              "      <td>0.0</td>\n",
              "      <td>73</td>\n",
              "      <td>9.375</td>\n",
              "      <td>1016</td>\n",
              "      <td>4.000</td>\n",
              "      <td>36</td>\n",
              "      <td>23</td>\n",
              "      <td>29</td>\n",
              "      <td>116</td>\n",
              "      <td>113</td>\n",
              "      <td>113</td>\n",
              "      <td>0</td>\n",
              "      <td>1</td>\n",
              "      <td>15.9</td>\n",
              "      <td>good</td>\n",
              "      <td>6</td>\n",
              "      <td>29</td>\n",
              "    </tr>\n",
              "    <tr>\n",
              "      <th>180</th>\n",
              "      <td>2019-06-30</td>\n",
              "      <td>26</td>\n",
              "      <td>16</td>\n",
              "      <td>10</td>\n",
              "      <td>17</td>\n",
              "      <td>23</td>\n",
              "      <td>25</td>\n",
              "      <td>0.7</td>\n",
              "      <td>68</td>\n",
              "      <td>9.250</td>\n",
              "      <td>1020</td>\n",
              "      <td>50.250</td>\n",
              "      <td>26</td>\n",
              "      <td>16</td>\n",
              "      <td>19</td>\n",
              "      <td>176</td>\n",
              "      <td>116</td>\n",
              "      <td>116</td>\n",
              "      <td>0</td>\n",
              "      <td>1</td>\n",
              "      <td>15.6</td>\n",
              "      <td>good</td>\n",
              "      <td>6</td>\n",
              "      <td>30</td>\n",
              "    </tr>\n",
              "  </tbody>\n",
              "</table>\n",
              "</div>"
            ],
            "text/plain": [
              "          DATE  MAX_TEMPERATURE_C  ...  MONTH  DAY\n",
              "151 2019-06-01                 29  ...      6    1\n",
              "152 2019-06-02                 23  ...      6    2\n",
              "153 2019-06-03                 20  ...      6    3\n",
              "154 2019-06-04                 19  ...      6    4\n",
              "155 2019-06-05                 16  ...      6    5\n",
              "156 2019-06-06                 18  ...      6    6\n",
              "157 2019-06-07                 15  ...      6    7\n",
              "158 2019-06-08                 18  ...      6    8\n",
              "159 2019-06-09                 16  ...      6    9\n",
              "160 2019-06-10                 17  ...      6   10\n",
              "161 2019-06-11                 15  ...      6   11\n",
              "162 2019-06-12                 16  ...      6   12\n",
              "163 2019-06-13                 18  ...      6   13\n",
              "164 2019-06-14                 19  ...      6   14\n",
              "165 2019-06-15                 18  ...      6   15\n",
              "166 2019-06-16                 19  ...      6   16\n",
              "167 2019-06-17                 25  ...      6   17\n",
              "168 2019-06-18                 28  ...      6   18\n",
              "169 2019-06-19                 20  ...      6   19\n",
              "170 2019-06-20                 20  ...      6   20\n",
              "171 2019-06-21                 20  ...      6   21\n",
              "172 2019-06-22                 23  ...      6   22\n",
              "173 2019-06-23                 27  ...      6   23\n",
              "174 2019-06-24                 23  ...      6   24\n",
              "175 2019-06-25                 26  ...      6   25\n",
              "176 2019-06-26                 31  ...      6   26\n",
              "177 2019-06-27                 34  ...      6   27\n",
              "178 2019-06-28                 34  ...      6   28\n",
              "179 2019-06-29                 32  ...      6   29\n",
              "180 2019-06-30                 26  ...      6   30\n",
              "\n",
              "[30 rows x 24 columns]"
            ]
          },
          "metadata": {},
          "execution_count": 23
        }
      ]
    }
  ]
}