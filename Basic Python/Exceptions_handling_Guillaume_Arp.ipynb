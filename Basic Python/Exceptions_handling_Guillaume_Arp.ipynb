{
  "nbformat": 4,
  "nbformat_minor": 0,
  "metadata": {
    "colab": {
      "name": "Exceptions handling - Guillaume Arp.ipynb",
      "provenance": [],
      "collapsed_sections": [],
      "include_colab_link": true
    },
    "kernelspec": {
      "name": "python3",
      "display_name": "Python 3"
    },
    "language_info": {
      "name": "python"
    }
  },
  "cells": [
    {
      "cell_type": "markdown",
      "metadata": {
        "id": "view-in-github",
        "colab_type": "text"
      },
      "source": [
        "<a href=\"https://colab.research.google.com/github/GuillaumeArp/Wild_Notebooks/blob/main/Exceptions_handling_Guillaume_Arp.ipynb\" target=\"_parent\"><img src=\"https://colab.research.google.com/assets/colab-badge.svg\" alt=\"Open In Colab\"/></a>"
      ]
    },
    {
      "cell_type": "markdown",
      "metadata": {
        "id": "ZU6qSUveywPs"
      },
      "source": [
        "You must correct each of the scripts below **using exception handling** and **without modifying lists**."
      ]
    },
    {
      "cell_type": "markdown",
      "metadata": {
        "id": "PcSLELHnzb-X"
      },
      "source": [
        "Script number 1"
      ]
    },
    {
      "cell_type": "code",
      "metadata": {
        "id": "IAZK21ekypZP",
        "colab": {
          "base_uri": "https://localhost:8080/"
        },
        "outputId": "0f56d7c0-4f81-4dca-8532-fbda1b1fae4e"
      },
      "source": [
        "# list_integers = [1, 12, -45, 6, 27, 0, 24]\n",
        "# for i in list_integers:\n",
        "#   print(1/x)\n",
        "\n",
        "\n",
        "list_integers = [1, 12, -45, 6, 27, 0, 24]\n",
        "for i in list_integers:\n",
        "  try:\n",
        "    print(1/x)\n",
        "  except NameError:\n",
        "    try:\n",
        "      print(1/i)\n",
        "    except ZeroDivisionError:\n",
        "      print(\"You can't divide by 0\")\n"
      ],
      "execution_count": null,
      "outputs": [
        {
          "output_type": "stream",
          "name": "stdout",
          "text": [
            "1.0\n",
            "0.08333333333333333\n",
            "-0.022222222222222223\n",
            "0.16666666666666666\n",
            "0.037037037037037035\n",
            "You can't divide by 0\n",
            "0.041666666666666664\n"
          ]
        }
      ]
    },
    {
      "cell_type": "markdown",
      "metadata": {
        "id": "LeIVc9eqzezV"
      },
      "source": [
        "Script number 2"
      ]
    },
    {
      "cell_type": "code",
      "metadata": {
        "id": "L6DRkiD6zgy_",
        "colab": {
          "base_uri": "https://localhost:8080/"
        },
        "outputId": "6a4543f8-a0bb-48ef-f251-dd0356541bd5"
      },
      "source": [
        "# list_integers = [1, 12, -45, 6, 27, 24]\n",
        "# for i in range(10):\n",
        "#   print(1/list_integers[i])\n",
        "\n",
        "list_integers = [1, 12, -45, 6, 27, 24]\n",
        "for i in range(10):\n",
        "  try:\n",
        "    print(1/list_integers[i])\n",
        "  except IndexError:\n",
        "    break"
      ],
      "execution_count": null,
      "outputs": [
        {
          "output_type": "stream",
          "name": "stdout",
          "text": [
            "1.0\n",
            "0.08333333333333333\n",
            "-0.022222222222222223\n",
            "0.16666666666666666\n",
            "0.037037037037037035\n",
            "0.041666666666666664\n"
          ]
        }
      ]
    },
    {
      "cell_type": "markdown",
      "metadata": {
        "id": "afAY9AmOzx9r"
      },
      "source": [
        "Script number 3"
      ]
    },
    {
      "cell_type": "code",
      "metadata": {
        "id": "wV3ALP3yzzcc",
        "colab": {
          "base_uri": "https://localhost:8080/"
        },
        "outputId": "9f24c7e4-1829-448c-df6f-4ce6678460e0"
      },
      "source": [
        "# list_integers = [1, 12, -45, 6, 27, 0, 24]\n",
        "# for i in range(10):\n",
        "#   print(1/list_integers[i])\n",
        "\n",
        "\n",
        "list_integers = [1, 12, -45, 6, 27, 0, 24]\n",
        "for i in range(10):\n",
        "  try:\n",
        "    print(1/list_integers[i])\n",
        "  except ZeroDivisionError:\n",
        "    print(\"You can't divide by 0\")\n",
        "  except IndexError:\n",
        "    break\n",
        "  \n",
        "  "
      ],
      "execution_count": null,
      "outputs": [
        {
          "output_type": "stream",
          "name": "stdout",
          "text": [
            "1.0\n",
            "0.08333333333333333\n",
            "-0.022222222222222223\n",
            "0.16666666666666666\n",
            "0.037037037037037035\n",
            "You can't divide by 0\n",
            "0.041666666666666664\n"
          ]
        }
      ]
    },
    {
      "cell_type": "markdown",
      "metadata": {
        "id": "8eX8Pj7Wz4rn"
      },
      "source": [
        "Script number 4"
      ]
    },
    {
      "cell_type": "code",
      "metadata": {
        "id": "miobIaTyz62H",
        "colab": {
          "base_uri": "https://localhost:8080/"
        },
        "outputId": "a5118e77-8000-4848-8c8c-89180d29e95c"
      },
      "source": [
        "# list_words = ['hello', 'good morning', 'GOOD Evening', 34, 'Bye' ]\n",
        "# for word in list_words:\n",
        "#   print(word.upper())\n",
        "\n",
        "list_words = ['hello', 'good morning', 'GOOD Evening', 34, 'Bye' ]\n",
        "for word in list_words:\n",
        "  try:\n",
        "    print(word.upper())\n",
        "  except AttributeError:\n",
        "    word = str(word)\n",
        "    print(word.upper())"
      ],
      "execution_count": null,
      "outputs": [
        {
          "output_type": "stream",
          "name": "stdout",
          "text": [
            "HELLO\n",
            "GOOD MORNING\n",
            "GOOD EVENING\n",
            "34\n",
            "BYE\n"
          ]
        }
      ]
    }
  ]
}