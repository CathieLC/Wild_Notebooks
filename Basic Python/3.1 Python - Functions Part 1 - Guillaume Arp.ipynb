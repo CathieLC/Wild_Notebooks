{
  "nbformat": 4,
  "nbformat_minor": 0,
  "metadata": {
    "colab": {
      "name": "Helping Statisticians - EN - Part 1 - Guillaume Arp.ipynb",
      "provenance": [],
      "collapsed_sections": [],
      "include_colab_link": true
    },
    "kernelspec": {
      "name": "python3",
      "display_name": "Python 3"
    }
  },
  "cells": [
    {
      "cell_type": "markdown",
      "metadata": {
        "id": "view-in-github",
        "colab_type": "text"
      },
      "source": [
        "<a href=\"https://colab.research.google.com/github/GuillaumeArp/Wild_Notebooks/blob/main/Helping_Statisticians_EN_Part_1_Guillaume_Arp.ipynb\" target=\"_parent\"><img src=\"https://colab.research.google.com/assets/colab-badge.svg\" alt=\"Open In Colab\"/></a>"
      ]
    },
    {
      "cell_type": "markdown",
      "metadata": {
        "id": "co2X9cGIieV0"
      },
      "source": [
        "# Help for statisticians!\n",
        "\n",
        "Your fellow statisticians need you. They want to learn how to program in Python and have tons of calculations to do.\n",
        "\n",
        "Very kindly, you agree to help them. Complete the missions below."
      ]
    },
    {
      "cell_type": "markdown",
      "metadata": {
        "id": "rvnKhKV7CVoS"
      },
      "source": [
        "![Einstien le génie](https://wallup.net/wp-content/uploads/2018/09/30/201016-funny-albert-einstein-748x468.jpg)"
      ]
    },
    {
      "cell_type": "code",
      "metadata": {
        "id": "S4jmbgw-kWcj",
        "colab": {
          "base_uri": "https://localhost:8080/",
          "height": 35
        },
        "outputId": "4a5e2311-973d-44ca-b674-deb0baeaafd0"
      },
      "source": [
        "# Mission 1: Create a function that display the message \"Hello Python\".\n",
        "\n",
        "def hello():\n",
        "  return \"Hello Python\"\n",
        "\n",
        "hello()"
      ],
      "execution_count": null,
      "outputs": [
        {
          "output_type": "execute_result",
          "data": {
            "application/vnd.google.colaboratory.intrinsic+json": {
              "type": "string"
            },
            "text/plain": [
              "'Hello Python'"
            ]
          },
          "metadata": {},
          "execution_count": 23
        }
      ]
    },
    {
      "cell_type": "code",
      "metadata": {
        "id": "4rJVUEkNk5Oo",
        "colab": {
          "base_uri": "https://localhost:8080/"
        },
        "outputId": "c9eda08f-e08c-4b73-fa38-a156f048e12b"
      },
      "source": [
        "# Mission 2: Create a function that takes in 2 numbers as parameters, and indicates whether or not they are equal.\n",
        "\n",
        "def is_equal(num1, num2):\n",
        "  return num1 == num2\n",
        "\n",
        "is_equal(7, 9)"
      ],
      "execution_count": null,
      "outputs": [
        {
          "output_type": "execute_result",
          "data": {
            "text/plain": [
              "False"
            ]
          },
          "metadata": {},
          "execution_count": 24
        }
      ]
    },
    {
      "cell_type": "code",
      "metadata": {
        "id": "Q9X4m3D4h-xu"
      },
      "source": [
        "# Mission 3: Create a function that uses a while or for loop to display the \n",
        "# first 10 multiples of the given number.\n",
        "# For example if your input is 2 it will look like this: \n",
        "# 2, 4, 6, 8, 10, 12, 14, 16, 18, 20\n",
        "\n",
        "def first_ten_multiples(num):\n",
        "  result = \"\"\n",
        "  for i in range(1, 11):\n",
        "    result += str(i * num) + ', '\n",
        "  return result.rstrip(', ')\n",
        "   \n"
      ],
      "execution_count": null,
      "outputs": []
    },
    {
      "cell_type": "code",
      "metadata": {
        "id": "cyex-kjFj5XU",
        "colab": {
          "base_uri": "https://localhost:8080/",
          "height": 35
        },
        "outputId": "a527d571-d13e-4394-e0d7-e71f35ae0a12"
      },
      "source": [
        "first_ten_multiples(2)"
      ],
      "execution_count": null,
      "outputs": [
        {
          "output_type": "execute_result",
          "data": {
            "application/vnd.google.colaboratory.intrinsic+json": {
              "type": "string"
            },
            "text/plain": [
              "'2, 4, 6, 8, 10, 12, 14, 16, 18, 20'"
            ]
          },
          "metadata": {},
          "execution_count": 3
        }
      ]
    },
    {
      "cell_type": "code",
      "metadata": {
        "id": "Fe9kZrvklI0b",
        "colab": {
          "base_uri": "https://localhost:8080/",
          "height": 35
        },
        "outputId": "5ad734ca-23ed-4fb7-f675-28ee9a6438e8"
      },
      "source": [
        "# Mission 4: Create a while loop that displays the vowels of the longest word in English one after the other (i.e. horizontally, not one above \n",
        "# the other, i.e. vertically). The longest word in English is: \"antidisestablishmentarianism\"\n",
        "\n",
        "word = 'antidisestablishmentarianism'                                             # For the record, this would be MUCH simpler with a for loop instead.\n",
        "\n",
        "def longest_word_vowels(word):\n",
        "  count = 0\n",
        "  vowels = 'aeiou'\n",
        "  result = \"\"\n",
        "  while count < len(word):\n",
        "    if word[count] in vowels or word[count] in vowels.upper():\n",
        "      result += word[count]\n",
        "    count += 1\n",
        "  return result\n",
        "\n",
        "longest_word_vowels(word)"
      ],
      "execution_count": null,
      "outputs": [
        {
          "output_type": "execute_result",
          "data": {
            "application/vnd.google.colaboratory.intrinsic+json": {
              "type": "string"
            },
            "text/plain": [
              "'aiieaieaiai'"
            ]
          },
          "metadata": {},
          "execution_count": 26
        }
      ]
    },
    {
      "cell_type": "code",
      "metadata": {
        "id": "6hjrrDyUlN8o",
        "colab": {
          "base_uri": "https://localhost:8080/",
          "height": 35
        },
        "outputId": "d73dcc6d-2fe8-4567-a3f5-5b415105c40a"
      },
      "source": [
        "# Mission 5: Create a function that takes in 3 numbers as parameters, and carries out two mathematical operations (such as +, -, *, or /),\n",
        "# as in the examples below.\n",
        "# Then return the result of the applied operations. You will have to take into account a situation where division by zero is attempted.\n",
        "# Display a message that indicates whether the result is positive, negative or zero.\n",
        "# Example operations: \n",
        "# 0*32+2 = 2 \n",
        "# 21/0+3 > \"Error, you're trying to divide by zero\"\n",
        "\n",
        "\n",
        "def math_operation(num1, num2, num3):\n",
        "  try:\n",
        "    result = num1 / num2 + num3\n",
        "    if result > 0:\n",
        "      return f\"{result} - The result is positive\"\n",
        "    elif result < 0:\n",
        "      return f\"{result} - The result is negative\"\n",
        "    else:\n",
        "      return f\"{result} - The result is zero\"\n",
        "  except ZeroDivisionError:\n",
        "    return \"Error, you're trying to divide by zero\"\n",
        "\n",
        "math_operation(21, 2, 3)\n",
        "  "
      ],
      "execution_count": null,
      "outputs": [
        {
          "output_type": "execute_result",
          "data": {
            "application/vnd.google.colaboratory.intrinsic+json": {
              "type": "string"
            },
            "text/plain": [
              "'13.5 - The result is positive'"
            ]
          },
          "metadata": {},
          "execution_count": 1
        }
      ]
    },
    {
      "cell_type": "code",
      "metadata": {
        "id": "7b3JtuNClm4a",
        "colab": {
          "base_uri": "https://localhost:8080/"
        },
        "outputId": "0dd8bdbf-57c2-44dc-957b-912ddd159cda"
      },
      "source": [
        "# Mission 6: Create a function that takes 2 numbers as parameters, and returns the result of a division operation. \n",
        "# Test if the denominator is equal to 0 and if so, display a message that says: \"You can't divide by zero\".\n",
        "\n",
        "def divide(num1, num2):\n",
        "  if num2 == 0:\n",
        "    return \"You can't divide by zero\"\n",
        "  else:\n",
        "    return num1 / num2\n",
        "\n",
        "divide(5, 2)\n"
      ],
      "execution_count": null,
      "outputs": [
        {
          "output_type": "execute_result",
          "data": {
            "text/plain": [
              "2.5"
            ]
          },
          "metadata": {},
          "execution_count": 28
        }
      ]
    },
    {
      "cell_type": "code",
      "metadata": {
        "id": "r6DP6oTDmqfs",
        "colab": {
          "base_uri": "https://localhost:8080/"
        },
        "outputId": "88db17e3-6299-4227-d3e3-71b3d4e987a1"
      },
      "source": [
        "# Mission 7: Create a function that takes a number as a parameter that corresponds to gross salary and returns the net salary for executives.\n",
        "# You can specify any amount of deductions, or base them on your country's example\n",
        "\n",
        "def gross_to_net(num):                                                            # French approximate deduction for executives is about 23%\n",
        "  return num - (num * 23 /100)\n",
        "\n",
        "gross_to_net(3000)"
      ],
      "execution_count": null,
      "outputs": [
        {
          "output_type": "execute_result",
          "data": {
            "text/plain": [
              "2310.0"
            ]
          },
          "metadata": {},
          "execution_count": 29
        }
      ]
    },
    {
      "cell_type": "code",
      "metadata": {
        "id": "MyF5hG_hm1np",
        "colab": {
          "base_uri": "https://localhost:8080/"
        },
        "outputId": "8b78e861-0848-4de3-c37d-40fbcdae93ca"
      },
      "source": [
        "# Mission 8: Create a function that can swap the values of any 2 variables, such as if variable A = 1 and variable B = 2, \n",
        "# after applying the function, variable A = 2 and variable B = 1\n",
        "\n",
        "def var_swap(a, b):\n",
        "  a, b = b, a\n",
        "  return a, b\n",
        "\n",
        "var_swap(\"variable A\", \"variable B\")"
      ],
      "execution_count": null,
      "outputs": [
        {
          "output_type": "execute_result",
          "data": {
            "text/plain": [
              "('variable B', 'variable A')"
            ]
          },
          "metadata": {},
          "execution_count": 30
        }
      ]
    }
  ]
}