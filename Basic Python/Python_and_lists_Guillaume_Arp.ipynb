{
  "nbformat": 4,
  "nbformat_minor": 0,
  "metadata": {
    "colab": {
      "name": "Python and lists - Guillaume Arp.ipynb",
      "provenance": [],
      "collapsed_sections": [],
      "include_colab_link": true
    },
    "kernelspec": {
      "name": "python3",
      "display_name": "Python 3"
    }
  },
  "cells": [
    {
      "cell_type": "markdown",
      "metadata": {
        "id": "view-in-github",
        "colab_type": "text"
      },
      "source": [
        "<a href=\"https://colab.research.google.com/github/GuillaumeArp/Wild_Notebooks/blob/main/Python_and_lists_Guillaume_Arp.ipynb\" target=\"_parent\"><img src=\"https://colab.research.google.com/assets/colab-badge.svg\" alt=\"Open In Colab\"/></a>"
      ]
    },
    {
      "cell_type": "markdown",
      "metadata": {
        "id": "LoJw-LlCTnWF"
      },
      "source": [
        "# Mission 1\n",
        "\n",
        "Create a script that takes a list and displays only the elements (and their position) that have positions that are even (0, 2, 4, 6...).\n",
        "\n",
        "Example list = [\"a\", \"b\", \"c\", \"d\", \"e\"], the script should return : \n",
        "- a position 0\n",
        "- c position 2\n",
        "- e position 4"
      ]
    },
    {
      "cell_type": "code",
      "metadata": {
        "id": "C2Lk113KSPUO"
      },
      "source": [
        "                                                                                  # Function that checks if the index of each element is even, and prints it\n",
        "\n",
        "def list_even_position(lst):\n",
        "  for i in range(len(lst)):\n",
        "    if i % 2 == 0:\n",
        "      print(str(lst[i]) + \" position \" + str(i))"
      ],
      "execution_count": null,
      "outputs": []
    },
    {
      "cell_type": "code",
      "metadata": {
        "colab": {
          "base_uri": "https://localhost:8080/"
        },
        "id": "omgwDkBAsrS4",
        "outputId": "c170f80c-ecf3-45f0-e6a7-b1559fa6beca"
      },
      "source": [
        "list_even_position([\"a\", \"b\", \"c\", \"d\", \"e\", \"f\", \"g\"])"
      ],
      "execution_count": null,
      "outputs": [
        {
          "output_type": "stream",
          "name": "stdout",
          "text": [
            "a position 0\n",
            "c position 2\n",
            "e position 4\n",
            "g position 6\n"
          ]
        }
      ]
    },
    {
      "cell_type": "markdown",
      "metadata": {
        "id": "J3bsGIvAT049"
      },
      "source": [
        "# Mission 2\n",
        "\n",
        "We have a list. Create a script to replace the value of an element with another simply by indicating its position.\n",
        "\n",
        "For example, we want to change the value of the third element of the list below:"
      ]
    },
    {
      "cell_type": "code",
      "metadata": {
        "id": "Fy1OmPSUXNaP"
      },
      "source": [
        "                                                                                  # Function that converts the required position into an index, and replaces that list item\n",
        "\n",
        "example = ['hello', 'good morning', 'bye bye', 'have a good day']\n",
        "\n",
        "def replace_list_item(lst, position, replacement):\n",
        "  lst[position-1] = replacement\n",
        "  return lst"
      ],
      "execution_count": null,
      "outputs": []
    },
    {
      "cell_type": "code",
      "metadata": {
        "colab": {
          "base_uri": "https://localhost:8080/"
        },
        "id": "O5GzNbk3tUpo",
        "outputId": "a3a3f49c-f56f-40ab-e856-0ea306d43acd"
      },
      "source": [
        "replace_list_item(example, 3, \"I <3 Python\")"
      ],
      "execution_count": null,
      "outputs": [
        {
          "output_type": "execute_result",
          "data": {
            "text/plain": [
              "['hello', 'good morning', 'I <3 Python', 'have a good day']"
            ]
          },
          "metadata": {},
          "execution_count": 54
        }
      ]
    },
    {
      "cell_type": "markdown",
      "metadata": {
        "id": "dVl36lvlWLdV"
      },
      "source": [
        "# Mission 3\n",
        "\n",
        "Create a list, then add an element to the end of a list and remove the first element so that the list stays the same size."
      ]
    },
    {
      "cell_type": "code",
      "metadata": {
        "id": "pN3_mD4YSPfb"
      },
      "source": [
        "                                                                                  # Function that adds an item to the end, and removes the first item of the list\n",
        "\n",
        "def lst_edit_same_size(lst, to_add):\n",
        "  lst.append(to_add)\n",
        "  lst.pop(0)\n",
        "  return lst"
      ],
      "execution_count": null,
      "outputs": []
    },
    {
      "cell_type": "code",
      "metadata": {
        "colab": {
          "base_uri": "https://localhost:8080/"
        },
        "id": "7MtDwZKVv_oz",
        "outputId": "aafc4a6b-33c7-42ec-a274-fb26914fb72c"
      },
      "source": [
        "lst_edit_same_size([1, 2, 3, 4, 5, 6, 7], 8)"
      ],
      "execution_count": null,
      "outputs": [
        {
          "output_type": "execute_result",
          "data": {
            "text/plain": [
              "[2, 3, 4, 5, 6, 7, 8]"
            ]
          },
          "metadata": {},
          "execution_count": 56
        }
      ]
    },
    {
      "cell_type": "markdown",
      "metadata": {
        "id": "GCvpkWzXXPTf"
      },
      "source": [
        "# Mission 4\n",
        "\n",
        "Create a script that does the same thing as the insert method, but at a random position."
      ]
    },
    {
      "cell_type": "code",
      "metadata": {
        "id": "QjLMjogySPk_"
      },
      "source": [
        "                                                                                  # Function that usees the random module to get an randomized index, and use it to insert an item at this index\n",
        "\n",
        "from random import randint\n",
        "\n",
        "def lst_random_insert(lst, to_add):\n",
        "  random_index = randint(0, len(lst) -1)\n",
        "  lst.insert(random_index, to_add)\n",
        "  return lst"
      ],
      "execution_count": null,
      "outputs": []
    },
    {
      "cell_type": "code",
      "metadata": {
        "colab": {
          "base_uri": "https://localhost:8080/"
        },
        "id": "-9dG7EZWzFUO",
        "outputId": "03ec32fe-d859-476e-f412-264ce990436b"
      },
      "source": [
        "lst_random_insert([1, 2, 3, 4, 5, 6, 7], 99)"
      ],
      "execution_count": null,
      "outputs": [
        {
          "output_type": "execute_result",
          "data": {
            "text/plain": [
              "[1, 2, 99, 3, 4, 5, 6, 7]"
            ]
          },
          "metadata": {},
          "execution_count": 10
        }
      ]
    },
    {
      "cell_type": "markdown",
      "metadata": {
        "id": "V8ZS3aECXvuZ"
      },
      "source": [
        "# Mission 5\n",
        "\n",
        "Create a script that does the same thing as the pop method for a list containing only characters. The difference is that this function displays a message indicating the number of characters that are identical to the deleted character and still remain in the list. In other words, if there were 3 \"b\" in the list, and one has just been deleted by your function, the script will display \"there are still 2 letters b\"."
      ]
    },
    {
      "cell_type": "code",
      "metadata": {
        "id": "ph_j97PoSPmU"
      },
      "source": [
        "                                                                                  # Function thatchecks if the character to remove is in the list, and then removes the first occurence of that character, and count how many more remain\n",
        "\n",
        "def character_removal(lst_chars, to_remove):\n",
        "  \n",
        "  # Check if character is in list\n",
        "  if to_remove not in lst_chars:\n",
        "    return f\"The letter {to_remove} isn't in the list\"\n",
        "  char_index = lst_chars.index(to_remove)\n",
        "  lst_chars.pop(char_index)\n",
        "  count = lst_chars.count(to_remove)\n",
        "  if count == 0:\n",
        "    return f\"There is no more letter {to_remove} in the list\"\n",
        "  elif count == 1:\n",
        "    return f\"There is still {count} letter {to_remove}\"\n",
        "  else:\n",
        "    return f\"There are still {count} letters {to_remove}\""
      ],
      "execution_count": null,
      "outputs": []
    },
    {
      "cell_type": "code",
      "metadata": {
        "colab": {
          "base_uri": "https://localhost:8080/",
          "height": 35
        },
        "id": "hcK_MukZHdoz",
        "outputId": "97ccc769-8f48-4765-a14f-659033863f13"
      },
      "source": [
        "character_removal([\"a\", \"b\", \"c\", \"c\", \"c\", \"a\", \"d\", \"e\"], \"a\")"
      ],
      "execution_count": null,
      "outputs": [
        {
          "output_type": "execute_result",
          "data": {
            "application/vnd.google.colaboratory.intrinsic+json": {
              "type": "string"
            },
            "text/plain": [
              "'There is still 1 letter a'"
            ]
          },
          "metadata": {},
          "execution_count": 72
        }
      ]
    },
    {
      "cell_type": "markdown",
      "metadata": {
        "id": "geMLdrvAYHKx"
      },
      "source": [
        "# Mission 6\n",
        "\n",
        "Create a script with 3 lists, and indicates the two that are \"closest\". That is to say, the two that have the most elements in common."
      ]
    },
    {
      "cell_type": "code",
      "metadata": {
        "id": "1-cenx3RSPpq"
      },
      "source": [
        "                                                                                  # Function that compares lists two by two, and then returns which two have the most items in common\n",
        "\n",
        "def lst_compare(lst1, lst2, lst3):\n",
        "  # Create new lists that only populate with common items\n",
        "  compare_1_2 = len([x for x in lst1 if x in lst2])\n",
        "  compare_1_3 = len([x for x in lst1 if x in lst3])\n",
        "  compare_2_3 = len([x for x in lst2 if x in lst3])\n",
        "  # Returns a string depending on which is greater\n",
        "  if compare_1_2 >= compare_1_3 and compare_1_2 >= compare_2_3:\n",
        "    return \"The first and second lists are the closest\"\n",
        "  elif compare_1_3 >= compare_1_2 and compare_1_3 >= compare_2_3:\n",
        "    return \"The first and third lists are the closest\"\n",
        "  elif compare_1_3 == compare_1_2 and compare_1_3 == compare_2_3:\n",
        "    return \"All the lists have the same amount of common items\"\n",
        "  else:\n",
        "    return \"The second and third lists are the closest\""
      ],
      "execution_count": null,
      "outputs": []
    },
    {
      "cell_type": "code",
      "metadata": {
        "colab": {
          "base_uri": "https://localhost:8080/"
        },
        "id": "8Sh-5jtaWulW",
        "outputId": "23f9d753-1566-4fc7-e00e-bb67637c3676"
      },
      "source": [
        "lst1 = [1,2,3,4,5,6,7]\n",
        "lst2 = [4,5,6,7,8,9,10]\n",
        "lst3 = [2,3,11,12,13,7]\n",
        "\n",
        "print(lst_compare(lst1, lst2, lst3))"
      ],
      "execution_count": null,
      "outputs": [
        {
          "output_type": "stream",
          "name": "stdout",
          "text": [
            "The first and second lists are the closest\n"
          ]
        }
      ]
    },
    {
      "cell_type": "markdown",
      "metadata": {
        "id": "Ygonr8C4pEgg"
      },
      "source": [
        "# Mission 7\n",
        "\n",
        "Create a script that displays all the items in a list of int from smallest to the largest. In other words, a script that sorts the list from smallest to largest."
      ]
    },
    {
      "cell_type": "code",
      "metadata": {
        "id": "dlRdqxco5r8U"
      },
      "source": [
        "                                                                                  # Function that returns a sorted version of the input list\n",
        "\n",
        "def lst_sort(lst):\n",
        "  return sorted(lst)"
      ],
      "execution_count": null,
      "outputs": []
    },
    {
      "cell_type": "code",
      "metadata": {
        "id": "dtzQhbNAittI",
        "colab": {
          "base_uri": "https://localhost:8080/"
        },
        "outputId": "ae706d05-c541-411b-8101-7b81caf7d4a9"
      },
      "source": [
        "print(lst_sort([3, 8, 5, 9, 1, 7]))"
      ],
      "execution_count": null,
      "outputs": [
        {
          "output_type": "stream",
          "name": "stdout",
          "text": [
            "[1, 3, 5, 7, 8, 9]\n"
          ]
        }
      ]
    }
  ]
}