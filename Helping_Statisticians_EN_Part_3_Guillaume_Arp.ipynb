{
  "nbformat": 4,
  "nbformat_minor": 0,
  "metadata": {
    "colab": {
      "name": "Helping Statisticians - EN - Part 3 - Guillaume Arp.ipynb",
      "provenance": [],
      "collapsed_sections": [],
      "include_colab_link": true
    },
    "kernelspec": {
      "name": "python3",
      "display_name": "Python 3"
    }
  },
  "cells": [
    {
      "cell_type": "markdown",
      "metadata": {
        "id": "view-in-github",
        "colab_type": "text"
      },
      "source": [
        "<a href=\"https://colab.research.google.com/github/GuillaumeArp/Wild_Notebooks/blob/main/Helping_Statisticians_EN_Part_3_Guillaume_Arp.ipynb\" target=\"_parent\"><img src=\"https://colab.research.google.com/assets/colab-badge.svg\" alt=\"Open In Colab\"/></a>"
      ]
    },
    {
      "cell_type": "markdown",
      "metadata": {
        "id": "zsHobPhC3ffd"
      },
      "source": [
        "\n",
        "## Mathematical functions that need coding\n",
        "![Find x](https://www.mathwarehouse.com/jokes/images/find-x-funny-math-image-joke.webp)\n",
        "\n",
        "**Now the statisticians are begging you to code ready-made math functions for them. Below are the functions they use most often. Code the function in the cells below ;-) :**\n",
        "\n",
        "- Square of a number: Create a function that returns the square of a number.\n",
        "- Cube of a number: Create a function that returns the cube of a number.\n",
        "- Absolute value: Create a function that returns the absolute value of a number.\n",
        "- Factorial of a number: Create a function that returns the factorial of a number.\n",
        "- Mode of a list of numbers: Create a function that returns the mode of a list of numbers.\n",
        "- Average of a list of numbers: Create a function that returns the average of a list of numbers.\n",
        "- Minimum of a list of numbers: Create a function that returns the minimum from within a list of numbers.\n",
        "- Maximum of a list of numbers: Create a function that returns the maximum from within a list of numbers.\n",
        "\n",
        "**Yes, all those functions already exist in dedicated modules, and you may not reuse them, unfortunately: you may only use loops, conditionals, basic structures, `len`, addition, subtraction, multiplication, division and powers.**\n",
        "\n",
        "**Don't forget to test your functions with at least two possible cases!**"
      ]
    },
    {
      "cell_type": "code",
      "metadata": {
        "id": "LG06LRotlRyf",
        "colab": {
          "base_uri": "https://localhost:8080/"
        },
        "outputId": "b59378b9-47c7-4e8b-fa9d-cf69c0a9e249"
      },
      "source": [
        "# Function that returns the square of a number.\n",
        "\n",
        "def square_num(num):\n",
        "    return num ** 2\n",
        "\n",
        "square_num(3)"
      ],
      "execution_count": null,
      "outputs": [
        {
          "output_type": "execute_result",
          "data": {
            "text/plain": [
              "9"
            ]
          },
          "metadata": {},
          "execution_count": 5
        }
      ]
    },
    {
      "cell_type": "code",
      "metadata": {
        "colab": {
          "base_uri": "https://localhost:8080/"
        },
        "id": "EL8XMN3Glh7L",
        "outputId": "48e74ccc-2912-4c9b-928f-f67f413fe1b4"
      },
      "source": [
        "# Function that returns the cube of a number.\n",
        "\n",
        "def cube_num(num):\n",
        "    return num ** 3\n",
        "\n",
        "cube_num(3)"
      ],
      "execution_count": null,
      "outputs": [
        {
          "output_type": "execute_result",
          "data": {
            "text/plain": [
              "27"
            ]
          },
          "metadata": {},
          "execution_count": 6
        }
      ]
    },
    {
      "cell_type": "code",
      "metadata": {
        "colab": {
          "base_uri": "https://localhost:8080/"
        },
        "id": "sOGcYwTWlpOX",
        "outputId": "5304c7d5-17ed-4cb5-d44c-fc5d1188789e"
      },
      "source": [
        "# Function that returns the absolute value of a number.\n",
        "\n",
        "def abs_num(num):\n",
        "  if num > 0:\n",
        "    return num\n",
        "  else:\n",
        "    return -num\n",
        "\n",
        "abs_num(-8)"
      ],
      "execution_count": null,
      "outputs": [
        {
          "output_type": "execute_result",
          "data": {
            "text/plain": [
              "8"
            ]
          },
          "metadata": {},
          "execution_count": 3
        }
      ]
    },
    {
      "cell_type": "code",
      "metadata": {
        "colab": {
          "base_uri": "https://localhost:8080/"
        },
        "id": "lYz7Jp_1ouSp",
        "outputId": "6f339422-ca68-466b-8635-05658811bb78"
      },
      "source": [
        "# Function that returns the factorial of a number.\n",
        "\n",
        "def fact_num(num):\n",
        "  if num < 0:\n",
        "    factored_num = 0\n",
        "  elif num == 0 or num == 1:\n",
        "    factored_num = 1\n",
        "  else:\n",
        "    factored_num = 1\n",
        "    for i in range(1, num+1):\n",
        "      factored_num *= i\n",
        "  return factored_num\n",
        "\n",
        "fact_num(7)"
      ],
      "execution_count": null,
      "outputs": [
        {
          "output_type": "execute_result",
          "data": {
            "text/plain": [
              "5040"
            ]
          },
          "metadata": {},
          "execution_count": 2
        }
      ]
    },
    {
      "cell_type": "code",
      "metadata": {
        "colab": {
          "base_uri": "https://localhost:8080/"
        },
        "id": "BHCR324lpD-s",
        "outputId": "b9d634e9-ed45-43a9-b68e-09ce0a1a6b11"
      },
      "source": [
        "# Function that returns the mode of a list of numbers.\n",
        "\n",
        "test_list = [0,1,2,3,4,5,1,3,5,3,3,5,3,8,8,8,8,8,8,8,8,8,8]\n",
        "\n",
        "def mode_list(lst):\n",
        "  freq_table = {}\n",
        "  for i in lst:\n",
        "    if i in freq_table:\n",
        "      freq_table[i] += 1\n",
        "    else:\n",
        "      freq_table[i] = 1\n",
        "\n",
        "  max_count = 0\n",
        "  for j in freq_table.values():\n",
        "    if j > max_count:\n",
        "      max_count = j\n",
        "\n",
        "\n",
        "  for k, v in freq_table.items():\n",
        "    if v == max_count:\n",
        "      return k  \n",
        "\n",
        "mode_list(test_list)"
      ],
      "execution_count": null,
      "outputs": [
        {
          "output_type": "execute_result",
          "data": {
            "text/plain": [
              "8"
            ]
          },
          "metadata": {},
          "execution_count": 21
        }
      ]
    },
    {
      "cell_type": "code",
      "metadata": {
        "colab": {
          "base_uri": "https://localhost:8080/"
        },
        "id": "DJYP_N5qrmSa",
        "outputId": "09d4b91e-a9a0-4d78-b5d5-281a1f0294e7"
      },
      "source": [
        "# Function that returns the average of a list of numbers.\n",
        "\n",
        "test_list = [0, 1, 2, 3, 4, 5, 1, 3, 5, 3, 3, 5, 3]\n",
        "\n",
        "def avg_list(lst):\n",
        "  total = 0\n",
        "  for i in lst:\n",
        "    total += i\n",
        "\n",
        "  return total / len(lst)\n",
        "\n",
        "avg_list(test_list)"
      ],
      "execution_count": null,
      "outputs": [
        {
          "output_type": "execute_result",
          "data": {
            "text/plain": [
              "2.923076923076923"
            ]
          },
          "metadata": {},
          "execution_count": 11
        }
      ]
    },
    {
      "cell_type": "code",
      "metadata": {
        "colab": {
          "base_uri": "https://localhost:8080/"
        },
        "id": "AjkepwPmsGHL",
        "outputId": "b514d8c9-5447-45df-e0bb-fcd3543343bd"
      },
      "source": [
        "# Function that returns the minimum from within a list of numbers.\n",
        "\n",
        "test_list = [0, 1, 2, 3, 4, 5, 1, 3, 5, 3, 3, 5, 3, 8, 846413165265]\n",
        "\n",
        "def min_list(lst):\n",
        "  item_min = 10 ** 38\n",
        "  for i in lst:\n",
        "    if i < item_min:\n",
        "      item_min = i\n",
        "\n",
        "  return item_min\n",
        "\n",
        "min_list(test_list)"
      ],
      "execution_count": null,
      "outputs": [
        {
          "output_type": "execute_result",
          "data": {
            "text/plain": [
              "0"
            ]
          },
          "metadata": {},
          "execution_count": 19
        }
      ]
    },
    {
      "cell_type": "code",
      "metadata": {
        "colab": {
          "base_uri": "https://localhost:8080/"
        },
        "id": "QVzW5LmfsKEn",
        "outputId": "a84f8ec7-b634-4eda-da47-3ec26d33914e"
      },
      "source": [
        "# Function that returns the maximum from within a list of numbers.\n",
        "\n",
        "test_list = [0, 1, 2, 3, 4, 5, 1, 3, 5, 3, 3, 5, 3, 8, -849614665655464652, 6468468438456846876453413456846]\n",
        "\n",
        "def max_list(lst):\n",
        "  item_max = -10 ** 38\n",
        "  for i in lst:\n",
        "    if i > item_max:\n",
        "      item_max = i\n",
        "\n",
        "  return item_max\n",
        "\n",
        "max_list(test_list)"
      ],
      "execution_count": null,
      "outputs": [
        {
          "output_type": "execute_result",
          "data": {
            "text/plain": [
              "6468468438456846876453413456846"
            ]
          },
          "metadata": {},
          "execution_count": 18
        }
      ]
    }
  ]
}