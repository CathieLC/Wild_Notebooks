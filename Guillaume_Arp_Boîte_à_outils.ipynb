{
  "nbformat": 4,
  "nbformat_minor": 0,
  "metadata": {
    "colab": {
      "name": "Guillaume Arp - Boîte à outils.ipynb",
      "provenance": [],
      "collapsed_sections": [],
      "authorship_tag": "ABX9TyMIoF9+OXZzMP64llROA1jt",
      "include_colab_link": true
    },
    "kernelspec": {
      "name": "python3",
      "display_name": "Python 3"
    },
    "language_info": {
      "name": "python"
    }
  },
  "cells": [
    {
      "cell_type": "markdown",
      "metadata": {
        "id": "view-in-github",
        "colab_type": "text"
      },
      "source": [
        "<a href=\"https://colab.research.google.com/github/GuillaumeArp/Wild_Notebooks/blob/main/Guillaume_Arp_Bo%C3%AEte_%C3%A0_outils.ipynb\" target=\"_parent\"><img src=\"https://colab.research.google.com/assets/colab-badge.svg\" alt=\"Open In Colab\"/></a>"
      ]
    },
    {
      "cell_type": "markdown",
      "metadata": {
        "id": "qdUCvBrG5p42"
      },
      "source": [
        "# Boite à outils des 10 fonctions les plus utiles #"
      ]
    },
    {
      "cell_type": "code",
      "metadata": {
        "id": "l2TCMDQY58XM",
        "colab": {
          "base_uri": "https://localhost:8080/"
        },
        "outputId": "55deb124-e372-4915-ed48-1ea0c8c8cc6b"
      },
      "source": [
        "# 1. Fonction len()\n",
        "\n",
        "# Cette fonction retourne le nombre d'éléments d'un objet de type str ou list\n",
        "# Cette fonction accepte un seul argument, une liste ou un string.\n",
        "\n",
        "exemple_string = 'Hello, world!'\n",
        "exemple_list = [1, 4, 7, 10, 15, 23, 31, 39]\n",
        "\n",
        "print(len(exemple_string))\n",
        "print(len(exemple_list))\n",
        "\n",
        "# Cette fonction très simple est incroyablement utile, pas uniquement en data,\n",
        "# notamment afin de pouvoir itérer sur le nombre d'éléments d'un objet\n",
        "# plutôt que sur l'objet lui même.\n",
        "\n"
      ],
      "execution_count": null,
      "outputs": [
        {
          "output_type": "stream",
          "name": "stdout",
          "text": [
            "13\n",
            "8\n"
          ]
        }
      ]
    },
    {
      "cell_type": "code",
      "metadata": {
        "colab": {
          "base_uri": "https://localhost:8080/"
        },
        "id": "ymzVacSJ4Nav",
        "outputId": "fbfc2893-966d-4a7e-d9e9-528f56359066"
      },
      "source": [
        "# 2. Méthode str.strip()\n",
        "\n",
        "# Cette méthode de la classe str a pour but d'éléminer par défaut les espaces\n",
        "# en trop au début et à la fin des strings, résultant des problèmes de\n",
        "# transcodage. Cela facilite notamment le nettoyage des données.\n",
        "# Cette méthode accepte un argument optionnel permettant de définir un autre\n",
        "# caractère, ou string, à retirer en début et fin de string.\n",
        "\n",
        "exemple_list = ['   Hello, world!   ', ' Ces données sont mal formatées  ',\n",
        "                '   Cela fausse l\\'usage de len() par exemple     ']\n",
        "\n",
        "exemple_list_strip = []\n",
        "for i in exemple_list:\n",
        "  exemple_list_strip.append(i.strip())\n",
        "\n",
        "print(exemple_list_strip)\n",
        "  "
      ],
      "execution_count": null,
      "outputs": [
        {
          "output_type": "stream",
          "name": "stdout",
          "text": [
            "['Hello, world!', 'Ces données sont mal formatées', \"Cela fausse l'usage de len() par exemple\"]\n"
          ]
        }
      ]
    },
    {
      "cell_type": "code",
      "metadata": {
        "colab": {
          "base_uri": "https://localhost:8080/"
        },
        "id": "-GVPjYIF3NMb",
        "outputId": "2bcade18-b959-41c6-b705-cb52e9b848f7"
      },
      "source": [
        "# 3. Fonction range()\n",
        "\n",
        "# Cette fonction retourne un objet produisant une séquence d'entiers allant du\n",
        "# premier chiffre (inclusif) au dernier (exclusive) avec un espacement donné.\n",
        "# La fonction accepte 3 paramètres, start, stop et step, dont seul stop est\n",
        "# requis. Start permet de déterminer le nombre de départ, et step l'espacement.\n",
        "# A noter que range() en tant que tel ne retourne pas de list, il doit être\n",
        "# converti ensuite si on souhaite l'exploiter en tant que variable.\n",
        "\n",
        "range_simple = range(2, 18, 2)\n",
        "range_list = list(range_simple)\n",
        "\n",
        "print(range_simple)\n",
        "print(range_list)"
      ],
      "execution_count": null,
      "outputs": [
        {
          "output_type": "stream",
          "name": "stdout",
          "text": [
            "range(2, 18, 2)\n",
            "[2, 4, 6, 8, 10, 12, 14, 16]\n"
          ]
        }
      ]
    },
    {
      "cell_type": "code",
      "metadata": {
        "colab": {
          "base_uri": "https://localhost:8080/"
        },
        "id": "CYetP5w7-nww",
        "outputId": "941aae19-0f44-47e4-ef11-6ae81373c035"
      },
      "source": [
        "# 4. Méthode list.append()\n",
        "\n",
        "# Cette méthode de la classe list permet d'ajouter un élément à la fin d'une\n",
        "# liste existante. Cette méthode accepte un unique argument, l'objet à ajouter\n",
        "# à la fin de la liste en question.\n",
        "# Cela permet de remplir ou agrandir une liste existante, par exemple dans une\n",
        "# boucle, avec des conditions.\n",
        "\n",
        "sample_list = [1, 2, 3]\n",
        "sample_list.append(99)\n",
        "sample_list"
      ],
      "execution_count": null,
      "outputs": [
        {
          "output_type": "execute_result",
          "data": {
            "text/plain": [
              "[1, 2, 3, 99]"
            ]
          },
          "metadata": {},
          "execution_count": 10
        }
      ]
    },
    {
      "cell_type": "code",
      "metadata": {
        "colab": {
          "base_uri": "https://localhost:8080/"
        },
        "id": "tKhzZILV_NKu",
        "outputId": "9a9f3721-23be-419c-cc3a-b03db302ce12"
      },
      "source": [
        "# 5. Fonction round()\n",
        "\n",
        "# Cette fonction retourne un nombre arrondi. Pour ce faire, elle accepte\n",
        "# deux arguments, le nombre à arrondir, et le niveau d'arrondi. Par défaut,\n",
        "# ce 2e argument est de None et la fonction retourne dans ce cas un entier.\n",
        "# Si le 2e argument ndigits est positif, l'arrondi se fait sur ce nombre de\n",
        "# décimales. S'il est négatif, il va arrondir à la dizaine, centaine, etc, la\n",
        "# plus proche.\n",
        "\n",
        "test_number = 195473.63214569\n",
        "print(round(test_number))\n",
        "print(round(test_number, 2))\n",
        "print(round(test_number, -3))"
      ],
      "execution_count": null,
      "outputs": [
        {
          "output_type": "stream",
          "name": "stdout",
          "text": [
            "195474\n",
            "195473.63\n",
            "195000.0\n"
          ]
        }
      ]
    },
    {
      "cell_type": "code",
      "metadata": {
        "colab": {
          "base_uri": "https://localhost:8080/"
        },
        "id": "BlZRA5ZWCWBd",
        "outputId": "d4527b3a-d706-400e-a405-9fadcd1d2368"
      },
      "source": [
        "# 6. Méthode list.sort()\n",
        "\n",
        "# Cette méthode de la classe list transforme la liste passée en argument\n",
        "# en triant ses éléments, par ordre croissant ou décroissant pour des nombres,\n",
        "# ou par ordre alphabétique ou inversé pour des strings.\n",
        "# Cette méthode accepte deux arguments facultatifs, key et reverse. Par défaut\n",
        "# key=None et reverse=False. Le paramètre key permet d'appliquer une fonction\n",
        "# qui servira de base au tri à la place du croissant ou alphabétique, alors que\n",
        "# reverse trie simplement en sense inverse si réglé sur True.\n",
        "\n",
        "test_list_string = [\"bee\", \"wasp\", \"butterfly\"]\n",
        "test_list_string_2 = [\"bee\", \"wasp\", \"moth\", \"ant\"]\n",
        "test_list_int = [1, 3, 8, 4, 2, 7, 5, 6]\n",
        "\n",
        "test_list_string_2.sort()\n",
        "print(test_list_string_2)\n",
        "\n",
        "test_list_int.sort(reverse=True)\n",
        "print(test_list_int)\n",
        "\n",
        "test_list_string.sort(key=len)  # Le tri ici se fera sur la longueur des strings\n",
        "print(test_list_string)"
      ],
      "execution_count": null,
      "outputs": [
        {
          "output_type": "stream",
          "name": "stdout",
          "text": [
            "['ant', 'bee', 'moth', 'wasp']\n",
            "[8, 7, 6, 5, 4, 3, 2, 1]\n",
            "['bee', 'wasp', 'butterfly']\n"
          ]
        }
      ]
    },
    {
      "cell_type": "code",
      "metadata": {
        "colab": {
          "base_uri": "https://localhost:8080/"
        },
        "id": "E7bZrClcJDMJ",
        "outputId": "4341ec09-6ab8-4bcb-a42c-43c902d685a3"
      },
      "source": [
        "# 7. Fonction sorted()\n",
        "\n",
        "# Cette fonction fonctionne sur le même principe que la méthode list.sort()\n",
        "# mais ne transforme pas l'objet passé en argument, elle en retourne une version\n",
        "# triée à la place. Si utilisé sur un string, cela retourne une liste de strings.\n",
        "# La fonction accepte 3 arguments, le premier est l'objet itérable à trier,\n",
        "# les deux autres sont facultatifs et identiques à la méthode .sort(), à savoir\n",
        "# key et reverse\n",
        "\n",
        "test_string = \"wild code school\"\n",
        "test_list_int = [1, 3, 8, 4, 2, 7, 5, 6]\n",
        "\n",
        "sorted_string = sorted(test_string)\n",
        "print(sorted_string)\n",
        "print(test_string)\n",
        "\n",
        "sorted_list_int = sorted(test_list_int, reverse=True)\n",
        "print(sorted_list_int)\n",
        "print(test_list_int)"
      ],
      "execution_count": null,
      "outputs": [
        {
          "output_type": "stream",
          "name": "stdout",
          "text": [
            "[' ', ' ', 'c', 'c', 'd', 'd', 'e', 'h', 'i', 'l', 'l', 'o', 'o', 'o', 's', 'w']\n",
            "wild code school\n",
            "[8, 7, 6, 5, 4, 3, 2, 1]\n",
            "[1, 3, 8, 4, 2, 7, 5, 6]\n"
          ]
        }
      ]
    },
    {
      "cell_type": "code",
      "metadata": {
        "colab": {
          "base_uri": "https://localhost:8080/"
        },
        "id": "atNADETALS2c",
        "outputId": "ebbc16fb-340c-4563-b022-a484b5d44d07"
      },
      "source": [
        "# 8. Méthode dict.items()\n",
        "\n",
        "# Cette méthode retourne une liste de tuples correspondant aux paires key, value\n",
        "# d'un dictionnaire. Son utilité première est de pouvoir itérer sur tous les\n",
        "# éléments du dictionnaire dans une même boucle (en utilisant un tuple de 2 \n",
        "# variables en itérateur, par exemple k, v).\n",
        "\n",
        "test_dict = { 'apple': 2, 'orange': 3, 'grapes': 4 }\n",
        "print(test_dict)\n",
        "\n",
        "# A noter que le fonctionnement est très proche des méthodes .keys() et \n",
        "# .values(), qui eux retournent uniquement la liste des clés, ou des valeurs."
      ],
      "execution_count": null,
      "outputs": [
        {
          "output_type": "stream",
          "name": "stdout",
          "text": [
            "{'apple': 2, 'orange': 3, 'grapes': 4}\n"
          ]
        }
      ]
    },
    {
      "cell_type": "code",
      "metadata": {
        "colab": {
          "base_uri": "https://localhost:8080/"
        },
        "id": "JxrfGM_Ps_R2",
        "outputId": "8d7f9c1c-1531-41be-a89e-914f19d91f62"
      },
      "source": [
        "# 9 Fonction help()\n",
        "\n",
        "# Pour finir, la fonction sans laquelle cette boite à outils n'aurait pas été\n",
        "# possible. Cette fonction accepte une autre fonction (sans ()) en argument, et\n",
        "# affiche la documentation de la fonction en question. Outre le côté pratique,\n",
        "# qui permet d'avoir une information rapide sans forcément devoir ouvrir la doc,\n",
        "# utiliser help() permet également de réaliser à quel point il est important\n",
        "# de documenter nos propres fonctions, et d'écrire un docstring complet.\n",
        "\n",
        "help(sorted)"
      ],
      "execution_count": null,
      "outputs": [
        {
          "output_type": "stream",
          "name": "stdout",
          "text": [
            "Help on built-in function sorted in module builtins:\n",
            "\n",
            "sorted(iterable, /, *, key=None, reverse=False)\n",
            "    Return a new list containing all items from the iterable in ascending order.\n",
            "    \n",
            "    A custom key function can be supplied to customize the sort order, and the\n",
            "    reverse flag can be set to request the result in descending order.\n",
            "\n"
          ]
        }
      ]
    },
    {
      "cell_type": "code",
      "metadata": {
        "colab": {
          "base_uri": "https://localhost:8080/"
        },
        "id": "oyqTdKRUzwZ2",
        "outputId": "2521403f-30dd-4349-b755-18f5409dd9d4"
      },
      "source": [
        "# Méthode str.format()\n",
        "\n",
        "# La dernière méthode est l'une des plus utiles quand on veut retourner un\n",
        "# résultat combinant string et variables, et évite d'avoir à concaténer des\n",
        "# strings, ce qui est vite difficile à gérer quand il y a plusieurs variables.\n",
        "# Cela permet également d'intégrer des variables qui ne sont pas des strings\n",
        "# sans devoir leur assigner manuellement le type str.\n",
        "# La méthode accepte autant d'arguments que de variables à insérer dans le\n",
        "# string. Chaque variable doit être placée dans le string avec {}, et les\n",
        "# arguments de la méthode vont ensuite insérer les variables dans l'ordre.\n",
        "\n",
        "cat_name = 'Rayure'\n",
        "cat_age = 6\n",
        "\n",
        "print(\"Mon chat s'appelle {} et a {} ans.\".format(cat_name, cat_age))\n",
        "\n",
        "# A noter enfin que cette méthode tombe un peu en désuétude depuis Python 3.6\n",
        "# et l'ajout du f-string, qui permet de formater le string sans aucune méthode.\n",
        "\n",
        "print(f\"Mon chat préféré s'appelle {cat_name} et elle a {cat_age} ans.\")"
      ],
      "execution_count": null,
      "outputs": [
        {
          "output_type": "stream",
          "name": "stdout",
          "text": [
            "Mon chat s'appelle Rayure et a 6 ans.\n",
            "Mon chat préféré s'appelle Rayure et elle a 6 ans.\n"
          ]
        }
      ]
    },
    {
      "cell_type": "code",
      "metadata": {
        "id": "F8Xxq6qCJSOx"
      },
      "source": [
        ""
      ],
      "execution_count": null,
      "outputs": []
    }
  ]
}